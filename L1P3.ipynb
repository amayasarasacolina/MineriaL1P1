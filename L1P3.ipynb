{
  "nbformat": 4,
  "nbformat_minor": 0,
  "metadata": {
    "colab": {
      "provenance": [],
      "include_colab_link": true
    },
    "kernelspec": {
      "name": "python3",
      "display_name": "Python 3"
    },
    "language_info": {
      "name": "python"
    },
    "accelerator": "GPU",
    "gpuClass": "standard"
  },
  "cells": [
    {
      "cell_type": "markdown",
      "metadata": {
        "id": "view-in-github",
        "colab_type": "text"
      },
      "source": [
        "<a href=\"https://colab.research.google.com/github/amayasarasacolina/MineriaL1P1/blob/main/L1P3.ipynb\" target=\"_parent\"><img src=\"https://colab.research.google.com/assets/colab-badge.svg\" alt=\"Open In Colab\"/></a>"
      ]
    },
    {
      "cell_type": "markdown",
      "source": [
        "PILAR ARIAS, YEDRA MARTÍN, PATRICIA MEDIAVILLA, AMAYA SARASA\n",
        "\n",
        "<GRUPO 9>"
      ],
      "metadata": {
        "id": "XWBPsCctY6uL"
      }
    },
    {
      "cell_type": "markdown",
      "source": [
        "#Practica 3\n",
        "\n",
        "##INTRODUCCIÓN"
      ],
      "metadata": {
        "id": "SbrBj9GFZHlP"
      }
    },
    {
      "cell_type": "markdown",
      "source": [
        "Esta es la tercera práctica del primer laboratorio. Dada una base de datos en formato .csv, se nos pide contestar a una serie de cuestiones. Para ello, lo primero que debemos hacer es cargar y leer la base de datos:"
      ],
      "metadata": {
        "id": "LpWM5i-6ZLvm"
      }
    },
    {
      "cell_type": "code",
      "source": [
        "#Importamos las librerías y la base de datos necesarias\n",
        "\n",
        "import numpy as np #numpy\n",
        "import pandas as pd #pandas\n",
        "import sklearn as sk #scikit-learn\n",
        "import matplotlib.pyplot as plt #gráfica Matplotlib\n",
        "\n",
        "df = pd.read_csv('pokemon.csv',sep=',')\n",
        "df.info()\n",
        "df"
      ],
      "metadata": {
        "colab": {
          "base_uri": "https://localhost:8080/",
          "height": 625
        },
        "id": "ayRpp6ySZXJw",
        "outputId": "f27b3c5a-dce2-4ebc-bf5a-2fe17b34bf3c"
      },
      "execution_count": 1,
      "outputs": [
        {
          "output_type": "stream",
          "name": "stdout",
          "text": [
            "<class 'pandas.core.frame.DataFrame'>\n",
            "RangeIndex: 20 entries, 0 to 19\n",
            "Data columns (total 8 columns):\n",
            " #   Column            Non-Null Count  Dtype \n",
            "---  ------            --------------  ----- \n",
            " 0   Pokémon           20 non-null     object\n",
            " 1   Tipo              20 non-null     object\n",
            " 2   PS                20 non-null     int64 \n",
            " 3   Ataque            20 non-null     int64 \n",
            " 4   Defensa           20 non-null     int64 \n",
            " 5   Ataque especial   20 non-null     int64 \n",
            " 6   Defensa especial  20 non-null     int64 \n",
            " 7   Velocidad         20 non-null     int64 \n",
            "dtypes: int64(6), object(2)\n",
            "memory usage: 1.4+ KB\n"
          ]
        },
        {
          "output_type": "execute_result",
          "data": {
            "text/plain": [
              "       Pokémon       Tipo  PS  Ataque  Defensa  Ataque especial  \\\n",
              "0   TYPHLOSION      Fuego   2       3        2                4   \n",
              "1       PONYTA      Fuego   2       3        2                2   \n",
              "2      TORKOAL      Fuego   2       3        4                3   \n",
              "3     ARCANINE      Fuego   3       5        3                4   \n",
              "4      STARMIE       Agua   2       3        3                4   \n",
              "5       PALKIA       Agua   3       4        3                5   \n",
              "6      MILOTIC       Agua   3       2        2                4   \n",
              "7    AZUMARILL       Agua   3       2        2                2   \n",
              "8      LEAFEON     Planta   2       4        4                2   \n",
              "9    ABOMASNOW     Planta   3       3        2                3   \n",
              "10     CHERUBI     Planta   1       1        2                2   \n",
              "11     BRELOOM     Planta   2       4        2                2   \n",
              "12     JOLTEON  Eléctrico   2       2        2                4   \n",
              "13   MAGNEZONE  Eléctrico   2       3        3                5   \n",
              "14     PIKACHU  Eléctrico   1       2        1                2   \n",
              "15    AMPHAROS  Eléctrico   3       3        3                5   \n",
              "16    DUSKNOIR   Fantasma   1       3        4                2   \n",
              "17    JIRATINA   Fantasma   4       4        3                4   \n",
              "18   SPIRITOMB   Fantasma   2       3        3                3   \n",
              "19      GENGAR   Fantasma   2       2        2                5   \n",
              "\n",
              "    Defensa especial  Velocidad  \n",
              "0                  2          4  \n",
              "1                  2          3  \n",
              "2                  2          1  \n",
              "3                  3          4  \n",
              "4                  2          4  \n",
              "5                  3          4  \n",
              "6                  3          3  \n",
              "7                  2          2  \n",
              "8                  2          3  \n",
              "9                  2          2  \n",
              "10                 1          1  \n",
              "11                 2          3  \n",
              "12                 3          5  \n",
              "13                 2          2  \n",
              "14                 1          3  \n",
              "15                 4          3  \n",
              "16                 4          2  \n",
              "17                 3          3  \n",
              "18                 3          1  \n",
              "19                 2          4  "
            ],
            "text/html": [
              "\n",
              "  <div id=\"df-5042c4ff-a82c-4c7c-b567-30f008dce1fe\">\n",
              "    <div class=\"colab-df-container\">\n",
              "      <div>\n",
              "<style scoped>\n",
              "    .dataframe tbody tr th:only-of-type {\n",
              "        vertical-align: middle;\n",
              "    }\n",
              "\n",
              "    .dataframe tbody tr th {\n",
              "        vertical-align: top;\n",
              "    }\n",
              "\n",
              "    .dataframe thead th {\n",
              "        text-align: right;\n",
              "    }\n",
              "</style>\n",
              "<table border=\"1\" class=\"dataframe\">\n",
              "  <thead>\n",
              "    <tr style=\"text-align: right;\">\n",
              "      <th></th>\n",
              "      <th>Pokémon</th>\n",
              "      <th>Tipo</th>\n",
              "      <th>PS</th>\n",
              "      <th>Ataque</th>\n",
              "      <th>Defensa</th>\n",
              "      <th>Ataque especial</th>\n",
              "      <th>Defensa especial</th>\n",
              "      <th>Velocidad</th>\n",
              "    </tr>\n",
              "  </thead>\n",
              "  <tbody>\n",
              "    <tr>\n",
              "      <th>0</th>\n",
              "      <td>TYPHLOSION</td>\n",
              "      <td>Fuego</td>\n",
              "      <td>2</td>\n",
              "      <td>3</td>\n",
              "      <td>2</td>\n",
              "      <td>4</td>\n",
              "      <td>2</td>\n",
              "      <td>4</td>\n",
              "    </tr>\n",
              "    <tr>\n",
              "      <th>1</th>\n",
              "      <td>PONYTA</td>\n",
              "      <td>Fuego</td>\n",
              "      <td>2</td>\n",
              "      <td>3</td>\n",
              "      <td>2</td>\n",
              "      <td>2</td>\n",
              "      <td>2</td>\n",
              "      <td>3</td>\n",
              "    </tr>\n",
              "    <tr>\n",
              "      <th>2</th>\n",
              "      <td>TORKOAL</td>\n",
              "      <td>Fuego</td>\n",
              "      <td>2</td>\n",
              "      <td>3</td>\n",
              "      <td>4</td>\n",
              "      <td>3</td>\n",
              "      <td>2</td>\n",
              "      <td>1</td>\n",
              "    </tr>\n",
              "    <tr>\n",
              "      <th>3</th>\n",
              "      <td>ARCANINE</td>\n",
              "      <td>Fuego</td>\n",
              "      <td>3</td>\n",
              "      <td>5</td>\n",
              "      <td>3</td>\n",
              "      <td>4</td>\n",
              "      <td>3</td>\n",
              "      <td>4</td>\n",
              "    </tr>\n",
              "    <tr>\n",
              "      <th>4</th>\n",
              "      <td>STARMIE</td>\n",
              "      <td>Agua</td>\n",
              "      <td>2</td>\n",
              "      <td>3</td>\n",
              "      <td>3</td>\n",
              "      <td>4</td>\n",
              "      <td>2</td>\n",
              "      <td>4</td>\n",
              "    </tr>\n",
              "    <tr>\n",
              "      <th>5</th>\n",
              "      <td>PALKIA</td>\n",
              "      <td>Agua</td>\n",
              "      <td>3</td>\n",
              "      <td>4</td>\n",
              "      <td>3</td>\n",
              "      <td>5</td>\n",
              "      <td>3</td>\n",
              "      <td>4</td>\n",
              "    </tr>\n",
              "    <tr>\n",
              "      <th>6</th>\n",
              "      <td>MILOTIC</td>\n",
              "      <td>Agua</td>\n",
              "      <td>3</td>\n",
              "      <td>2</td>\n",
              "      <td>2</td>\n",
              "      <td>4</td>\n",
              "      <td>3</td>\n",
              "      <td>3</td>\n",
              "    </tr>\n",
              "    <tr>\n",
              "      <th>7</th>\n",
              "      <td>AZUMARILL</td>\n",
              "      <td>Agua</td>\n",
              "      <td>3</td>\n",
              "      <td>2</td>\n",
              "      <td>2</td>\n",
              "      <td>2</td>\n",
              "      <td>2</td>\n",
              "      <td>2</td>\n",
              "    </tr>\n",
              "    <tr>\n",
              "      <th>8</th>\n",
              "      <td>LEAFEON</td>\n",
              "      <td>Planta</td>\n",
              "      <td>2</td>\n",
              "      <td>4</td>\n",
              "      <td>4</td>\n",
              "      <td>2</td>\n",
              "      <td>2</td>\n",
              "      <td>3</td>\n",
              "    </tr>\n",
              "    <tr>\n",
              "      <th>9</th>\n",
              "      <td>ABOMASNOW</td>\n",
              "      <td>Planta</td>\n",
              "      <td>3</td>\n",
              "      <td>3</td>\n",
              "      <td>2</td>\n",
              "      <td>3</td>\n",
              "      <td>2</td>\n",
              "      <td>2</td>\n",
              "    </tr>\n",
              "    <tr>\n",
              "      <th>10</th>\n",
              "      <td>CHERUBI</td>\n",
              "      <td>Planta</td>\n",
              "      <td>1</td>\n",
              "      <td>1</td>\n",
              "      <td>2</td>\n",
              "      <td>2</td>\n",
              "      <td>1</td>\n",
              "      <td>1</td>\n",
              "    </tr>\n",
              "    <tr>\n",
              "      <th>11</th>\n",
              "      <td>BRELOOM</td>\n",
              "      <td>Planta</td>\n",
              "      <td>2</td>\n",
              "      <td>4</td>\n",
              "      <td>2</td>\n",
              "      <td>2</td>\n",
              "      <td>2</td>\n",
              "      <td>3</td>\n",
              "    </tr>\n",
              "    <tr>\n",
              "      <th>12</th>\n",
              "      <td>JOLTEON</td>\n",
              "      <td>Eléctrico</td>\n",
              "      <td>2</td>\n",
              "      <td>2</td>\n",
              "      <td>2</td>\n",
              "      <td>4</td>\n",
              "      <td>3</td>\n",
              "      <td>5</td>\n",
              "    </tr>\n",
              "    <tr>\n",
              "      <th>13</th>\n",
              "      <td>MAGNEZONE</td>\n",
              "      <td>Eléctrico</td>\n",
              "      <td>2</td>\n",
              "      <td>3</td>\n",
              "      <td>3</td>\n",
              "      <td>5</td>\n",
              "      <td>2</td>\n",
              "      <td>2</td>\n",
              "    </tr>\n",
              "    <tr>\n",
              "      <th>14</th>\n",
              "      <td>PIKACHU</td>\n",
              "      <td>Eléctrico</td>\n",
              "      <td>1</td>\n",
              "      <td>2</td>\n",
              "      <td>1</td>\n",
              "      <td>2</td>\n",
              "      <td>1</td>\n",
              "      <td>3</td>\n",
              "    </tr>\n",
              "    <tr>\n",
              "      <th>15</th>\n",
              "      <td>AMPHAROS</td>\n",
              "      <td>Eléctrico</td>\n",
              "      <td>3</td>\n",
              "      <td>3</td>\n",
              "      <td>3</td>\n",
              "      <td>5</td>\n",
              "      <td>4</td>\n",
              "      <td>3</td>\n",
              "    </tr>\n",
              "    <tr>\n",
              "      <th>16</th>\n",
              "      <td>DUSKNOIR</td>\n",
              "      <td>Fantasma</td>\n",
              "      <td>1</td>\n",
              "      <td>3</td>\n",
              "      <td>4</td>\n",
              "      <td>2</td>\n",
              "      <td>4</td>\n",
              "      <td>2</td>\n",
              "    </tr>\n",
              "    <tr>\n",
              "      <th>17</th>\n",
              "      <td>JIRATINA</td>\n",
              "      <td>Fantasma</td>\n",
              "      <td>4</td>\n",
              "      <td>4</td>\n",
              "      <td>3</td>\n",
              "      <td>4</td>\n",
              "      <td>3</td>\n",
              "      <td>3</td>\n",
              "    </tr>\n",
              "    <tr>\n",
              "      <th>18</th>\n",
              "      <td>SPIRITOMB</td>\n",
              "      <td>Fantasma</td>\n",
              "      <td>2</td>\n",
              "      <td>3</td>\n",
              "      <td>3</td>\n",
              "      <td>3</td>\n",
              "      <td>3</td>\n",
              "      <td>1</td>\n",
              "    </tr>\n",
              "    <tr>\n",
              "      <th>19</th>\n",
              "      <td>GENGAR</td>\n",
              "      <td>Fantasma</td>\n",
              "      <td>2</td>\n",
              "      <td>2</td>\n",
              "      <td>2</td>\n",
              "      <td>5</td>\n",
              "      <td>2</td>\n",
              "      <td>4</td>\n",
              "    </tr>\n",
              "  </tbody>\n",
              "</table>\n",
              "</div>\n",
              "      <button class=\"colab-df-convert\" onclick=\"convertToInteractive('df-5042c4ff-a82c-4c7c-b567-30f008dce1fe')\"\n",
              "              title=\"Convert this dataframe to an interactive table.\"\n",
              "              style=\"display:none;\">\n",
              "        \n",
              "  <svg xmlns=\"http://www.w3.org/2000/svg\" height=\"24px\"viewBox=\"0 0 24 24\"\n",
              "       width=\"24px\">\n",
              "    <path d=\"M0 0h24v24H0V0z\" fill=\"none\"/>\n",
              "    <path d=\"M18.56 5.44l.94 2.06.94-2.06 2.06-.94-2.06-.94-.94-2.06-.94 2.06-2.06.94zm-11 1L8.5 8.5l.94-2.06 2.06-.94-2.06-.94L8.5 2.5l-.94 2.06-2.06.94zm10 10l.94 2.06.94-2.06 2.06-.94-2.06-.94-.94-2.06-.94 2.06-2.06.94z\"/><path d=\"M17.41 7.96l-1.37-1.37c-.4-.4-.92-.59-1.43-.59-.52 0-1.04.2-1.43.59L10.3 9.45l-7.72 7.72c-.78.78-.78 2.05 0 2.83L4 21.41c.39.39.9.59 1.41.59.51 0 1.02-.2 1.41-.59l7.78-7.78 2.81-2.81c.8-.78.8-2.07 0-2.86zM5.41 20L4 18.59l7.72-7.72 1.47 1.35L5.41 20z\"/>\n",
              "  </svg>\n",
              "      </button>\n",
              "      \n",
              "  <style>\n",
              "    .colab-df-container {\n",
              "      display:flex;\n",
              "      flex-wrap:wrap;\n",
              "      gap: 12px;\n",
              "    }\n",
              "\n",
              "    .colab-df-convert {\n",
              "      background-color: #E8F0FE;\n",
              "      border: none;\n",
              "      border-radius: 50%;\n",
              "      cursor: pointer;\n",
              "      display: none;\n",
              "      fill: #1967D2;\n",
              "      height: 32px;\n",
              "      padding: 0 0 0 0;\n",
              "      width: 32px;\n",
              "    }\n",
              "\n",
              "    .colab-df-convert:hover {\n",
              "      background-color: #E2EBFA;\n",
              "      box-shadow: 0px 1px 2px rgba(60, 64, 67, 0.3), 0px 1px 3px 1px rgba(60, 64, 67, 0.15);\n",
              "      fill: #174EA6;\n",
              "    }\n",
              "\n",
              "    [theme=dark] .colab-df-convert {\n",
              "      background-color: #3B4455;\n",
              "      fill: #D2E3FC;\n",
              "    }\n",
              "\n",
              "    [theme=dark] .colab-df-convert:hover {\n",
              "      background-color: #434B5C;\n",
              "      box-shadow: 0px 1px 3px 1px rgba(0, 0, 0, 0.15);\n",
              "      filter: drop-shadow(0px 1px 2px rgba(0, 0, 0, 0.3));\n",
              "      fill: #FFFFFF;\n",
              "    }\n",
              "  </style>\n",
              "\n",
              "      <script>\n",
              "        const buttonEl =\n",
              "          document.querySelector('#df-5042c4ff-a82c-4c7c-b567-30f008dce1fe button.colab-df-convert');\n",
              "        buttonEl.style.display =\n",
              "          google.colab.kernel.accessAllowed ? 'block' : 'none';\n",
              "\n",
              "        async function convertToInteractive(key) {\n",
              "          const element = document.querySelector('#df-5042c4ff-a82c-4c7c-b567-30f008dce1fe');\n",
              "          const dataTable =\n",
              "            await google.colab.kernel.invokeFunction('convertToInteractive',\n",
              "                                                     [key], {});\n",
              "          if (!dataTable) return;\n",
              "\n",
              "          const docLinkHtml = 'Like what you see? Visit the ' +\n",
              "            '<a target=\"_blank\" href=https://colab.research.google.com/notebooks/data_table.ipynb>data table notebook</a>'\n",
              "            + ' to learn more about interactive tables.';\n",
              "          element.innerHTML = '';\n",
              "          dataTable['output_type'] = 'display_data';\n",
              "          await google.colab.output.renderOutput(dataTable, element);\n",
              "          const docLink = document.createElement('div');\n",
              "          docLink.innerHTML = docLinkHtml;\n",
              "          element.appendChild(docLink);\n",
              "        }\n",
              "      </script>\n",
              "    </div>\n",
              "  </div>\n",
              "  "
            ]
          },
          "metadata": {},
          "execution_count": 1
        }
      ]
    },
    {
      "cell_type": "markdown",
      "source": [
        "Subimos la base de datos, df.info nos aporta la infomación que contiene la base de datos, vemos las variables, el tipo de las variables con las que trabajamos... y .head vamos a ver que forma tiene la base de datos.\n",
        "\n",
        "Según se ha estudiado en clase, encontramos dos métodos para afrontarlo. Nos decantaremos por CRISP-DM. Las siglas para: CRoss-Industry Standard Process for Data Mining. \n",
        "\n",
        "Es un modelo de proceso de minería de datos que se utiliza en la industria. Es un marco de trabajo que define un proceso estandarizado para llevar a cabo proyectos de minería de datos, desde la definición del problema hasta la implementación y evaluación del resultado."
      ],
      "metadata": {
        "id": "vRnX6KYjaXh3"
      }
    },
    {
      "cell_type": "markdown",
      "source": [
        "## Comprensión del negocio y definición del problema.\n",
        "\n",
        "Esta práctica en concreto consiste en un problema de 7 dimensiones, intentar reducir la dimensionalidad pero quedandonos con la mayor información posible, esto se consigue siguendo un método llamado, Análisis de componentes principales.\n",
        "\n",
        "Para ello haremos uso de un dataset que se puede encontrar en Moodle.\n"
      ],
      "metadata": {
        "id": "VLwEXlk8bHnz"
      }
    },
    {
      "cell_type": "markdown",
      "source": [
        "## Comprensión de los datos\n",
        "\n",
        "La base de datos que utilizaremos consta de 20 observaciones\n",
        "\n",
        "Existen 8 tipos de atributos distintos:\n",
        "- Pokemon:\n",
        "- Tipo (del pokemon, fuego, agua, planta, eléctrico, fantasma)\n",
        "- Ps (puntos de salud)\n",
        "- Ataque\n",
        "- Defensa\n",
        "- Ataque especial\n",
        "- Defensa especial\n",
        "- Velocidad (del pokemon)\n",
        "\n",
        "Como hemos explicado en el anterior paso de la motodología CRISP vamos a intentar reducir la dimensiones haciendo combianciones lineales de los 7 atributos.\n"
      ],
      "metadata": {
        "id": "s2mYcrzdamsf"
      }
    },
    {
      "cell_type": "markdown",
      "source": [
        "TENEMOS QUE HACER ESTO: normalizar los datos."
      ],
      "metadata": {
        "id": "evYVf-FHj53q"
      }
    },
    {
      "cell_type": "markdown",
      "source": [
        "##Preparación de los datos\n",
        "\n",
        "En esta base de datos, tenemos muy pocas observaciones y 8 atributos, por lo que a simple vista podemosver que no hay valores vacíos, no hay outliers...\n",
        "\n",
        "De hecho en el enunciado nos especifica que normalicemos los datos con el fin de no tener diferencias de rango para que no haya problemas para procesar la información. "
      ],
      "metadata": {
        "id": "m6Js3JFNj-4m"
      }
    },
    {
      "cell_type": "code",
      "source": [],
      "metadata": {
        "id": "7ToisnwWulek"
      },
      "execution_count": 1,
      "outputs": []
    },
    {
      "cell_type": "code",
      "source": [
        "#Importamos la librería necesaria para normalizar los datos\n",
        "from sklearn.preprocessing import StandardScaler\n",
        "#Seleccionamos los datos numéricos para la normalización de estos.\n",
        "df1 = df[['PS','Ataque','Defensa','Ataque especial','Defensa especial', 'Velocidad']]\n",
        "scaler = StandardScaler()\n",
        "df_array= scaler.fit(df1)\n",
        "df_norm_matriz = scaler.transform(df1)\n",
        "df_norm = pd.DataFrame(data = df_norm_matriz, columns = [\"PS\",\t\"Ataque\",\t\"Defensa\",\t\"Ataque especial\",\t\"Defensa especial\",\t\"Velocidad\"])\n"
      ],
      "metadata": {
        "id": "TyBrag6vkpDG"
      },
      "execution_count": 2,
      "outputs": []
    },
    {
      "cell_type": "markdown",
      "source": [
        "En la celda de arriba hemos normalizado los datos numéricos de nuestra base de datos, después hemos hecho uso de la herramienta que nos indican para la normalización de estos."
      ],
      "metadata": {
        "id": "2B7PgxH81iYg"
      }
    },
    {
      "cell_type": "markdown",
      "source": [
        "A continuación, "
      ],
      "metadata": {
        "id": "0GuvokTn2and"
      }
    },
    {
      "cell_type": "code",
      "source": [
        "df_cov = df_norm.cov()\n",
        "eigenvalues, eigenvectors=np.linalg.eig(df_cov)\n",
        "#Ordenamos de mayor a menor\n",
        "eigenvalues = np.sort(eigenvalues)[::-1]\n",
        "#calculamos el porcentaje de varianza\n",
        "porcent_var=eigenvalues*100/sum(eigenvalues)\n",
        "#calculamos el acumulado\n",
        "porcent_acumulado=np.zeros(len(porcent_var))\n",
        "porcent_acumulado[0]=porcent_var[0]\n",
        "for i in range (1,len(porcent_acumulado)):\n",
        "  porcent_acumulado[i]=porcent_acumulado[i-1]+porcent_var[i]\n",
        "#creamos un DataFrame con los datos\n",
        "df2 = pd.DataFrame({'Autovalores': eigenvalues, 'porcent_var': porcent_var,'porcent_acumulado': porcent_acumulado },index=[1,2, 3, 4, 5, 6])\n",
        "df2"
      ],
      "metadata": {
        "colab": {
          "base_uri": "https://localhost:8080/",
          "height": 164
        },
        "id": "GAHCxzR22jmH",
        "outputId": "d82ad98e-b187-49c6-c0e6-b9c8b519c0c8"
      },
      "execution_count": 3,
      "outputs": [
        {
          "output_type": "execute_result",
          "data": {
            "text/plain": [
              "   Autovalores  porcent_var  porcent_acumulado\n",
              "1     2.629979    41.641341          41.641341\n",
              "2     1.550661    24.552140          66.193481\n",
              "3     0.780824    12.363041          78.556522\n",
              "4     0.715521    11.329090          89.885612\n",
              "5     0.474598     7.514464          97.400076\n",
              "6     0.164206     2.599924         100.000000"
            ],
            "text/html": [
              "\n",
              "  <div id=\"df-dd630c2a-4014-4d3f-992f-967fb43f50d1\">\n",
              "    <div class=\"colab-df-container\">\n",
              "      <div>\n",
              "<style scoped>\n",
              "    .dataframe tbody tr th:only-of-type {\n",
              "        vertical-align: middle;\n",
              "    }\n",
              "\n",
              "    .dataframe tbody tr th {\n",
              "        vertical-align: top;\n",
              "    }\n",
              "\n",
              "    .dataframe thead th {\n",
              "        text-align: right;\n",
              "    }\n",
              "</style>\n",
              "<table border=\"1\" class=\"dataframe\">\n",
              "  <thead>\n",
              "    <tr style=\"text-align: right;\">\n",
              "      <th></th>\n",
              "      <th>Autovalores</th>\n",
              "      <th>porcent_var</th>\n",
              "      <th>porcent_acumulado</th>\n",
              "    </tr>\n",
              "  </thead>\n",
              "  <tbody>\n",
              "    <tr>\n",
              "      <th>1</th>\n",
              "      <td>2.629979</td>\n",
              "      <td>41.641341</td>\n",
              "      <td>41.641341</td>\n",
              "    </tr>\n",
              "    <tr>\n",
              "      <th>2</th>\n",
              "      <td>1.550661</td>\n",
              "      <td>24.552140</td>\n",
              "      <td>66.193481</td>\n",
              "    </tr>\n",
              "    <tr>\n",
              "      <th>3</th>\n",
              "      <td>0.780824</td>\n",
              "      <td>12.363041</td>\n",
              "      <td>78.556522</td>\n",
              "    </tr>\n",
              "    <tr>\n",
              "      <th>4</th>\n",
              "      <td>0.715521</td>\n",
              "      <td>11.329090</td>\n",
              "      <td>89.885612</td>\n",
              "    </tr>\n",
              "    <tr>\n",
              "      <th>5</th>\n",
              "      <td>0.474598</td>\n",
              "      <td>7.514464</td>\n",
              "      <td>97.400076</td>\n",
              "    </tr>\n",
              "    <tr>\n",
              "      <th>6</th>\n",
              "      <td>0.164206</td>\n",
              "      <td>2.599924</td>\n",
              "      <td>100.000000</td>\n",
              "    </tr>\n",
              "  </tbody>\n",
              "</table>\n",
              "</div>\n",
              "      <button class=\"colab-df-convert\" onclick=\"convertToInteractive('df-dd630c2a-4014-4d3f-992f-967fb43f50d1')\"\n",
              "              title=\"Convert this dataframe to an interactive table.\"\n",
              "              style=\"display:none;\">\n",
              "        \n",
              "  <svg xmlns=\"http://www.w3.org/2000/svg\" height=\"24px\"viewBox=\"0 0 24 24\"\n",
              "       width=\"24px\">\n",
              "    <path d=\"M0 0h24v24H0V0z\" fill=\"none\"/>\n",
              "    <path d=\"M18.56 5.44l.94 2.06.94-2.06 2.06-.94-2.06-.94-.94-2.06-.94 2.06-2.06.94zm-11 1L8.5 8.5l.94-2.06 2.06-.94-2.06-.94L8.5 2.5l-.94 2.06-2.06.94zm10 10l.94 2.06.94-2.06 2.06-.94-2.06-.94-.94-2.06-.94 2.06-2.06.94z\"/><path d=\"M17.41 7.96l-1.37-1.37c-.4-.4-.92-.59-1.43-.59-.52 0-1.04.2-1.43.59L10.3 9.45l-7.72 7.72c-.78.78-.78 2.05 0 2.83L4 21.41c.39.39.9.59 1.41.59.51 0 1.02-.2 1.41-.59l7.78-7.78 2.81-2.81c.8-.78.8-2.07 0-2.86zM5.41 20L4 18.59l7.72-7.72 1.47 1.35L5.41 20z\"/>\n",
              "  </svg>\n",
              "      </button>\n",
              "      \n",
              "  <style>\n",
              "    .colab-df-container {\n",
              "      display:flex;\n",
              "      flex-wrap:wrap;\n",
              "      gap: 12px;\n",
              "    }\n",
              "\n",
              "    .colab-df-convert {\n",
              "      background-color: #E8F0FE;\n",
              "      border: none;\n",
              "      border-radius: 50%;\n",
              "      cursor: pointer;\n",
              "      display: none;\n",
              "      fill: #1967D2;\n",
              "      height: 32px;\n",
              "      padding: 0 0 0 0;\n",
              "      width: 32px;\n",
              "    }\n",
              "\n",
              "    .colab-df-convert:hover {\n",
              "      background-color: #E2EBFA;\n",
              "      box-shadow: 0px 1px 2px rgba(60, 64, 67, 0.3), 0px 1px 3px 1px rgba(60, 64, 67, 0.15);\n",
              "      fill: #174EA6;\n",
              "    }\n",
              "\n",
              "    [theme=dark] .colab-df-convert {\n",
              "      background-color: #3B4455;\n",
              "      fill: #D2E3FC;\n",
              "    }\n",
              "\n",
              "    [theme=dark] .colab-df-convert:hover {\n",
              "      background-color: #434B5C;\n",
              "      box-shadow: 0px 1px 3px 1px rgba(0, 0, 0, 0.15);\n",
              "      filter: drop-shadow(0px 1px 2px rgba(0, 0, 0, 0.3));\n",
              "      fill: #FFFFFF;\n",
              "    }\n",
              "  </style>\n",
              "\n",
              "      <script>\n",
              "        const buttonEl =\n",
              "          document.querySelector('#df-dd630c2a-4014-4d3f-992f-967fb43f50d1 button.colab-df-convert');\n",
              "        buttonEl.style.display =\n",
              "          google.colab.kernel.accessAllowed ? 'block' : 'none';\n",
              "\n",
              "        async function convertToInteractive(key) {\n",
              "          const element = document.querySelector('#df-dd630c2a-4014-4d3f-992f-967fb43f50d1');\n",
              "          const dataTable =\n",
              "            await google.colab.kernel.invokeFunction('convertToInteractive',\n",
              "                                                     [key], {});\n",
              "          if (!dataTable) return;\n",
              "\n",
              "          const docLinkHtml = 'Like what you see? Visit the ' +\n",
              "            '<a target=\"_blank\" href=https://colab.research.google.com/notebooks/data_table.ipynb>data table notebook</a>'\n",
              "            + ' to learn more about interactive tables.';\n",
              "          element.innerHTML = '';\n",
              "          dataTable['output_type'] = 'display_data';\n",
              "          await google.colab.output.renderOutput(dataTable, element);\n",
              "          const docLink = document.createElement('div');\n",
              "          docLink.innerHTML = docLinkHtml;\n",
              "          element.appendChild(docLink);\n",
              "        }\n",
              "      </script>\n",
              "    </div>\n",
              "  </div>\n",
              "  "
            ]
          },
          "metadata": {},
          "execution_count": 3
        }
      ]
    },
    {
      "cell_type": "markdown",
      "source": [
        "Con dos componentes obtenemos un 66,19% de la información, por lo que estaríamos perdiendo un 33,8% de la información, algo más de 1/3 del total."
      ],
      "metadata": {
        "id": "Ijdhcr6--wDo"
      }
    },
    {
      "cell_type": "code",
      "source": [
        "#verifiquemos que la traza de la matriz S (la obtenemos con la función tracede Numpy)\n",
        "#es igual a la suma de los autovalores, que calculamos en el paso anterior.\n",
        "sum(eigenvalues)"
      ],
      "metadata": {
        "colab": {
          "base_uri": "https://localhost:8080/"
        },
        "id": "AmjUx95kgcn2",
        "outputId": "bd8041c4-84d9-4c76-dab3-80f2d9b87327"
      },
      "execution_count": 4,
      "outputs": [
        {
          "output_type": "execute_result",
          "data": {
            "text/plain": [
              "6.3157894736842115"
            ]
          },
          "metadata": {},
          "execution_count": 4
        }
      ]
    },
    {
      "cell_type": "code",
      "source": [
        "np.trace(df_cov)"
      ],
      "metadata": {
        "colab": {
          "base_uri": "https://localhost:8080/"
        },
        "id": "KF0REN1egrZk",
        "outputId": "3caeffdf-6b56-4808-b413-503e40a42b20"
      },
      "execution_count": 5,
      "outputs": [
        {
          "output_type": "execute_result",
          "data": {
            "text/plain": [
              "6.315789473684211"
            ]
          },
          "metadata": {},
          "execution_count": 5
        }
      ]
    },
    {
      "cell_type": "code",
      "source": [
        "eigenvalues, eigenvectors=np.linalg.eig(df_cov)\n",
        "for i in range(len(eigenvalues)):\n",
        "    if np.allclose(np.dot(df_cov, eigenvectors[:, i]), eigenvalues[i] * eigenvectors[:, i]):\n",
        "        print(\"El autovector {} es correcto\".format(i+1))\n",
        "    else:\n",
        "        print(\"El autovector {} no es correcto\".format(i+1))"
      ],
      "metadata": {
        "id": "RfZaxClxAkEE",
        "outputId": "fa817450-0e3d-4ef7-d17e-b13d683f9eeb",
        "colab": {
          "base_uri": "https://localhost:8080/"
        }
      },
      "execution_count": 6,
      "outputs": [
        {
          "output_type": "stream",
          "name": "stdout",
          "text": [
            "El autovector 1 es correcto\n",
            "El autovector 2 es correcto\n",
            "El autovector 3 es correcto\n",
            "El autovector 4 es correcto\n",
            "El autovector 5 es correcto\n",
            "El autovector 6 es correcto\n"
          ]
        }
      ]
    },
    {
      "cell_type": "code",
      "source": [
        "#La proporción de variabilidad explicada por cada componente la podemos calcular con: \n",
        "prop=eigenvalues/np.trace(df_cov)\n",
        "prop"
      ],
      "metadata": {
        "colab": {
          "base_uri": "https://localhost:8080/"
        },
        "id": "oSMOjNaHgxk7",
        "outputId": "549bdbaf-5c16-4016-f84a-fa16813a2096"
      },
      "execution_count": 7,
      "outputs": [
        {
          "output_type": "execute_result",
          "data": {
            "text/plain": [
              "array([0.41641341, 0.2455214 , 0.02599924, 0.07514464, 0.1132909 ,\n",
              "       0.12363041])"
            ]
          },
          "metadata": {},
          "execution_count": 7
        }
      ]
    },
    {
      "cell_type": "code",
      "source": [
        "#en porcentaje esto sería:\n",
        "porcentaje=prop*100\n",
        "porcentaje"
      ],
      "metadata": {
        "colab": {
          "base_uri": "https://localhost:8080/"
        },
        "id": "iHYx-5pqhZqT",
        "outputId": "deb29155-fa96-40aa-be4a-598bef3d15e3"
      },
      "execution_count": 8,
      "outputs": [
        {
          "output_type": "execute_result",
          "data": {
            "text/plain": [
              "array([41.64134115, 24.55213995,  2.59992386,  7.51446419, 11.32908958,\n",
              "       12.36304127])"
            ]
          },
          "metadata": {},
          "execution_count": 8
        }
      ]
    },
    {
      "cell_type": "markdown",
      "source": [
        "Debemos tener en cuenta que los autovectores que obtuvimos están ordenados.\n",
        "Veamos un gráfico de sedimentación, el cual nos permitirá representar el porcentaje de variación explicado por cada componente o factor en las ordenadas y las componentes en orden decreciente en la abscisas con la finalidad de escoger los factores que retengan más variación."
      ],
      "metadata": {
        "id": "HCI0T4IShN9O"
      }
    },
    {
      "cell_type": "code",
      "source": [
        "y=sorted(porcentaje, reverse=True) #almacena los porcentajes de mayor a menor"
      ],
      "metadata": {
        "id": "mVmK6leohBtb"
      },
      "execution_count": 9,
      "outputs": []
    },
    {
      "cell_type": "code",
      "source": [
        "import matplotlib.pyplot as plt\n",
        "plt.plot([\"Z1\",\"Z2\",\"Z3\",\"Z4\",\"Z5\", \"Z6\"], y ,color='green', marker='x', linewidth=1, markersize=4)\n",
        "plt.title(\"Gráfico de sedimentación\")\n",
        "plt.xlabel(\"Componentes principales\")\n",
        "plt.ylabel(\"Porcentaje de variación\")\n",
        "plt.show()"
      ],
      "metadata": {
        "colab": {
          "base_uri": "https://localhost:8080/",
          "height": 296
        },
        "id": "zxYchd88hzxC",
        "outputId": "8ca378bb-7bbe-4679-e126-e4253dffc554"
      },
      "execution_count": 10,
      "outputs": [
        {
          "output_type": "display_data",
          "data": {
            "text/plain": [
              "<Figure size 432x288 with 1 Axes>"
            ],
            "image/png": "[encoded data removed]"
          },
          "metadata": {
            "needs_background": "light"
          }
        }
      ]
    },
    {
      "cell_type": "code",
      "source": [
        "import matplotlib.pyplot as plt\n",
        "\n",
        "fig, ax = plt.subplots()\n",
        "\n",
        "ax.bar(range(len(porcentaje)), porcentaje)\n",
        "\n",
        "ax.set_xlabel('Índice')\n",
        "ax.set_ylabel('Porcentaje acumulado')\n",
        "\n",
        "plt.show()"
      ],
      "metadata": {
        "colab": {
          "base_uri": "https://localhost:8080/",
          "height": 280
        },
        "id": "ML-j_Q-dmB-U",
        "outputId": "8014b761-4535-42e8-a080-3e32eadac023"
      },
      "execution_count": 11,
      "outputs": [
        {
          "output_type": "display_data",
          "data": {
            "text/plain": [
              "<Figure size 432x288 with 1 Axes>"
            ],
            "image/png": "[encoded data removed]"
          },
          "metadata": {
            "needs_background": "light"
          }
        }
      ]
    },
    {
      "cell_type": "markdown",
      "source": [
        "Se puede observar un codo a partir de la tercera componente principal, por lo que retenemos estos componentes. Además lo podemos justificar con el porcentaje acumulado: ![image.png](data:image/png;base64,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)\n",
        "\n",
        "Calularemos su correlación con las variables originales. "
      ],
      "metadata": {
        "id": "kJzy-zWti_M3"
      }
    },
    {
      "cell_type": "markdown",
      "source": [
        "Almacenamos tanto los autovalores como los autovectores en dos variables nuevas para poder operar fácilmente sobre ellos "
      ],
      "metadata": {
        "id": "1w6blHGijJEQ"
      }
    },
    {
      "cell_type": "code",
      "source": [
        "eigenvectors"
      ],
      "metadata": {
        "colab": {
          "base_uri": "https://localhost:8080/"
        },
        "id": "0lHs6NiHjygZ",
        "outputId": "25ac0d27-99f4-4506-be48-cccb92fc9962"
      },
      "execution_count": 12,
      "outputs": [
        {
          "output_type": "execute_result",
          "data": {
            "text/plain": [
              "array([[ 0.45454125,  0.15847313,  0.37672419, -0.07820604,  0.78451794,\n",
              "         0.06908557],\n",
              "       [ 0.45072878, -0.25198079, -0.491921  ,  0.1067326 , -0.02435867,\n",
              "         0.69237113],\n",
              "       [ 0.31882326, -0.63200759,  0.5475605 ,  0.33202671, -0.277256  ,\n",
              "        -0.10946693],\n",
              "       [ 0.42331653,  0.38227978, -0.30437481,  0.61163075, -0.07575687,\n",
              "        -0.4496554 ],\n",
              "       [ 0.48098891, -0.16852151, -0.23006595, -0.68447289, -0.16380914,\n",
              "        -0.43815894],\n",
              "       [ 0.27935701,  0.58087953,  0.41315342, -0.17220602, -0.52392254,\n",
              "         0.33119957]])"
            ]
          },
          "metadata": {},
          "execution_count": 12
        }
      ]
    },
    {
      "cell_type": "code",
      "source": [
        "eigenvaluesr=eigenvalues[[5,4,3]]\n",
        "eigenvaluesr"
      ],
      "metadata": {
        "colab": {
          "base_uri": "https://localhost:8080/"
        },
        "id": "JZ6UB43jjqt7",
        "outputId": "cbc64111-5d80-4083-fed6-60af47873475"
      },
      "execution_count": 13,
      "outputs": [
        {
          "output_type": "execute_result",
          "data": {
            "text/plain": [
              "array([0.78082366, 0.71552145, 0.47459774])"
            ]
          },
          "metadata": {},
          "execution_count": 13
        }
      ]
    },
    {
      "cell_type": "code",
      "source": [
        "eigenvectorsr=eigenvectors[:,[0,1,2]] # porq tomamos los 3 primeros\n",
        "eigenvectorsr"
      ],
      "metadata": {
        "colab": {
          "base_uri": "https://localhost:8080/"
        },
        "id": "nhDTMjX8jx7O",
        "outputId": "351b2452-909b-463a-9103-5045d9ec75b1"
      },
      "execution_count": 14,
      "outputs": [
        {
          "output_type": "execute_result",
          "data": {
            "text/plain": [
              "array([[ 0.45454125,  0.15847313,  0.37672419],\n",
              "       [ 0.45072878, -0.25198079, -0.491921  ],\n",
              "       [ 0.31882326, -0.63200759,  0.5475605 ],\n",
              "       [ 0.42331653,  0.38227978, -0.30437481],\n",
              "       [ 0.48098891, -0.16852151, -0.23006595],\n",
              "       [ 0.27935701,  0.58087953,  0.41315342]])"
            ]
          },
          "metadata": {},
          "execution_count": 14
        }
      ]
    },
    {
      "cell_type": "code",
      "source": [
        "df_cov=df_cov.values"
      ],
      "metadata": {
        "id": "cZKoMBJNpmy5"
      },
      "execution_count": 15,
      "outputs": []
    },
    {
      "cell_type": "code",
      "source": [
        "a11 = eigenvectors[0,0]\n",
        "l1 = eigenvalues[0]\n",
        "s11 = df_cov[0,0]\n",
        "rx1y1=a11*np.sqrt(l1)/np.sqrt(s11)\n",
        "rx1y1"
      ],
      "metadata": {
        "colab": {
          "base_uri": "https://localhost:8080/"
        },
        "id": "n8zYoW3AktiN",
        "outputId": "2a50a00e-23b4-4d77-82fc-28efb88db299"
      },
      "execution_count": 16,
      "outputs": [
        {
          "output_type": "execute_result",
          "data": {
            "text/plain": [
              "0.7184743689297086"
            ]
          },
          "metadata": {},
          "execution_count": 16
        }
      ]
    },
    {
      "cell_type": "code",
      "source": [
        "from tabulate import tabulate \n",
        "rxy=[]\n",
        "for i in range(len(eigenvalues)):\n",
        "  for k in range(len(eigenvaluesr)): \n",
        "    aki=eigenvectorsr[i,k] \n",
        "    lk=eigenvaluesr[k]\n",
        "    Sii=df_cov[i,i]\n",
        "    rxiyk=aki*np.sqrt(lk)/np.sqrt(Sii) \n",
        "    rxy.append(rxiyk)\n",
        "print(\"Correlación entre las variables originales y los componentes extraidos:\",'\\n','\\n', \n",
        "      tabulate(np.array(rxy).reshape(len(eigenvalues),len(eigenvaluesr)), [\"Comp. 1\", \"Comp. 2\", \"Comp.3\"], \n",
        "               showindex=['X1', 'X2', 'X3', 'X4', 'X5', 'X6']))"
      ],
      "metadata": {
        "colab": {
          "base_uri": "https://localhost:8080/"
        },
        "id": "mTClACjflRxu",
        "outputId": "1e260b29-f3a4-4ae1-ec1a-884eb70716c6"
      },
      "execution_count": 17,
      "outputs": [
        {
          "output_type": "stream",
          "name": "stdout",
          "text": [
            "Correlación entre las variables originales y los componentes extraidos: \n",
            " \n",
            "       Comp. 1    Comp. 2     Comp.3\n",
            "--  ---------  ---------  ---------\n",
            "X1   0.391482   0.130656   0.252958\n",
            "X2   0.388198  -0.20775   -0.330309\n",
            "X3   0.274592  -0.521069   0.367669\n",
            "X4   0.364589   0.315177  -0.204378\n",
            "X5   0.41426   -0.13894   -0.154482\n",
            "X6   0.240601   0.478916   0.277419\n"
          ]
        }
      ]
    },
    {
      "cell_type": "markdown",
      "source": [
        "## Ejercicio 3 "
      ],
      "metadata": {
        "id": "HvQce5Cvoy28"
      }
    },
    {
      "cell_type": "markdown",
      "source": [
        "Para representar gráficamente los individuos de un dataset utilizando las componentes principales obtenidas, podemos utilizar un diagrama de dispersión de 2 dimensiones. Cada punto en el diagrama representará un individuo del dataset, y las coordenadas del punto serán los valores de las dos primeras componentes principales. "
      ],
      "metadata": {
        "id": "UTZQ3VgArwF4"
      }
    },
    {
      "cell_type": "code",
      "source": [
        "eigenvalues"
      ],
      "metadata": {
        "colab": {
          "base_uri": "https://localhost:8080/"
        },
        "id": "pOuHfDqYo7rH",
        "outputId": "c500efb9-ee1a-4777-f7d3-a93756b8549e"
      },
      "execution_count": 18,
      "outputs": [
        {
          "output_type": "execute_result",
          "data": {
            "text/plain": [
              "array([2.62997944, 1.55066147, 0.16420572, 0.47459774, 0.71552145,\n",
              "       0.78082366])"
            ]
          },
          "metadata": {},
          "execution_count": 18
        }
      ]
    },
    {
      "cell_type": "markdown",
      "source": [
        "Primero calculamos las 2 primeras componentes principales. "
      ],
      "metadata": {
        "id": "aMei4Lz1rzcZ"
      }
    },
    {
      "cell_type": "code",
      "source": [
        "datos=pd.DataFrame(df)"
      ],
      "metadata": {
        "id": "51cEUfPcsNvP"
      },
      "execution_count": 22,
      "outputs": []
    },
    {
      "cell_type": "code",
      "source": [
        "eigenvalues3=eigenvalues[[0,1]]\n",
        "eigenvalues3"
      ],
      "metadata": {
        "colab": {
          "base_uri": "https://localhost:8080/"
        },
        "id": "FGzkiPGysn3H",
        "outputId": "5efb8da7-ede9-4ba9-ebb4-a393c5f453fe"
      },
      "execution_count": 21,
      "outputs": [
        {
          "output_type": "execute_result",
          "data": {
            "text/plain": [
              "array([2.62997944, 1.55066147])"
            ]
          },
          "metadata": {},
          "execution_count": 21
        }
      ]
    },
    {
      "cell_type": "code",
      "source": [
        "eigenvectors3=eigenvectors[:,[0,1]] #0,1 porq tomamos los 2 primeros\n",
        "eigenvectors3"
      ],
      "metadata": {
        "colab": {
          "base_uri": "https://localhost:8080/"
        },
        "id": "BePqFTgwsrNo",
        "outputId": "179bc035-d365-41fc-d182-2aab9b087b0d"
      },
      "execution_count": 25,
      "outputs": [
        {
          "output_type": "execute_result",
          "data": {
            "text/plain": [
              "array([[ 0.45454125,  0.15847313],\n",
              "       [ 0.45072878, -0.25198079],\n",
              "       [ 0.31882326, -0.63200759],\n",
              "       [ 0.42331653,  0.38227978],\n",
              "       [ 0.48098891, -0.16852151],\n",
              "       [ 0.27935701,  0.58087953]])"
            ]
          },
          "metadata": {},
          "execution_count": 25
        }
      ]
    },
    {
      "cell_type": "code",
      "source": [
        "from tabulate import tabulate \n",
        "rxy=[]\n",
        "for i in range(len(eigenvalues)):\n",
        "  for k in range(len(eigenvalues3)): \n",
        "    aki=eigenvectors3[i,k] \n",
        "    lk=eigenvalues3[k]\n",
        "    Sii=df_cov[i,i]\n",
        "    rxiyk=aki*np.sqrt(lk)/np.sqrt(Sii) \n",
        "    rxy.append(rxiyk)\n",
        "print(\"Correlación entre las variables originales y los componentes extraidos:\",'\\n','\\n', \n",
        "      tabulate(np.array(rxy).reshape(len(eigenvalues),len(eigenvalues3)), [\"Comp. 1\", \"Comp. 2\"], \n",
        "               showindex=['X1', 'X2', 'X3', 'X4', 'X5', 'X6']))"
      ],
      "metadata": {
        "colab": {
          "base_uri": "https://localhost:8080/"
        },
        "id": "uS_U7k51s_SS",
        "outputId": "4ba5c7f3-eb2b-4b44-8230-38879ffc469f"
      },
      "execution_count": 26,
      "outputs": [
        {
          "output_type": "stream",
          "name": "stdout",
          "text": [
            "Correlación entre las variables originales y los componentes extraidos: \n",
            " \n",
            "       Comp. 1    Comp. 2\n",
            "--  ---------  ---------\n",
            "X1   0.718474   0.192343\n",
            "X2   0.712448  -0.305835\n",
            "X3   0.503951  -0.767083\n",
            "X4   0.669119   0.463983\n",
            "X5   0.760279  -0.204539\n",
            "X6   0.441568   0.705028\n"
          ]
        }
      ]
    },
    {
      "cell_type": "code",
      "source": [
        "#rxy es una lista, es por lo que no funciona\n",
        "rxy=np.array(rxy)"
      ],
      "metadata": {
        "id": "ZfQqNHqcts8Y"
      },
      "execution_count": 27,
      "outputs": []
    },
    {
      "cell_type": "code",
      "source": [
        "rxy=np.array(rxy).reshape(len(eigenvalues),len(eigenvalues3))\n",
        "rxy"
      ],
      "metadata": {
        "colab": {
          "base_uri": "https://localhost:8080/"
        },
        "id": "rYqk68pJuBSD",
        "outputId": "b74a9a92-24f7-4c0c-b5b0-0914e258be79"
      },
      "execution_count": 28,
      "outputs": [
        {
          "output_type": "execute_result",
          "data": {
            "text/plain": [
              "array([[ 0.71847437,  0.1923428 ],\n",
              "       [ 0.71244816, -0.30583539],\n",
              "       [ 0.50395061, -0.76708342],\n",
              "       [ 0.66911877,  0.46398253],\n",
              "       [ 0.76027908, -0.20453877],\n",
              "       [ 0.44156795,  0.70502801]])"
            ]
          },
          "metadata": {},
          "execution_count": 28
        }
      ]
    },
    {
      "cell_type": "code",
      "source": [
        "datos=df.values"
      ],
      "metadata": {
        "id": "SeuKp6pSuzzC"
      },
      "execution_count": 74,
      "outputs": []
    },
    {
      "cell_type": "code",
      "source": [
        "df_norm"
      ],
      "metadata": {
        "colab": {
          "base_uri": "https://localhost:8080/",
          "height": 457
        },
        "id": "YFfxhpPAvGfh",
        "outputId": "a3db2450-b5d6-4ac9-97e1-059cad2d28da"
      },
      "execution_count": 75,
      "outputs": [
        {
          "output_type": "execute_result",
          "data": {
            "text/plain": [
              "          PS    Ataque  Defensa  Ataque especial  Defensa especial  Velocidad\n",
              "0  -0.326164  0.054313    -0.75         0.564152             -0.50   1.037975\n",
              "1  -0.326164  0.054313    -0.75        -1.171700             -0.50   0.135388\n",
              "2  -0.326164  0.054313     1.75        -0.303774             -0.50  -1.669787\n",
              "3   0.978492  2.226814     0.50         0.564152              0.75   1.037975\n",
              "4  -0.326164  0.054313     0.50         0.564152             -0.50   1.037975\n",
              "5   0.978492  1.140563     0.50         1.432078              0.75   1.037975\n",
              "6   0.978492 -1.031938    -0.75         0.564152              0.75   0.135388\n",
              "7   0.978492 -1.031938    -0.75        -1.171700             -0.50  -0.767199\n",
              "8  -0.326164  1.140563     1.75        -1.171700             -0.50   0.135388\n",
              "9   0.978492  0.054313    -0.75        -0.303774             -0.50  -0.767199\n",
              "10 -1.630820 -2.118189    -0.75        -1.171700             -1.75  -1.669787\n",
              "11 -0.326164  1.140563    -0.75        -1.171700             -0.50   0.135388\n",
              "12 -0.326164 -1.031938    -0.75         0.564152              0.75   1.940563\n",
              "13 -0.326164  0.054313     0.50         1.432078             -0.50  -0.767199\n",
              "14 -1.630820 -1.031938    -2.00        -1.171700             -1.75   0.135388\n",
              "15  0.978492  0.054313     0.50         1.432078              2.00   0.135388\n",
              "16 -1.630820  0.054313     1.75        -1.171700              2.00  -0.767199\n",
              "17  2.283148  1.140563     0.50         0.564152              0.75   0.135388\n",
              "18 -0.326164  0.054313     0.50        -0.303774              0.75  -1.669787\n",
              "19 -0.326164 -1.031938    -0.75         1.432078             -0.50   1.037975"
            ],
            "text/html": [
              "\n",
              "  <div id=\"df-e0cdfa3d-ea68-44a1-a18e-6ceb0e9c74ff\">\n",
              "    <div class=\"colab-df-container\">\n",
              "      <div>\n",
              "<style scoped>\n",
              "    .dataframe tbody tr th:only-of-type {\n",
              "        vertical-align: middle;\n",
              "    }\n",
              "\n",
              "    .dataframe tbody tr th {\n",
              "        vertical-align: top;\n",
              "    }\n",
              "\n",
              "    .dataframe thead th {\n",
              "        text-align: right;\n",
              "    }\n",
              "</style>\n",
              "<table border=\"1\" class=\"dataframe\">\n",
              "  <thead>\n",
              "    <tr style=\"text-align: right;\">\n",
              "      <th></th>\n",
              "      <th>PS</th>\n",
              "      <th>Ataque</th>\n",
              "      <th>Defensa</th>\n",
              "      <th>Ataque especial</th>\n",
              "      <th>Defensa especial</th>\n",
              "      <th>Velocidad</th>\n",
              "    </tr>\n",
              "  </thead>\n",
              "  <tbody>\n",
              "    <tr>\n",
              "      <th>0</th>\n",
              "      <td>-0.326164</td>\n",
              "      <td>0.054313</td>\n",
              "      <td>-0.75</td>\n",
              "      <td>0.564152</td>\n",
              "      <td>-0.50</td>\n",
              "      <td>1.037975</td>\n",
              "    </tr>\n",
              "    <tr>\n",
              "      <th>1</th>\n",
              "      <td>-0.326164</td>\n",
              "      <td>0.054313</td>\n",
              "      <td>-0.75</td>\n",
              "      <td>-1.171700</td>\n",
              "      <td>-0.50</td>\n",
              "      <td>0.135388</td>\n",
              "    </tr>\n",
              "    <tr>\n",
              "      <th>2</th>\n",
              "      <td>-0.326164</td>\n",
              "      <td>0.054313</td>\n",
              "      <td>1.75</td>\n",
              "      <td>-0.303774</td>\n",
              "      <td>-0.50</td>\n",
              "      <td>-1.669787</td>\n",
              "    </tr>\n",
              "    <tr>\n",
              "      <th>3</th>\n",
              "      <td>0.978492</td>\n",
              "      <td>2.226814</td>\n",
              "      <td>0.50</td>\n",
              "      <td>0.564152</td>\n",
              "      <td>0.75</td>\n",
              "      <td>1.037975</td>\n",
              "    </tr>\n",
              "    <tr>\n",
              "      <th>4</th>\n",
              "      <td>-0.326164</td>\n",
              "      <td>0.054313</td>\n",
              "      <td>0.50</td>\n",
              "      <td>0.564152</td>\n",
              "      <td>-0.50</td>\n",
              "      <td>1.037975</td>\n",
              "    </tr>\n",
              "    <tr>\n",
              "      <th>5</th>\n",
              "      <td>0.978492</td>\n",
              "      <td>1.140563</td>\n",
              "      <td>0.50</td>\n",
              "      <td>1.432078</td>\n",
              "      <td>0.75</td>\n",
              "      <td>1.037975</td>\n",
              "    </tr>\n",
              "    <tr>\n",
              "      <th>6</th>\n",
              "      <td>0.978492</td>\n",
              "      <td>-1.031938</td>\n",
              "      <td>-0.75</td>\n",
              "      <td>0.564152</td>\n",
              "      <td>0.75</td>\n",
              "      <td>0.135388</td>\n",
              "    </tr>\n",
              "    <tr>\n",
              "      <th>7</th>\n",
              "      <td>0.978492</td>\n",
              "      <td>-1.031938</td>\n",
              "      <td>-0.75</td>\n",
              "      <td>-1.171700</td>\n",
              "      <td>-0.50</td>\n",
              "      <td>-0.767199</td>\n",
              "    </tr>\n",
              "    <tr>\n",
              "      <th>8</th>\n",
              "      <td>-0.326164</td>\n",
              "      <td>1.140563</td>\n",
              "      <td>1.75</td>\n",
              "      <td>-1.171700</td>\n",
              "      <td>-0.50</td>\n",
              "      <td>0.135388</td>\n",
              "    </tr>\n",
              "    <tr>\n",
              "      <th>9</th>\n",
              "      <td>0.978492</td>\n",
              "      <td>0.054313</td>\n",
              "      <td>-0.75</td>\n",
              "      <td>-0.303774</td>\n",
              "      <td>-0.50</td>\n",
              "      <td>-0.767199</td>\n",
              "    </tr>\n",
              "    <tr>\n",
              "      <th>10</th>\n",
              "      <td>-1.630820</td>\n",
              "      <td>-2.118189</td>\n",
              "      <td>-0.75</td>\n",
              "      <td>-1.171700</td>\n",
              "      <td>-1.75</td>\n",
              "      <td>-1.669787</td>\n",
              "    </tr>\n",
              "    <tr>\n",
              "      <th>11</th>\n",
              "      <td>-0.326164</td>\n",
              "      <td>1.140563</td>\n",
              "      <td>-0.75</td>\n",
              "      <td>-1.171700</td>\n",
              "      <td>-0.50</td>\n",
              "      <td>0.135388</td>\n",
              "    </tr>\n",
              "    <tr>\n",
              "      <th>12</th>\n",
              "      <td>-0.326164</td>\n",
              "      <td>-1.031938</td>\n",
              "      <td>-0.75</td>\n",
              "      <td>0.564152</td>\n",
              "      <td>0.75</td>\n",
              "      <td>1.940563</td>\n",
              "    </tr>\n",
              "    <tr>\n",
              "      <th>13</th>\n",
              "      <td>-0.326164</td>\n",
              "      <td>0.054313</td>\n",
              "      <td>0.50</td>\n",
              "      <td>1.432078</td>\n",
              "      <td>-0.50</td>\n",
              "      <td>-0.767199</td>\n",
              "    </tr>\n",
              "    <tr>\n",
              "      <th>14</th>\n",
              "      <td>-1.630820</td>\n",
              "      <td>-1.031938</td>\n",
              "      <td>-2.00</td>\n",
              "      <td>-1.171700</td>\n",
              "      <td>-1.75</td>\n",
              "      <td>0.135388</td>\n",
              "    </tr>\n",
              "    <tr>\n",
              "      <th>15</th>\n",
              "      <td>0.978492</td>\n",
              "      <td>0.054313</td>\n",
              "      <td>0.50</td>\n",
              "      <td>1.432078</td>\n",
              "      <td>2.00</td>\n",
              "      <td>0.135388</td>\n",
              "    </tr>\n",
              "    <tr>\n",
              "      <th>16</th>\n",
              "      <td>-1.630820</td>\n",
              "      <td>0.054313</td>\n",
              "      <td>1.75</td>\n",
              "      <td>-1.171700</td>\n",
              "      <td>2.00</td>\n",
              "      <td>-0.767199</td>\n",
              "    </tr>\n",
              "    <tr>\n",
              "      <th>17</th>\n",
              "      <td>2.283148</td>\n",
              "      <td>1.140563</td>\n",
              "      <td>0.50</td>\n",
              "      <td>0.564152</td>\n",
              "      <td>0.75</td>\n",
              "      <td>0.135388</td>\n",
              "    </tr>\n",
              "    <tr>\n",
              "      <th>18</th>\n",
              "      <td>-0.326164</td>\n",
              "      <td>0.054313</td>\n",
              "      <td>0.50</td>\n",
              "      <td>-0.303774</td>\n",
              "      <td>0.75</td>\n",
              "      <td>-1.669787</td>\n",
              "    </tr>\n",
              "    <tr>\n",
              "      <th>19</th>\n",
              "      <td>-0.326164</td>\n",
              "      <td>-1.031938</td>\n",
              "      <td>-0.75</td>\n",
              "      <td>1.432078</td>\n",
              "      <td>-0.50</td>\n",
              "      <td>1.037975</td>\n",
              "    </tr>\n",
              "  </tbody>\n",
              "</table>\n",
              "</div>\n",
              "      <button class=\"colab-df-convert\" onclick=\"convertToInteractive('df-e0cdfa3d-ea68-44a1-a18e-6ceb0e9c74ff')\"\n",
              "              title=\"Convert this dataframe to an interactive table.\"\n",
              "              style=\"display:none;\">\n",
              "        \n",
              "  <svg xmlns=\"http://www.w3.org/2000/svg\" height=\"24px\"viewBox=\"0 0 24 24\"\n",
              "       width=\"24px\">\n",
              "    <path d=\"M0 0h24v24H0V0z\" fill=\"none\"/>\n",
              "    <path d=\"M18.56 5.44l.94 2.06.94-2.06 2.06-.94-2.06-.94-.94-2.06-.94 2.06-2.06.94zm-11 1L8.5 8.5l.94-2.06 2.06-.94-2.06-.94L8.5 2.5l-.94 2.06-2.06.94zm10 10l.94 2.06.94-2.06 2.06-.94-2.06-.94-.94-2.06-.94 2.06-2.06.94z\"/><path d=\"M17.41 7.96l-1.37-1.37c-.4-.4-.92-.59-1.43-.59-.52 0-1.04.2-1.43.59L10.3 9.45l-7.72 7.72c-.78.78-.78 2.05 0 2.83L4 21.41c.39.39.9.59 1.41.59.51 0 1.02-.2 1.41-.59l7.78-7.78 2.81-2.81c.8-.78.8-2.07 0-2.86zM5.41 20L4 18.59l7.72-7.72 1.47 1.35L5.41 20z\"/>\n",
              "  </svg>\n",
              "      </button>\n",
              "      \n",
              "  <style>\n",
              "    .colab-df-container {\n",
              "      display:flex;\n",
              "      flex-wrap:wrap;\n",
              "      gap: 12px;\n",
              "    }\n",
              "\n",
              "    .colab-df-convert {\n",
              "      background-color: #E8F0FE;\n",
              "      border: none;\n",
              "      border-radius: 50%;\n",
              "      cursor: pointer;\n",
              "      display: none;\n",
              "      fill: #1967D2;\n",
              "      height: 32px;\n",
              "      padding: 0 0 0 0;\n",
              "      width: 32px;\n",
              "    }\n",
              "\n",
              "    .colab-df-convert:hover {\n",
              "      background-color: #E2EBFA;\n",
              "      box-shadow: 0px 1px 2px rgba(60, 64, 67, 0.3), 0px 1px 3px 1px rgba(60, 64, 67, 0.15);\n",
              "      fill: #174EA6;\n",
              "    }\n",
              "\n",
              "    [theme=dark] .colab-df-convert {\n",
              "      background-color: #3B4455;\n",
              "      fill: #D2E3FC;\n",
              "    }\n",
              "\n",
              "    [theme=dark] .colab-df-convert:hover {\n",
              "      background-color: #434B5C;\n",
              "      box-shadow: 0px 1px 3px 1px rgba(0, 0, 0, 0.15);\n",
              "      filter: drop-shadow(0px 1px 2px rgba(0, 0, 0, 0.3));\n",
              "      fill: #FFFFFF;\n",
              "    }\n",
              "  </style>\n",
              "\n",
              "      <script>\n",
              "        const buttonEl =\n",
              "          document.querySelector('#df-e0cdfa3d-ea68-44a1-a18e-6ceb0e9c74ff button.colab-df-convert');\n",
              "        buttonEl.style.display =\n",
              "          google.colab.kernel.accessAllowed ? 'block' : 'none';\n",
              "\n",
              "        async function convertToInteractive(key) {\n",
              "          const element = document.querySelector('#df-e0cdfa3d-ea68-44a1-a18e-6ceb0e9c74ff');\n",
              "          const dataTable =\n",
              "            await google.colab.kernel.invokeFunction('convertToInteractive',\n",
              "                                                     [key], {});\n",
              "          if (!dataTable) return;\n",
              "\n",
              "          const docLinkHtml = 'Like what you see? Visit the ' +\n",
              "            '<a target=\"_blank\" href=https://colab.research.google.com/notebooks/data_table.ipynb>data table notebook</a>'\n",
              "            + ' to learn more about interactive tables.';\n",
              "          element.innerHTML = '';\n",
              "          dataTable['output_type'] = 'display_data';\n",
              "          await google.colab.output.renderOutput(dataTable, element);\n",
              "          const docLink = document.createElement('div');\n",
              "          docLink.innerHTML = docLinkHtml;\n",
              "          element.appendChild(docLink);\n",
              "        }\n",
              "      </script>\n",
              "    </div>\n",
              "  </div>\n",
              "  "
            ]
          },
          "metadata": {},
          "execution_count": 75
        }
      ]
    },
    {
      "cell_type": "markdown",
      "source": [
        "Vamos a crear los valores a representar, es decir, vamos a calcular los puntos (C1, C2) de cada individuo, de la forma: \n",
        "\n",
        "      Individuo 1 C1=0.0595012*X1+0.596317*X2+...+0.285252 *X8\n",
        "  \n",
        "      (siendo X1,...,X8 los valores del indivviduo 1)"
      ],
      "metadata": {
        "id": "CEFVBJCUFNJV"
      }
    },
    {
      "cell_type": "code",
      "source": [
        "c1=np.zeros(len(df_norm))\n",
        "c2=np.zeros(len(df_norm))"
      ],
      "metadata": {
        "id": "QGA8oPhRI50s"
      },
      "execution_count": 83,
      "outputs": []
    },
    {
      "cell_type": "code",
      "source": [
        "for i in range (len(df_norm)):\n",
        "  c1[i]=sum((rxy[:,0])*(df_norm.iloc[i]))\n",
        "  c2[i]=sum((rxy[:,1])*(df_norm.iloc[i]))\n"
      ],
      "metadata": {
        "id": "AkCl2xMDGlwh"
      },
      "execution_count": 84,
      "outputs": []
    },
    {
      "cell_type": "code",
      "source": [
        "#creamos un dataframe para poder graficarlo mejor en el diagrama de dispersion\n",
        "df3 = pd.DataFrame(columns=[' 1', 'Componente 2'])\n",
        "dat1 = pd.DataFrame({'Componente 1': c1})\n",
        "dat2 = pd.DataFrame({'Componente 2': c2})\n",
        "df3=dat1.join(dat2)"
      ],
      "metadata": {
        "id": "Y_T59sHd1726"
      },
      "execution_count": 94,
      "outputs": []
    },
    {
      "cell_type": "code",
      "source": [
        "df3.plot.scatter(x='Componente 1', y='Componente 2', s =df3.index , c = 'Blue')"
      ],
      "metadata": {
        "id": "aeiYPAvJ55yZ",
        "outputId": "c8b43e01-6a6f-4a72-d947-6bcd7d515e64",
        "colab": {
          "base_uri": "https://localhost:8080/",
          "height": 291
        }
      },
      "execution_count": 101,
      "outputs": [
        {
          "output_type": "execute_result",
          "data": {
            "text/plain": [
              "<matplotlib.axes._subplots.AxesSubplot at 0x7f68922af790>"
            ]
          },
          "metadata": {},
          "execution_count": 101
        },
        {
          "output_type": "display_data",
          "data": {
            "text/plain": [
              "<Figure size 432x288 with 1 Axes>"
            ],
            "image/png": "[encoded data removed]"
          },
          "metadata": {
            "needs_background": "light"
          }
        }
      ]
    },
    {
      "cell_type": "markdown",
      "source": [
        "## Ejercicio 4"
      ],
      "metadata": {
        "id": "Mu7Kgdmzvkty"
      }
    },
    {
      "cell_type": "code",
      "source": [
        "rxy"
      ],
      "metadata": {
        "id": "zYGqGlMa5-tr",
        "outputId": "1312ba9c-cd68-4c9e-86b8-39e51a3b2193",
        "colab": {
          "base_uri": "https://localhost:8080/"
        }
      },
      "execution_count": null,
      "outputs": [
        {
          "output_type": "execute_result",
          "data": {
            "text/plain": [
              "array([[ 0.05950119,  0.64680894],\n",
              "       [ 0.59631706, -0.02008292],\n",
              "       [-0.09428036, -0.22858835],\n",
              "       [-0.38727378, -0.06245902],\n",
              "       [-0.37737225, -0.13505519],\n",
              "       [ 0.28525157, -0.4319567 ]])"
            ]
          },
          "metadata": {},
          "execution_count": 28
        }
      ]
    },
    {
      "cell_type": "code",
      "source": [
        "from sklearn.decomposition import PCA\n",
        "pca = PCA(n_components=2)\n",
        "componentes_principales = pca.fit_transform(df_norm)\n",
        "\n",
        "# crea un diagrama de dispersión de 2 dimensiones\n",
        "fig, ax = plt.subplots()\n",
        "ax.scatter(componentes_principales[:, 0], componentes_principales[:, 1])\n",
        "\n",
        "# agrega etiquetas a los ejes\n",
        "ax.set_xlabel('Primera componente principal')\n",
        "ax.set_ylabel('Segunda componente principal')\n",
        "\n",
        "# muestra el diagrama de dispersión\n",
        "plt.show()"
      ],
      "metadata": {
        "colab": {
          "base_uri": "https://localhost:8080/",
          "height": 279
        },
        "id": "bSrI9vGfo8dP",
        "outputId": "6112e9c2-948b-4aab-a61d-75ed02dbe1cc"
      },
      "execution_count": null,
      "outputs": [
        {
          "output_type": "display_data",
          "data": {
            "text/plain": [
              "<Figure size 432x288 with 1 Axes>"
            ],
            "image/png": "[encoded data removed]"
          },
          "metadata": {
            "needs_background": "light"
          }
        }
      ]
    },
    {
      "cell_type": "code",
      "source": [],
      "metadata": {
        "id": "PQWJlXB_r_Uk"
      },
      "execution_count": null,
      "outputs": []
    }
  ]
}