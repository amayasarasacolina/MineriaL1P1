{
  "cells": [
    {
      "cell_type": "markdown",
      "source": [
        "PILAR ARIAS, YEDRA MARTÍN, PATRICIA MEDIAVILLA, AMAYA SARASA\n",
        "\n",
        "<GRUPO 9>"
      ],
      "metadata": {
        "id": "8pT2SbACjlE2"
      },
      "id": "8pT2SbACjlE2"
    },
    {
      "cell_type": "markdown",
      "source": [
        "#INTRODUCCIÓN"
      ],
      "metadata": {
        "id": "s8YerDrYkdxK"
      },
      "id": "s8YerDrYkdxK"
    },
    {
      "cell_type": "markdown",
      "source": [
        "Esta es la primera práctica del primer laboratorio. Dada una base de datos en formato .csv, se nos pide contestar a una serie de cuestiones. Para ello, lo primero que debemos hacer es cargar y leer la base de datos:"
      ],
      "metadata": {
        "id": "r8GDGWfBlHe5"
      },
      "id": "r8GDGWfBlHe5"
    },
    {
      "cell_type": "code",
      "execution_count": 1,
      "id": "a0bb4051",
      "metadata": {
        "id": "a0bb4051",
        "outputId": "7659c05c-7b20-4aa1-b4a4-24262cd05e21",
        "colab": {
          "base_uri": "https://localhost:8080/",
          "height": 461
        }
      },
      "outputs": [
        {
          "output_type": "execute_result",
          "data": {
            "text/plain": [
              "     id                                              name  host_id  \\\n",
              "0  2539                Clean & quiet apt home by the park     2787   \n",
              "1  2595                             Skylit Midtown Castle     2845   \n",
              "2  3647               THE VILLAGE OF HARLEM....NEW YORK !     4632   \n",
              "3  3831                   Cozy Entire Floor of Brownstone     4869   \n",
              "4  5022  Entire Apt: Spacious Studio/Loft by central park     7192   \n",
              "\n",
              "     host_name neighbourhood_group neighbourhood  latitude  longitude  \\\n",
              "0         John            Brooklyn    Kensington  40.64749  -73.97237   \n",
              "1     Jennifer           Manhattan       Midtown  40.75362  -73.98377   \n",
              "2    Elisabeth           Manhattan        Harlem  40.80902  -73.94190   \n",
              "3  LisaRoxanne            Brooklyn  Clinton Hill  40.68514  -73.95976   \n",
              "4        Laura           Manhattan   East Harlem  40.79851  -73.94399   \n",
              "\n",
              "         room_type  price  minimum_nights  number_of_reviews last_review  \\\n",
              "0     Private room    149               1                  9  2018-10-19   \n",
              "1  Entire home/apt    225               1                 45  2019-05-21   \n",
              "2     Private room    150               3                  0         NaN   \n",
              "3  Entire home/apt     89               1                270  2019-07-05   \n",
              "4  Entire home/apt     80              10                  9  2018-11-19   \n",
              "\n",
              "   reviews_per_month  calculated_host_listings_count  availability_365  \n",
              "0               0.21                               6               365  \n",
              "1               0.38                               2               355  \n",
              "2                NaN                               1               365  \n",
              "3               4.64                               1               194  \n",
              "4               0.10                               1                 0  "
            ],
            "text/html": [
              "\n",
              "  <div id=\"df-a91e9ac3-edb9-4923-b4de-28f2b21648b1\">\n",
              "    <div class=\"colab-df-container\">\n",
              "      <div>\n",
              "<style scoped>\n",
              "    .dataframe tbody tr th:only-of-type {\n",
              "        vertical-align: middle;\n",
              "    }\n",
              "\n",
              "    .dataframe tbody tr th {\n",
              "        vertical-align: top;\n",
              "    }\n",
              "\n",
              "    .dataframe thead th {\n",
              "        text-align: right;\n",
              "    }\n",
              "</style>\n",
              "<table border=\"1\" class=\"dataframe\">\n",
              "  <thead>\n",
              "    <tr style=\"text-align: right;\">\n",
              "      <th></th>\n",
              "      <th>id</th>\n",
              "      <th>name</th>\n",
              "      <th>host_id</th>\n",
              "      <th>host_name</th>\n",
              "      <th>neighbourhood_group</th>\n",
              "      <th>neighbourhood</th>\n",
              "      <th>latitude</th>\n",
              "      <th>longitude</th>\n",
              "      <th>room_type</th>\n",
              "      <th>price</th>\n",
              "      <th>minimum_nights</th>\n",
              "      <th>number_of_reviews</th>\n",
              "      <th>last_review</th>\n",
              "      <th>reviews_per_month</th>\n",
              "      <th>calculated_host_listings_count</th>\n",
              "      <th>availability_365</th>\n",
              "    </tr>\n",
              "  </thead>\n",
              "  <tbody>\n",
              "    <tr>\n",
              "      <th>0</th>\n",
              "      <td>2539</td>\n",
              "      <td>Clean &amp; quiet apt home by the park</td>\n",
              "      <td>2787</td>\n",
              "      <td>John</td>\n",
              "      <td>Brooklyn</td>\n",
              "      <td>Kensington</td>\n",
              "      <td>40.64749</td>\n",
              "      <td>-73.97237</td>\n",
              "      <td>Private room</td>\n",
              "      <td>149</td>\n",
              "      <td>1</td>\n",
              "      <td>9</td>\n",
              "      <td>2018-10-19</td>\n",
              "      <td>0.21</td>\n",
              "      <td>6</td>\n",
              "      <td>365</td>\n",
              "    </tr>\n",
              "    <tr>\n",
              "      <th>1</th>\n",
              "      <td>2595</td>\n",
              "      <td>Skylit Midtown Castle</td>\n",
              "      <td>2845</td>\n",
              "      <td>Jennifer</td>\n",
              "      <td>Manhattan</td>\n",
              "      <td>Midtown</td>\n",
              "      <td>40.75362</td>\n",
              "      <td>-73.98377</td>\n",
              "      <td>Entire home/apt</td>\n",
              "      <td>225</td>\n",
              "      <td>1</td>\n",
              "      <td>45</td>\n",
              "      <td>2019-05-21</td>\n",
              "      <td>0.38</td>\n",
              "      <td>2</td>\n",
              "      <td>355</td>\n",
              "    </tr>\n",
              "    <tr>\n",
              "      <th>2</th>\n",
              "      <td>3647</td>\n",
              "      <td>THE VILLAGE OF HARLEM....NEW YORK !</td>\n",
              "      <td>4632</td>\n",
              "      <td>Elisabeth</td>\n",
              "      <td>Manhattan</td>\n",
              "      <td>Harlem</td>\n",
              "      <td>40.80902</td>\n",
              "      <td>-73.94190</td>\n",
              "      <td>Private room</td>\n",
              "      <td>150</td>\n",
              "      <td>3</td>\n",
              "      <td>0</td>\n",
              "      <td>NaN</td>\n",
              "      <td>NaN</td>\n",
              "      <td>1</td>\n",
              "      <td>365</td>\n",
              "    </tr>\n",
              "    <tr>\n",
              "      <th>3</th>\n",
              "      <td>3831</td>\n",
              "      <td>Cozy Entire Floor of Brownstone</td>\n",
              "      <td>4869</td>\n",
              "      <td>LisaRoxanne</td>\n",
              "      <td>Brooklyn</td>\n",
              "      <td>Clinton Hill</td>\n",
              "      <td>40.68514</td>\n",
              "      <td>-73.95976</td>\n",
              "      <td>Entire home/apt</td>\n",
              "      <td>89</td>\n",
              "      <td>1</td>\n",
              "      <td>270</td>\n",
              "      <td>2019-07-05</td>\n",
              "      <td>4.64</td>\n",
              "      <td>1</td>\n",
              "      <td>194</td>\n",
              "    </tr>\n",
              "    <tr>\n",
              "      <th>4</th>\n",
              "      <td>5022</td>\n",
              "      <td>Entire Apt: Spacious Studio/Loft by central park</td>\n",
              "      <td>7192</td>\n",
              "      <td>Laura</td>\n",
              "      <td>Manhattan</td>\n",
              "      <td>East Harlem</td>\n",
              "      <td>40.79851</td>\n",
              "      <td>-73.94399</td>\n",
              "      <td>Entire home/apt</td>\n",
              "      <td>80</td>\n",
              "      <td>10</td>\n",
              "      <td>9</td>\n",
              "      <td>2018-11-19</td>\n",
              "      <td>0.10</td>\n",
              "      <td>1</td>\n",
              "      <td>0</td>\n",
              "    </tr>\n",
              "  </tbody>\n",
              "</table>\n",
              "</div>\n",
              "      <button class=\"colab-df-convert\" onclick=\"convertToInteractive('df-a91e9ac3-edb9-4923-b4de-28f2b21648b1')\"\n",
              "              title=\"Convert this dataframe to an interactive table.\"\n",
              "              style=\"display:none;\">\n",
              "        \n",
              "  <svg xmlns=\"http://www.w3.org/2000/svg\" height=\"24px\"viewBox=\"0 0 24 24\"\n",
              "       width=\"24px\">\n",
              "    <path d=\"M0 0h24v24H0V0z\" fill=\"none\"/>\n",
              "    <path d=\"M18.56 5.44l.94 2.06.94-2.06 2.06-.94-2.06-.94-.94-2.06-.94 2.06-2.06.94zm-11 1L8.5 8.5l.94-2.06 2.06-.94-2.06-.94L8.5 2.5l-.94 2.06-2.06.94zm10 10l.94 2.06.94-2.06 2.06-.94-2.06-.94-.94-2.06-.94 2.06-2.06.94z\"/><path d=\"M17.41 7.96l-1.37-1.37c-.4-.4-.92-.59-1.43-.59-.52 0-1.04.2-1.43.59L10.3 9.45l-7.72 7.72c-.78.78-.78 2.05 0 2.83L4 21.41c.39.39.9.59 1.41.59.51 0 1.02-.2 1.41-.59l7.78-7.78 2.81-2.81c.8-.78.8-2.07 0-2.86zM5.41 20L4 18.59l7.72-7.72 1.47 1.35L5.41 20z\"/>\n",
              "  </svg>\n",
              "      </button>\n",
              "      \n",
              "  <style>\n",
              "    .colab-df-container {\n",
              "      display:flex;\n",
              "      flex-wrap:wrap;\n",
              "      gap: 12px;\n",
              "    }\n",
              "\n",
              "    .colab-df-convert {\n",
              "      background-color: #E8F0FE;\n",
              "      border: none;\n",
              "      border-radius: 50%;\n",
              "      cursor: pointer;\n",
              "      display: none;\n",
              "      fill: #1967D2;\n",
              "      height: 32px;\n",
              "      padding: 0 0 0 0;\n",
              "      width: 32px;\n",
              "    }\n",
              "\n",
              "    .colab-df-convert:hover {\n",
              "      background-color: #E2EBFA;\n",
              "      box-shadow: 0px 1px 2px rgba(60, 64, 67, 0.3), 0px 1px 3px 1px rgba(60, 64, 67, 0.15);\n",
              "      fill: #174EA6;\n",
              "    }\n",
              "\n",
              "    [theme=dark] .colab-df-convert {\n",
              "      background-color: #3B4455;\n",
              "      fill: #D2E3FC;\n",
              "    }\n",
              "\n",
              "    [theme=dark] .colab-df-convert:hover {\n",
              "      background-color: #434B5C;\n",
              "      box-shadow: 0px 1px 3px 1px rgba(0, 0, 0, 0.15);\n",
              "      filter: drop-shadow(0px 1px 2px rgba(0, 0, 0, 0.3));\n",
              "      fill: #FFFFFF;\n",
              "    }\n",
              "  </style>\n",
              "\n",
              "      <script>\n",
              "        const buttonEl =\n",
              "          document.querySelector('#df-a91e9ac3-edb9-4923-b4de-28f2b21648b1 button.colab-df-convert');\n",
              "        buttonEl.style.display =\n",
              "          google.colab.kernel.accessAllowed ? 'block' : 'none';\n",
              "\n",
              "        async function convertToInteractive(key) {\n",
              "          const element = document.querySelector('#df-a91e9ac3-edb9-4923-b4de-28f2b21648b1');\n",
              "          const dataTable =\n",
              "            await google.colab.kernel.invokeFunction('convertToInteractive',\n",
              "                                                     [key], {});\n",
              "          if (!dataTable) return;\n",
              "\n",
              "          const docLinkHtml = 'Like what you see? Visit the ' +\n",
              "            '<a target=\"_blank\" href=https://colab.research.google.com/notebooks/data_table.ipynb>data table notebook</a>'\n",
              "            + ' to learn more about interactive tables.';\n",
              "          element.innerHTML = '';\n",
              "          dataTable['output_type'] = 'display_data';\n",
              "          await google.colab.output.renderOutput(dataTable, element);\n",
              "          const docLink = document.createElement('div');\n",
              "          docLink.innerHTML = docLinkHtml;\n",
              "          element.appendChild(docLink);\n",
              "        }\n",
              "      </script>\n",
              "    </div>\n",
              "  </div>\n",
              "  "
            ]
          },
          "metadata": {},
          "execution_count": 1
        }
      ],
      "source": [
        "#importamos la base de datos\n",
        "import pandas as pd #pandas\n",
        "df=pd.read_csv('airbnb.csv',encoding='latin-1')\n",
        "df.head()"
      ]
    },
    {
      "cell_type": "markdown",
      "source": [
        "Se observa que se ha cargado de manera correcta. "
      ],
      "metadata": {
        "id": "FmdArPK4mfGK"
      },
      "id": "FmdArPK4mfGK"
    },
    {
      "cell_type": "markdown",
      "source": [
        "Importamos así también todas las librerías necesarias para ejecutar esta práctica. "
      ],
      "metadata": {
        "id": "ocoXyf9Oluyf"
      },
      "id": "ocoXyf9Oluyf"
    },
    {
      "cell_type": "code",
      "source": [
        "#importamos todas las librerías necesarias: \n",
        "import sklearn #scikit-learn\n",
        "import matplotlib.pyplot as plt #gráfica Matplotlib\n",
        "import seaborn as sns\n",
        "import numpy as np #NumPy"
      ],
      "metadata": {
        "id": "s8pAtTFxtCJW"
      },
      "id": "s8pAtTFxtCJW",
      "execution_count": 2,
      "outputs": []
    },
    {
      "cell_type": "markdown",
      "source": [
        "Según se ha estudiado en clase, encontramos dos métodos para afrontarlo. Nos decantaremos por CRISP-DM. Las siglas para: CRoss-Industry Standard Process for Data Mining. \n",
        "\n",
        "Es un modelo de proceso de minería de datos que se utiliza en la industria. Es un marco de trabajo que define un proceso estandarizado para llevar a cabo proyectos de minería de datos, desde la definición del problema hasta la implementación y evaluación del resultado. Los seis pasos que componen Crisp-DM son los siguientes:\n",
        "\n",
        "- Comprensión de los negocios y definición del problema: comprender la naturaleza del problema y los objetivos de negocio.\n",
        "\n",
        "- Comprensión de los datos: recopilación inicial, descripción y exploración  de datos.\n",
        "\n",
        "- Preparación de los datos: Selección, limpieza, construcción, integración, formateo de los datos.\n",
        "\n",
        "- Modelado: aplicar las técnicas de minería de datos a los dataset.\n",
        "\n",
        "- Evaluación: determinar si los resultados son útiles a las necesidades del negocio.\n",
        "\n",
        "- Despliegue: explotar utilidad de los modelos, integrándolos en las tareas de toma de decisiones de la organización -> Call to Action. \n"
      ],
      "metadata": {
        "id": "YBQbx7EFmjR6"
      },
      "id": "YBQbx7EFmjR6"
    },
    {
      "cell_type": "markdown",
      "source": [
        "#EJERCICIO 1"
      ],
      "metadata": {
        "id": "35WzfLjxl0OU"
      },
      "id": "35WzfLjxl0OU"
    },
    {
      "cell_type": "markdown",
      "source": [
        "## Comprensión del negocio y definición del problema"
      ],
      "metadata": {
        "id": "XX4P0W_Fozcz"
      },
      "id": "XX4P0W_Fozcz"
    },
    {
      "cell_type": "markdown",
      "source": [
        "El barrio de Williamsburg es uno de los barrios de moda hoy en día. Desde 2005 ha pasado de ser un distrito donde principalmente se encontraban fabricas a acoger una gran cantidad de gente joven y nuevos negocios. ¿Teniendo en cuenta los datos proporcionados que posición en términos de popularidad/calidad se puede decir que ostenta el barrio con respecto a los demás que forma New York?"
      ],
      "metadata": {
        "id": "3S06NbYgmKb-"
      },
      "id": "3S06NbYgmKb-"
    },
    {
      "cell_type": "markdown",
      "source": [
        "Para medir la popularidad/calidad del barrio, tendremos primero en cuenta el número de apartamentos de calidad según los usuarios. Para ello, lo primero será clasificar los apartamentos como “Muy Malos”, “Malos”, “Regulares”, “Buenos” y “Muy Buenos”. Para ello primero haremos un par de transformaciones de los datos. La columna de reseñas por mes, se dividirán en 3 rangos iguales, después dependiendo del valor concreto que tenga cada apartamento se le asignarán las etiquetas: “Baja”, “Media” y ”Alta”. Para la columna que indica el número de días que está disponible asignaremos las etiquetas de menor valor a mayor de la siguiente manera: “Poco disponible”, “Disponible normalmente” y “Altamente disponible”. Finalmente crearemos una columna para clasificar los apartamentos, teniendo en cuenta una serie de reglas, que se explicarán más adelante. "
      ],
      "metadata": {
        "id": "jCZKl6EfuQDS"
      },
      "id": "jCZKl6EfuQDS"
    },
    {
      "cell_type": "markdown",
      "source": [
        "## Comprensión de los datos"
      ],
      "metadata": {
        "id": "aA5iEGYOo4RB"
      },
      "id": "aA5iEGYOo4RB"
    },
    {
      "cell_type": "markdown",
      "source": [
        "La base de datos que utilizaremos consta de 48895 observaciones. En cada observación recopilamos los siguientes atributos: \n",
        "- id: id del apartamento en cuestión. \n",
        "- name: nombre del apartamento\n",
        "- host_id: id del anfitrión \n",
        "- host_name: nombre del anfitrión \n",
        "- neighbourhood_group: estado al que pertenece\n",
        "- neighbourhood: barrio al que pertenece \n",
        "- latitude: coordenadas de latitud\n",
        "- longitude: coordenadas de longitud \n",
        "- room_type: tipo de habitación \n",
        "- price: precio en dólares\n",
        "- minimum_nights: noches mínimas que te puedes hospedar\n",
        "- number_of_reviews: número de reseñas \n",
        "- last_review: última reseña \n",
        "- reviews_per_month: reseñas por mes\n",
        "- calculated_host_listings_count: cantidad de propiedades que un anfitrión tiene disponibles en la plataforma\n",
        "- availability_365: días disponibles por año. \n"
      ],
      "metadata": {
        "id": "9FyCQqOUo8Gp"
      },
      "id": "9FyCQqOUo8Gp"
    },
    {
      "cell_type": "markdown",
      "source": [
        "Se ha investigado esta base de datos en kaggle para entender mejor cada variable, pero no lo explican con claridad, y cabe rebundancia, por lo que se explicará la interpretación que se le ha dado a cada una. "
      ],
      "metadata": {
        "id": "aHdCDF9H58gb"
      },
      "id": "aHdCDF9H58gb"
    },
    {
      "cell_type": "markdown",
      "source": [
        "availability_365: suponemos que la propiedad está dispuesta en la plataforma los 365 días del año, es decir, cualquier mes está disponible. Obviamos que sea una casa de verano que sólo se alquile los meses de junio y julio por ejemplo, para definirlo bien, se podrá alquilar los 12 meses del año. "
      ],
      "metadata": {
        "id": "9Oz91E4D6NS6"
      },
      "id": "9Oz91E4D6NS6"
    },
    {
      "cell_type": "markdown",
      "source": [
        "## Preparación de los datos"
      ],
      "metadata": {
        "id": "MRRVog71rZU4"
      },
      "id": "MRRVog71rZU4"
    },
    {
      "cell_type": "markdown",
      "source": [
        "Primero debemos tratar la base de datos para así estudiar qué hacer con los datos NaN que encontraremos. \n",
        "\n",
        "Analizamos cuántos datos NaN hay en la columna 'reviews_per_month', ya que la trataremos posteriormente, y deberemos conocer el contenido de esta. \n"
      ],
      "metadata": {
        "id": "6TRpV0iDuXpi"
      },
      "id": "6TRpV0iDuXpi"
    },
    {
      "cell_type": "code",
      "source": [
        "reviews_per_month_nan = df['reviews_per_month'].isna().sum()\n",
        "print(reviews_per_month_nan)"
      ],
      "metadata": {
        "id": "eRGBwWnHuxTV",
        "outputId": "c51dd613-433b-4094-ee92-0504efe05eeb",
        "colab": {
          "base_uri": "https://localhost:8080/"
        }
      },
      "id": "eRGBwWnHuxTV",
      "execution_count": 3,
      "outputs": [
        {
          "output_type": "stream",
          "name": "stdout",
          "text": [
            "10052\n"
          ]
        }
      ]
    },
    {
      "cell_type": "markdown",
      "source": [
        "Ahora bien, vemos que hay 10052 datos NaN en la columna. Observemos cuántos datos hay en total para barajar las distintas opciones de qué hacer con estos datos NaN. Si es poca cantidad comparado con la cantidad de observaciones en total, podremos eliminar directamente esas observaciones, sin embargo, si suponen gran cantidad, podríamos buscar otras opciones, como rellenar con la media para así no afectar al equilibrio del resto de datos. \n",
        "\n",
        "Es verdad que como hablamos de reseñas por mes, sería factible convertir esos NaN en 0, para que así a la hora de categorizar la columna, lo detecte como Bajo. \n",
        "\n",
        "¿Por qué rellenamos con 0's? Encontramos un NaN en la columna de 'reviews_per_month', cuando en la columna de 'number_of_reviews' aparece un 0, o un NaN directamente, es decir, que anteriormente no se ha hecho ninguna reseña, por lo que obviamente, en el último mes, tampoco. No deberíamos rellenar con la media, ya que ahí estamos aportando una cierta cantidad de reseñas que no se han hecho. "
      ],
      "metadata": {
        "id": "hlY_0vIJvh77"
      },
      "id": "hlY_0vIJvh77"
    },
    {
      "cell_type": "code",
      "source": [
        "num_observations = df.shape[0]\n",
        "print(num_observations)"
      ],
      "metadata": {
        "id": "NXgkAGjewOwD",
        "outputId": "0e97f007-4517-40f7-b4e7-e38a9f76981a",
        "colab": {
          "base_uri": "https://localhost:8080/"
        }
      },
      "id": "NXgkAGjewOwD",
      "execution_count": 4,
      "outputs": [
        {
          "output_type": "stream",
          "name": "stdout",
          "text": [
            "48895\n"
          ]
        }
      ]
    },
    {
      "cell_type": "markdown",
      "source": [
        "Supone un 20% de los datos totales. No resulta útil borrarlos, si no que deberíamos rellenar con 0 como hemos explicado anteriormente. "
      ],
      "metadata": {
        "id": "mP70C7kJwTxc"
      },
      "id": "mP70C7kJwTxc"
    },
    {
      "cell_type": "code",
      "source": [
        "df['reviews_per_month'].fillna(0, inplace=True)"
      ],
      "metadata": {
        "id": "EJln4MO6wr2i"
      },
      "id": "EJln4MO6wr2i",
      "execution_count": 5,
      "outputs": []
    },
    {
      "cell_type": "markdown",
      "source": [
        "Comprobamos por tanto que en esa columna ya no nos quede ningún NaN"
      ],
      "metadata": {
        "id": "qJ2nrGXAw2UJ"
      },
      "id": "qJ2nrGXAw2UJ"
    },
    {
      "cell_type": "code",
      "source": [
        "reviews_per_month_nan = df['reviews_per_month'].isna().sum()\n",
        "print(reviews_per_month_nan)"
      ],
      "metadata": {
        "id": "spDIo2Few69A",
        "outputId": "30c65646-67ab-4c45-c1fb-707c3a39e8c4",
        "colab": {
          "base_uri": "https://localhost:8080/"
        }
      },
      "id": "spDIo2Few69A",
      "execution_count": 6,
      "outputs": [
        {
          "output_type": "stream",
          "name": "stdout",
          "text": [
            "0\n"
          ]
        }
      ]
    },
    {
      "cell_type": "markdown",
      "source": [
        "Ahora debemos estudiar la distribución de esta, para ello haremos uso de boxplot, representando así cada apartamento para ver si hay outliers o datos rebundantes. "
      ],
      "metadata": {
        "id": "hZBwxiT99iBX"
      },
      "id": "hZBwxiT99iBX"
    },
    {
      "cell_type": "code",
      "source": [
        "import matplotlib.pyplot as plt\n",
        "boxplot_reviews=df['reviews_per_month']\n",
        "plt.boxplot(boxplot_reviews)\n",
        "plt.title('Boxplot reseña apartamentos ')\n",
        "plt.show()"
      ],
      "metadata": {
        "colab": {
          "base_uri": "https://localhost:8080/",
          "height": 281
        },
        "id": "XpVLKGfQ9xsl",
        "outputId": "311f970e-d692-41f4-d3bb-57ea540e5b06"
      },
      "id": "XpVLKGfQ9xsl",
      "execution_count": 7,
      "outputs": [
        {
          "output_type": "display_data",
          "data": {
            "text/plain": [
              "<Figure size 432x288 with 1 Axes>"
            ],
            "image/png": "[encoded data removed]"
          },
          "metadata": {
            "needs_background": "light"
          }
        }
      ]
    },
    {
      "cell_type": "code",
      "source": [
        "from matplotlib.cbook import boxplot_stats \n",
        "stats = boxplot_stats(boxplot_reviews)\n",
        "stats = stats[0] \n",
        "outliers = stats['fliers']\n",
        "min = stats['q1']-1.5*stats['iqr']\n",
        "max = stats['q3']+1.5*stats['iqr']\n",
        "print(min, max, len(outliers))\n",
        "            "
      ],
      "metadata": {
        "colab": {
          "base_uri": "https://localhost:8080/"
        },
        "id": "Fr9ewCF6-qJX",
        "outputId": "c1572da4-2999-4f02-f04e-b08a0ba13bcd"
      },
      "id": "Fr9ewCF6-qJX",
      "execution_count": 8,
      "outputs": [
        {
          "output_type": "stream",
          "name": "stdout",
          "text": [
            "-2.27 3.89 3312\n"
          ]
        }
      ]
    },
    {
      "cell_type": "markdown",
      "source": [
        "Con esta información interpretamos que tenemos 3312 outliers, y que de valor máximo aceptado, se obtendrá 3,89, y mínimo lo interpretamos como 0, ya que no vamos a encontrar valores negativos en el número de reseñas por mes. \n"
      ],
      "metadata": {
        "id": "2k1FSZzGFyPG"
      },
      "id": "2k1FSZzGFyPG"
    },
    {
      "cell_type": "markdown",
      "source": [
        "Ya nos hemos asegurado que no nos quedad ningún dato NaN, así no encontraremos ningún error a la hora de categorizar la columna, que es el siguiente paso. \n",
        "\n",
        "Lo categorizamos en tres: Baja, Media y Alta. "
      ],
      "metadata": {
        "id": "ojLK3k16xYEu"
      },
      "id": "ojLK3k16xYEu"
    },
    {
      "cell_type": "markdown",
      "source": [
        "Considerando que según los rangos intercuartiles hemos obtenido que el máximo valor que se considera aceptable es 3,89, y que el outlier mayor que se puede conseguir es 60, no podemos hacer los rangos teniendo en cuenta el mayor que se pueda tomar, si no el mayor aceptado. Es por ello que para definir cada uno,tendremos en cuenta el rango intercuartilíco: [0-3.89] \n",
        "\n",
        "Por lo que: \n",
        "- [0-1.3) = 'Baja'\n",
        "- [1.3 - 2.6) = 'Media'\n",
        "- [2.6 - 60) = 'Alta' (si no encontrásemos outliers, terminaría en 3.89, pero lo que vamos a hacer es simplemente ignorar esos outliers)"
      ],
      "metadata": {
        "id": "W3xLyeCoH6g2"
      },
      "id": "W3xLyeCoH6g2"
    },
    {
      "cell_type": "code",
      "source": [
        "filas=len(df.axes[0])\n",
        "df.loc[:,'reviews_per_month_cat']=np.nan\n",
        "for i in range(filas):\n",
        "  if df['reviews_per_month'][i]<1.3: \n",
        "    df['reviews_per_month_cat'][i]='Baja'\n",
        "  elif (df['reviews_per_month'][i]>1.3) & (df['reviews_per_month'][i]<=2.6): \n",
        "    df['reviews_per_month_cat'][i]='Media'\n",
        "  else:\n",
        "    df['reviews_per_month_cat'][i]='Alta'\n",
        "\n",
        "df.head()"
      ],
      "metadata": {
        "colab": {
          "base_uri": "https://localhost:8080/",
          "height": 634
        },
        "id": "th--hcdoH55M",
        "outputId": "2fe29525-87c6-4a7c-c339-0b2c16eea34c"
      },
      "id": "th--hcdoH55M",
      "execution_count": 9,
      "outputs": [
        {
          "output_type": "stream",
          "name": "stderr",
          "text": [
            "<ipython-input-9-32e49cfa6a12>:5: SettingWithCopyWarning: \n",
            "A value is trying to be set on a copy of a slice from a DataFrame\n",
            "\n",
            "See the caveats in the documentation: https://pandas.pydata.org/pandas-docs/stable/user_guide/indexing.html#returning-a-view-versus-a-copy\n",
            "  df['reviews_per_month_cat'][i]='Baja'\n",
            "/usr/local/lib/python3.8/dist-packages/pandas/core/indexing.py:1732: SettingWithCopyWarning: \n",
            "A value is trying to be set on a copy of a slice from a DataFrame\n",
            "\n",
            "See the caveats in the documentation: https://pandas.pydata.org/pandas-docs/stable/user_guide/indexing.html#returning-a-view-versus-a-copy\n",
            "  self._setitem_single_block(indexer, value, name)\n"
          ]
        },
        {
          "output_type": "execute_result",
          "data": {
            "text/plain": [
              "     id                                              name  host_id  \\\n",
              "0  2539                Clean & quiet apt home by the park     2787   \n",
              "1  2595                             Skylit Midtown Castle     2845   \n",
              "2  3647               THE VILLAGE OF HARLEM....NEW YORK !     4632   \n",
              "3  3831                   Cozy Entire Floor of Brownstone     4869   \n",
              "4  5022  Entire Apt: Spacious Studio/Loft by central park     7192   \n",
              "\n",
              "     host_name neighbourhood_group neighbourhood  latitude  longitude  \\\n",
              "0         John            Brooklyn    Kensington  40.64749  -73.97237   \n",
              "1     Jennifer           Manhattan       Midtown  40.75362  -73.98377   \n",
              "2    Elisabeth           Manhattan        Harlem  40.80902  -73.94190   \n",
              "3  LisaRoxanne            Brooklyn  Clinton Hill  40.68514  -73.95976   \n",
              "4        Laura           Manhattan   East Harlem  40.79851  -73.94399   \n",
              "\n",
              "         room_type  price  minimum_nights  number_of_reviews last_review  \\\n",
              "0     Private room    149               1                  9  2018-10-19   \n",
              "1  Entire home/apt    225               1                 45  2019-05-21   \n",
              "2     Private room    150               3                  0         NaN   \n",
              "3  Entire home/apt     89               1                270  2019-07-05   \n",
              "4  Entire home/apt     80              10                  9  2018-11-19   \n",
              "\n",
              "   reviews_per_month  calculated_host_listings_count  availability_365  \\\n",
              "0               0.21                               6               365   \n",
              "1               0.38                               2               355   \n",
              "2               0.00                               1               365   \n",
              "3               4.64                               1               194   \n",
              "4               0.10                               1                 0   \n",
              "\n",
              "  reviews_per_month_cat  \n",
              "0                  Baja  \n",
              "1                  Baja  \n",
              "2                  Baja  \n",
              "3                  Alta  \n",
              "4                  Baja  "
            ],
            "text/html": [
              "\n",
              "  <div id=\"df-76fccba1-bec6-4226-9548-4cff68e7f5c8\">\n",
              "    <div class=\"colab-df-container\">\n",
              "      <div>\n",
              "<style scoped>\n",
              "    .dataframe tbody tr th:only-of-type {\n",
              "        vertical-align: middle;\n",
              "    }\n",
              "\n",
              "    .dataframe tbody tr th {\n",
              "        vertical-align: top;\n",
              "    }\n",
              "\n",
              "    .dataframe thead th {\n",
              "        text-align: right;\n",
              "    }\n",
              "</style>\n",
              "<table border=\"1\" class=\"dataframe\">\n",
              "  <thead>\n",
              "    <tr style=\"text-align: right;\">\n",
              "      <th></th>\n",
              "      <th>id</th>\n",
              "      <th>name</th>\n",
              "      <th>host_id</th>\n",
              "      <th>host_name</th>\n",
              "      <th>neighbourhood_group</th>\n",
              "      <th>neighbourhood</th>\n",
              "      <th>latitude</th>\n",
              "      <th>longitude</th>\n",
              "      <th>room_type</th>\n",
              "      <th>price</th>\n",
              "      <th>minimum_nights</th>\n",
              "      <th>number_of_reviews</th>\n",
              "      <th>last_review</th>\n",
              "      <th>reviews_per_month</th>\n",
              "      <th>calculated_host_listings_count</th>\n",
              "      <th>availability_365</th>\n",
              "      <th>reviews_per_month_cat</th>\n",
              "    </tr>\n",
              "  </thead>\n",
              "  <tbody>\n",
              "    <tr>\n",
              "      <th>0</th>\n",
              "      <td>2539</td>\n",
              "      <td>Clean &amp; quiet apt home by the park</td>\n",
              "      <td>2787</td>\n",
              "      <td>John</td>\n",
              "      <td>Brooklyn</td>\n",
              "      <td>Kensington</td>\n",
              "      <td>40.64749</td>\n",
              "      <td>-73.97237</td>\n",
              "      <td>Private room</td>\n",
              "      <td>149</td>\n",
              "      <td>1</td>\n",
              "      <td>9</td>\n",
              "      <td>2018-10-19</td>\n",
              "      <td>0.21</td>\n",
              "      <td>6</td>\n",
              "      <td>365</td>\n",
              "      <td>Baja</td>\n",
              "    </tr>\n",
              "    <tr>\n",
              "      <th>1</th>\n",
              "      <td>2595</td>\n",
              "      <td>Skylit Midtown Castle</td>\n",
              "      <td>2845</td>\n",
              "      <td>Jennifer</td>\n",
              "      <td>Manhattan</td>\n",
              "      <td>Midtown</td>\n",
              "      <td>40.75362</td>\n",
              "      <td>-73.98377</td>\n",
              "      <td>Entire home/apt</td>\n",
              "      <td>225</td>\n",
              "      <td>1</td>\n",
              "      <td>45</td>\n",
              "      <td>2019-05-21</td>\n",
              "      <td>0.38</td>\n",
              "      <td>2</td>\n",
              "      <td>355</td>\n",
              "      <td>Baja</td>\n",
              "    </tr>\n",
              "    <tr>\n",
              "      <th>2</th>\n",
              "      <td>3647</td>\n",
              "      <td>THE VILLAGE OF HARLEM....NEW YORK !</td>\n",
              "      <td>4632</td>\n",
              "      <td>Elisabeth</td>\n",
              "      <td>Manhattan</td>\n",
              "      <td>Harlem</td>\n",
              "      <td>40.80902</td>\n",
              "      <td>-73.94190</td>\n",
              "      <td>Private room</td>\n",
              "      <td>150</td>\n",
              "      <td>3</td>\n",
              "      <td>0</td>\n",
              "      <td>NaN</td>\n",
              "      <td>0.00</td>\n",
              "      <td>1</td>\n",
              "      <td>365</td>\n",
              "      <td>Baja</td>\n",
              "    </tr>\n",
              "    <tr>\n",
              "      <th>3</th>\n",
              "      <td>3831</td>\n",
              "      <td>Cozy Entire Floor of Brownstone</td>\n",
              "      <td>4869</td>\n",
              "      <td>LisaRoxanne</td>\n",
              "      <td>Brooklyn</td>\n",
              "      <td>Clinton Hill</td>\n",
              "      <td>40.68514</td>\n",
              "      <td>-73.95976</td>\n",
              "      <td>Entire home/apt</td>\n",
              "      <td>89</td>\n",
              "      <td>1</td>\n",
              "      <td>270</td>\n",
              "      <td>2019-07-05</td>\n",
              "      <td>4.64</td>\n",
              "      <td>1</td>\n",
              "      <td>194</td>\n",
              "      <td>Alta</td>\n",
              "    </tr>\n",
              "    <tr>\n",
              "      <th>4</th>\n",
              "      <td>5022</td>\n",
              "      <td>Entire Apt: Spacious Studio/Loft by central park</td>\n",
              "      <td>7192</td>\n",
              "      <td>Laura</td>\n",
              "      <td>Manhattan</td>\n",
              "      <td>East Harlem</td>\n",
              "      <td>40.79851</td>\n",
              "      <td>-73.94399</td>\n",
              "      <td>Entire home/apt</td>\n",
              "      <td>80</td>\n",
              "      <td>10</td>\n",
              "      <td>9</td>\n",
              "      <td>2018-11-19</td>\n",
              "      <td>0.10</td>\n",
              "      <td>1</td>\n",
              "      <td>0</td>\n",
              "      <td>Baja</td>\n",
              "    </tr>\n",
              "  </tbody>\n",
              "</table>\n",
              "</div>\n",
              "      <button class=\"colab-df-convert\" onclick=\"convertToInteractive('df-76fccba1-bec6-4226-9548-4cff68e7f5c8')\"\n",
              "              title=\"Convert this dataframe to an interactive table.\"\n",
              "              style=\"display:none;\">\n",
              "        \n",
              "  <svg xmlns=\"http://www.w3.org/2000/svg\" height=\"24px\"viewBox=\"0 0 24 24\"\n",
              "       width=\"24px\">\n",
              "    <path d=\"M0 0h24v24H0V0z\" fill=\"none\"/>\n",
              "    <path d=\"M18.56 5.44l.94 2.06.94-2.06 2.06-.94-2.06-.94-.94-2.06-.94 2.06-2.06.94zm-11 1L8.5 8.5l.94-2.06 2.06-.94-2.06-.94L8.5 2.5l-.94 2.06-2.06.94zm10 10l.94 2.06.94-2.06 2.06-.94-2.06-.94-.94-2.06-.94 2.06-2.06.94z\"/><path d=\"M17.41 7.96l-1.37-1.37c-.4-.4-.92-.59-1.43-.59-.52 0-1.04.2-1.43.59L10.3 9.45l-7.72 7.72c-.78.78-.78 2.05 0 2.83L4 21.41c.39.39.9.59 1.41.59.51 0 1.02-.2 1.41-.59l7.78-7.78 2.81-2.81c.8-.78.8-2.07 0-2.86zM5.41 20L4 18.59l7.72-7.72 1.47 1.35L5.41 20z\"/>\n",
              "  </svg>\n",
              "      </button>\n",
              "      \n",
              "  <style>\n",
              "    .colab-df-container {\n",
              "      display:flex;\n",
              "      flex-wrap:wrap;\n",
              "      gap: 12px;\n",
              "    }\n",
              "\n",
              "    .colab-df-convert {\n",
              "      background-color: #E8F0FE;\n",
              "      border: none;\n",
              "      border-radius: 50%;\n",
              "      cursor: pointer;\n",
              "      display: none;\n",
              "      fill: #1967D2;\n",
              "      height: 32px;\n",
              "      padding: 0 0 0 0;\n",
              "      width: 32px;\n",
              "    }\n",
              "\n",
              "    .colab-df-convert:hover {\n",
              "      background-color: #E2EBFA;\n",
              "      box-shadow: 0px 1px 2px rgba(60, 64, 67, 0.3), 0px 1px 3px 1px rgba(60, 64, 67, 0.15);\n",
              "      fill: #174EA6;\n",
              "    }\n",
              "\n",
              "    [theme=dark] .colab-df-convert {\n",
              "      background-color: #3B4455;\n",
              "      fill: #D2E3FC;\n",
              "    }\n",
              "\n",
              "    [theme=dark] .colab-df-convert:hover {\n",
              "      background-color: #434B5C;\n",
              "      box-shadow: 0px 1px 3px 1px rgba(0, 0, 0, 0.15);\n",
              "      filter: drop-shadow(0px 1px 2px rgba(0, 0, 0, 0.3));\n",
              "      fill: #FFFFFF;\n",
              "    }\n",
              "  </style>\n",
              "\n",
              "      <script>\n",
              "        const buttonEl =\n",
              "          document.querySelector('#df-76fccba1-bec6-4226-9548-4cff68e7f5c8 button.colab-df-convert');\n",
              "        buttonEl.style.display =\n",
              "          google.colab.kernel.accessAllowed ? 'block' : 'none';\n",
              "\n",
              "        async function convertToInteractive(key) {\n",
              "          const element = document.querySelector('#df-76fccba1-bec6-4226-9548-4cff68e7f5c8');\n",
              "          const dataTable =\n",
              "            await google.colab.kernel.invokeFunction('convertToInteractive',\n",
              "                                                     [key], {});\n",
              "          if (!dataTable) return;\n",
              "\n",
              "          const docLinkHtml = 'Like what you see? Visit the ' +\n",
              "            '<a target=\"_blank\" href=https://colab.research.google.com/notebooks/data_table.ipynb>data table notebook</a>'\n",
              "            + ' to learn more about interactive tables.';\n",
              "          element.innerHTML = '';\n",
              "          dataTable['output_type'] = 'display_data';\n",
              "          await google.colab.output.renderOutput(dataTable, element);\n",
              "          const docLink = document.createElement('div');\n",
              "          docLink.innerHTML = docLinkHtml;\n",
              "          element.appendChild(docLink);\n",
              "        }\n",
              "      </script>\n",
              "    </div>\n",
              "  </div>\n",
              "  "
            ]
          },
          "metadata": {},
          "execution_count": 9
        }
      ]
    },
    {
      "cell_type": "markdown",
      "source": [
        "Comprobamos si se ha ejecutado bien: "
      ],
      "metadata": {
        "id": "K2w7OO1Nrx50"
      },
      "id": "K2w7OO1Nrx50"
    },
    {
      "cell_type": "code",
      "source": [
        "reviews_per_month_cat_nan = df['reviews_per_month_cat'].isna().sum()\n",
        "print(reviews_per_month_cat_nan)"
      ],
      "metadata": {
        "colab": {
          "base_uri": "https://localhost:8080/"
        },
        "id": "oIy_BLGkrmKw",
        "outputId": "77255c7f-327e-4c3a-e11a-01f06750b0b5"
      },
      "id": "oIy_BLGkrmKw",
      "execution_count": 10,
      "outputs": [
        {
          "output_type": "stream",
          "name": "stdout",
          "text": [
            "0\n"
          ]
        }
      ]
    },
    {
      "cell_type": "markdown",
      "source": [
        "Efectivamente. "
      ],
      "metadata": {
        "id": "Dh1Ws27lr0Gq"
      },
      "id": "Dh1Ws27lr0Gq"
    },
    {
      "cell_type": "code",
      "source": [
        "# Número de intervalos\n",
        "#num_intervalos = 3\n",
        "\n",
        "# Lista de intervalos\n",
        "#intervalos = np.linspace(df['reviews_per_month'].min()-0.001, df['reviews_per_month'].max(), num_intervalos+1)\n",
        "\n",
        "# Creamos las etiquetas \n",
        "#etiquetas = ['Baja', 'Media', 'Alta']\n",
        "\n",
        "# Asigna una categoría a cada intervalo\n",
        "#df['reviews_per_month'] = pd.cut(df['reviews_per_month'], intervalos, labels=etiquetas)"
      ],
      "metadata": {
        "id": "j41mwnb23Cz3"
      },
      "id": "j41mwnb23Cz3",
      "execution_count": 11,
      "outputs": []
    },
    {
      "cell_type": "markdown",
      "source": [
        "Por otro lado, vamos a clasificar los alquileres en función de los días que están disponibles. \n",
        "\n",
        "Para ello, siguiendo el patrón anterior, calculamos si hay NaN en la columna correspondiente: \n"
      ],
      "metadata": {
        "id": "PdD3LirDN4nG"
      },
      "id": "PdD3LirDN4nG"
    },
    {
      "cell_type": "code",
      "source": [
        "disponibilidad_nan = df['availability_365'].isna().sum()\n",
        "print(disponibilidad_nan)"
      ],
      "metadata": {
        "colab": {
          "base_uri": "https://localhost:8080/"
        },
        "id": "aIcgUrRyOSpi",
        "outputId": "a42ddcee-57d6-4a3c-9570-9aea5749a66f"
      },
      "id": "aIcgUrRyOSpi",
      "execution_count": 12,
      "outputs": [
        {
          "output_type": "stream",
          "name": "stdout",
          "text": [
            "0\n"
          ]
        }
      ]
    },
    {
      "cell_type": "markdown",
      "source": [
        "No hay ningún NaN en dicha columna, por lo que no hace falta tratarlos. En el caso de encontrarlos, se tendría que estudiar qué hacer con este conjunto de datos de manera independiente. \n",
        "\n"
      ],
      "metadata": {
        "id": "ZxvJl4iWOc35"
      },
      "id": "ZxvJl4iWOc35"
    },
    {
      "cell_type": "markdown",
      "source": [
        "Ahora pasamos a estudiar de la misma manera la distribución de esta variable, gracias al uso de Boxplot."
      ],
      "metadata": {
        "id": "GQhj_NrEkfKv"
      },
      "id": "GQhj_NrEkfKv"
    },
    {
      "cell_type": "code",
      "source": [
        "import matplotlib.pyplot as plt\n",
        "boxplot_availability_365=df['availability_365']\n",
        "plt.boxplot(boxplot_availability_365)\n",
        "plt.title('Boxplot availability_365 apartamentos ')\n",
        "plt.show()"
      ],
      "metadata": {
        "colab": {
          "base_uri": "https://localhost:8080/",
          "height": 281
        },
        "id": "OGm38mHhkmYi",
        "outputId": "0d7736ff-82fb-4c7d-f3ff-45eb6175a9e7"
      },
      "id": "OGm38mHhkmYi",
      "execution_count": 13,
      "outputs": [
        {
          "output_type": "display_data",
          "data": {
            "text/plain": [
              "<Figure size 432x288 with 1 Axes>"
            ],
            "image/png": "[encoded data removed]"
          },
          "metadata": {
            "needs_background": "light"
          }
        }
      ]
    },
    {
      "cell_type": "code",
      "source": [
        "from matplotlib.cbook import boxplot_stats \n",
        "stats = boxplot_stats(boxplot_availability_365)\n",
        "stats = stats[0] \n",
        "outliers = stats['fliers']\n",
        "min = stats['q1']-1.5*stats['iqr']\n",
        "max = stats['q3']+1.5*stats['iqr']\n",
        "print(min, max, len(outliers))"
      ],
      "metadata": {
        "colab": {
          "base_uri": "https://localhost:8080/"
        },
        "id": "-vII3qs3kwOr",
        "outputId": "49e99b8e-bcd9-4987-a009-d5286e5489be"
      },
      "id": "-vII3qs3kwOr",
      "execution_count": 14,
      "outputs": [
        {
          "output_type": "stream",
          "name": "stdout",
          "text": [
            "-340.5 567.5 0\n"
          ]
        }
      ]
    },
    {
      "cell_type": "markdown",
      "source": [
        "Según este modelo, no encontramos ningún outliers, por lo que podemos continuar. "
      ],
      "metadata": {
        "id": "b3abdvOkk5C6"
      },
      "id": "b3abdvOkk5C6"
    },
    {
      "cell_type": "markdown",
      "source": [
        "Calculemos los intervalos de los rangos. "
      ],
      "metadata": {
        "id": "F6dMwu6okehh"
      },
      "id": "F6dMwu6okehh"
    },
    {
      "cell_type": "code",
      "source": [
        "df.loc[:,'availability_365_range']=np.nan"
      ],
      "metadata": {
        "id": "5xgdQASLkQzF"
      },
      "id": "5xgdQASLkQzF",
      "execution_count": 15,
      "outputs": []
    },
    {
      "cell_type": "code",
      "source": [
        "#Definimos los intervalos\n",
        "n_inter = 3\n",
        "\n",
        "# Creamos una lista de intervalos\n",
        "interv = np.linspace(df['availability_365'].min()-0.001, df['availability_365'].max(), n_inter+1)\n",
        "\n",
        "# Creamos las etiquetas \n",
        "labels = ['Poco disponible', 'Disponible normalmente', 'Altamente disponible']\n",
        "\n",
        "# Asigna una categoría a cada intervalo\n",
        "df['availability_365_range'] = pd.cut(df['availability_365'], interv, labels=labels)"
      ],
      "metadata": {
        "id": "vmLK7uBjRSw_"
      },
      "id": "vmLK7uBjRSw_",
      "execution_count": 16,
      "outputs": []
    },
    {
      "cell_type": "markdown",
      "source": [
        "Imprimimos 5 observaciones del nuevo atributo categorizado para observar si se ha realizado de manera correcta. "
      ],
      "metadata": {
        "id": "bQv6Dt6AxSCu"
      },
      "id": "bQv6Dt6AxSCu"
    },
    {
      "cell_type": "code",
      "source": [
        "print(df['availability_365_range'].head())"
      ],
      "metadata": {
        "colab": {
          "base_uri": "https://localhost:8080/"
        },
        "id": "9TbEdUnrSn_s",
        "outputId": "92b0fad3-1905-4ee3-920e-6c97fdc0d17b"
      },
      "id": "9TbEdUnrSn_s",
      "execution_count": 17,
      "outputs": [
        {
          "output_type": "stream",
          "name": "stdout",
          "text": [
            "0      Altamente disponible\n",
            "1      Altamente disponible\n",
            "2      Altamente disponible\n",
            "3    Disponible normalmente\n",
            "4           Poco disponible\n",
            "Name: availability_365_range, dtype: category\n",
            "Categories (3, object): ['Poco disponible' < 'Disponible normalmente' < 'Altamente disponible']\n"
          ]
        }
      ]
    },
    {
      "cell_type": "markdown",
      "source": [
        "Finalmente, añadimos la nueva columna de clasificación, y la rellenamos con datos NaN, para así más adelante rellenarlo según las reglas definidas en el enunciado."
      ],
      "metadata": {
        "id": "YOtorhGdTaBb"
      },
      "id": "YOtorhGdTaBb"
    },
    {
      "cell_type": "code",
      "source": [
        "df.loc[:,'classification']=np.nan"
      ],
      "metadata": {
        "id": "Rrpl5zmwTfko"
      },
      "id": "Rrpl5zmwTfko",
      "execution_count": 18,
      "outputs": []
    },
    {
      "cell_type": "markdown",
      "source": [
        "Imprimimos las 5 primeras observaciones con cada atributo para comprobar que se ha añadidio de manera correcta"
      ],
      "metadata": {
        "id": "yxMLqSy-ydV2"
      },
      "id": "yxMLqSy-ydV2"
    },
    {
      "cell_type": "code",
      "source": [
        "df.head()"
      ],
      "metadata": {
        "colab": {
          "base_uri": "https://localhost:8080/",
          "height": 461
        },
        "id": "Sapn3kXXybNU",
        "outputId": "a5eb17ef-4400-4eb8-86a9-b69675408abb"
      },
      "id": "Sapn3kXXybNU",
      "execution_count": 19,
      "outputs": [
        {
          "output_type": "execute_result",
          "data": {
            "text/plain": [
              "     id                                              name  host_id  \\\n",
              "0  2539                Clean & quiet apt home by the park     2787   \n",
              "1  2595                             Skylit Midtown Castle     2845   \n",
              "2  3647               THE VILLAGE OF HARLEM....NEW YORK !     4632   \n",
              "3  3831                   Cozy Entire Floor of Brownstone     4869   \n",
              "4  5022  Entire Apt: Spacious Studio/Loft by central park     7192   \n",
              "\n",
              "     host_name neighbourhood_group neighbourhood  latitude  longitude  \\\n",
              "0         John            Brooklyn    Kensington  40.64749  -73.97237   \n",
              "1     Jennifer           Manhattan       Midtown  40.75362  -73.98377   \n",
              "2    Elisabeth           Manhattan        Harlem  40.80902  -73.94190   \n",
              "3  LisaRoxanne            Brooklyn  Clinton Hill  40.68514  -73.95976   \n",
              "4        Laura           Manhattan   East Harlem  40.79851  -73.94399   \n",
              "\n",
              "         room_type  price  minimum_nights  number_of_reviews last_review  \\\n",
              "0     Private room    149               1                  9  2018-10-19   \n",
              "1  Entire home/apt    225               1                 45  2019-05-21   \n",
              "2     Private room    150               3                  0         NaN   \n",
              "3  Entire home/apt     89               1                270  2019-07-05   \n",
              "4  Entire home/apt     80              10                  9  2018-11-19   \n",
              "\n",
              "   reviews_per_month  calculated_host_listings_count  availability_365  \\\n",
              "0               0.21                               6               365   \n",
              "1               0.38                               2               355   \n",
              "2               0.00                               1               365   \n",
              "3               4.64                               1               194   \n",
              "4               0.10                               1                 0   \n",
              "\n",
              "  reviews_per_month_cat  availability_365_range  classification  \n",
              "0                  Baja    Altamente disponible             NaN  \n",
              "1                  Baja    Altamente disponible             NaN  \n",
              "2                  Baja    Altamente disponible             NaN  \n",
              "3                  Alta  Disponible normalmente             NaN  \n",
              "4                  Baja         Poco disponible             NaN  "
            ],
            "text/html": [
              "\n",
              "  <div id=\"df-6d77e50b-3a0c-4091-bfe7-20753e8fff3f\">\n",
              "    <div class=\"colab-df-container\">\n",
              "      <div>\n",
              "<style scoped>\n",
              "    .dataframe tbody tr th:only-of-type {\n",
              "        vertical-align: middle;\n",
              "    }\n",
              "\n",
              "    .dataframe tbody tr th {\n",
              "        vertical-align: top;\n",
              "    }\n",
              "\n",
              "    .dataframe thead th {\n",
              "        text-align: right;\n",
              "    }\n",
              "</style>\n",
              "<table border=\"1\" class=\"dataframe\">\n",
              "  <thead>\n",
              "    <tr style=\"text-align: right;\">\n",
              "      <th></th>\n",
              "      <th>id</th>\n",
              "      <th>name</th>\n",
              "      <th>host_id</th>\n",
              "      <th>host_name</th>\n",
              "      <th>neighbourhood_group</th>\n",
              "      <th>neighbourhood</th>\n",
              "      <th>latitude</th>\n",
              "      <th>longitude</th>\n",
              "      <th>room_type</th>\n",
              "      <th>price</th>\n",
              "      <th>minimum_nights</th>\n",
              "      <th>number_of_reviews</th>\n",
              "      <th>last_review</th>\n",
              "      <th>reviews_per_month</th>\n",
              "      <th>calculated_host_listings_count</th>\n",
              "      <th>availability_365</th>\n",
              "      <th>reviews_per_month_cat</th>\n",
              "      <th>availability_365_range</th>\n",
              "      <th>classification</th>\n",
              "    </tr>\n",
              "  </thead>\n",
              "  <tbody>\n",
              "    <tr>\n",
              "      <th>0</th>\n",
              "      <td>2539</td>\n",
              "      <td>Clean &amp; quiet apt home by the park</td>\n",
              "      <td>2787</td>\n",
              "      <td>John</td>\n",
              "      <td>Brooklyn</td>\n",
              "      <td>Kensington</td>\n",
              "      <td>40.64749</td>\n",
              "      <td>-73.97237</td>\n",
              "      <td>Private room</td>\n",
              "      <td>149</td>\n",
              "      <td>1</td>\n",
              "      <td>9</td>\n",
              "      <td>2018-10-19</td>\n",
              "      <td>0.21</td>\n",
              "      <td>6</td>\n",
              "      <td>365</td>\n",
              "      <td>Baja</td>\n",
              "      <td>Altamente disponible</td>\n",
              "      <td>NaN</td>\n",
              "    </tr>\n",
              "    <tr>\n",
              "      <th>1</th>\n",
              "      <td>2595</td>\n",
              "      <td>Skylit Midtown Castle</td>\n",
              "      <td>2845</td>\n",
              "      <td>Jennifer</td>\n",
              "      <td>Manhattan</td>\n",
              "      <td>Midtown</td>\n",
              "      <td>40.75362</td>\n",
              "      <td>-73.98377</td>\n",
              "      <td>Entire home/apt</td>\n",
              "      <td>225</td>\n",
              "      <td>1</td>\n",
              "      <td>45</td>\n",
              "      <td>2019-05-21</td>\n",
              "      <td>0.38</td>\n",
              "      <td>2</td>\n",
              "      <td>355</td>\n",
              "      <td>Baja</td>\n",
              "      <td>Altamente disponible</td>\n",
              "      <td>NaN</td>\n",
              "    </tr>\n",
              "    <tr>\n",
              "      <th>2</th>\n",
              "      <td>3647</td>\n",
              "      <td>THE VILLAGE OF HARLEM....NEW YORK !</td>\n",
              "      <td>4632</td>\n",
              "      <td>Elisabeth</td>\n",
              "      <td>Manhattan</td>\n",
              "      <td>Harlem</td>\n",
              "      <td>40.80902</td>\n",
              "      <td>-73.94190</td>\n",
              "      <td>Private room</td>\n",
              "      <td>150</td>\n",
              "      <td>3</td>\n",
              "      <td>0</td>\n",
              "      <td>NaN</td>\n",
              "      <td>0.00</td>\n",
              "      <td>1</td>\n",
              "      <td>365</td>\n",
              "      <td>Baja</td>\n",
              "      <td>Altamente disponible</td>\n",
              "      <td>NaN</td>\n",
              "    </tr>\n",
              "    <tr>\n",
              "      <th>3</th>\n",
              "      <td>3831</td>\n",
              "      <td>Cozy Entire Floor of Brownstone</td>\n",
              "      <td>4869</td>\n",
              "      <td>LisaRoxanne</td>\n",
              "      <td>Brooklyn</td>\n",
              "      <td>Clinton Hill</td>\n",
              "      <td>40.68514</td>\n",
              "      <td>-73.95976</td>\n",
              "      <td>Entire home/apt</td>\n",
              "      <td>89</td>\n",
              "      <td>1</td>\n",
              "      <td>270</td>\n",
              "      <td>2019-07-05</td>\n",
              "      <td>4.64</td>\n",
              "      <td>1</td>\n",
              "      <td>194</td>\n",
              "      <td>Alta</td>\n",
              "      <td>Disponible normalmente</td>\n",
              "      <td>NaN</td>\n",
              "    </tr>\n",
              "    <tr>\n",
              "      <th>4</th>\n",
              "      <td>5022</td>\n",
              "      <td>Entire Apt: Spacious Studio/Loft by central park</td>\n",
              "      <td>7192</td>\n",
              "      <td>Laura</td>\n",
              "      <td>Manhattan</td>\n",
              "      <td>East Harlem</td>\n",
              "      <td>40.79851</td>\n",
              "      <td>-73.94399</td>\n",
              "      <td>Entire home/apt</td>\n",
              "      <td>80</td>\n",
              "      <td>10</td>\n",
              "      <td>9</td>\n",
              "      <td>2018-11-19</td>\n",
              "      <td>0.10</td>\n",
              "      <td>1</td>\n",
              "      <td>0</td>\n",
              "      <td>Baja</td>\n",
              "      <td>Poco disponible</td>\n",
              "      <td>NaN</td>\n",
              "    </tr>\n",
              "  </tbody>\n",
              "</table>\n",
              "</div>\n",
              "      <button class=\"colab-df-convert\" onclick=\"convertToInteractive('df-6d77e50b-3a0c-4091-bfe7-20753e8fff3f')\"\n",
              "              title=\"Convert this dataframe to an interactive table.\"\n",
              "              style=\"display:none;\">\n",
              "        \n",
              "  <svg xmlns=\"http://www.w3.org/2000/svg\" height=\"24px\"viewBox=\"0 0 24 24\"\n",
              "       width=\"24px\">\n",
              "    <path d=\"M0 0h24v24H0V0z\" fill=\"none\"/>\n",
              "    <path d=\"M18.56 5.44l.94 2.06.94-2.06 2.06-.94-2.06-.94-.94-2.06-.94 2.06-2.06.94zm-11 1L8.5 8.5l.94-2.06 2.06-.94-2.06-.94L8.5 2.5l-.94 2.06-2.06.94zm10 10l.94 2.06.94-2.06 2.06-.94-2.06-.94-.94-2.06-.94 2.06-2.06.94z\"/><path d=\"M17.41 7.96l-1.37-1.37c-.4-.4-.92-.59-1.43-.59-.52 0-1.04.2-1.43.59L10.3 9.45l-7.72 7.72c-.78.78-.78 2.05 0 2.83L4 21.41c.39.39.9.59 1.41.59.51 0 1.02-.2 1.41-.59l7.78-7.78 2.81-2.81c.8-.78.8-2.07 0-2.86zM5.41 20L4 18.59l7.72-7.72 1.47 1.35L5.41 20z\"/>\n",
              "  </svg>\n",
              "      </button>\n",
              "      \n",
              "  <style>\n",
              "    .colab-df-container {\n",
              "      display:flex;\n",
              "      flex-wrap:wrap;\n",
              "      gap: 12px;\n",
              "    }\n",
              "\n",
              "    .colab-df-convert {\n",
              "      background-color: #E8F0FE;\n",
              "      border: none;\n",
              "      border-radius: 50%;\n",
              "      cursor: pointer;\n",
              "      display: none;\n",
              "      fill: #1967D2;\n",
              "      height: 32px;\n",
              "      padding: 0 0 0 0;\n",
              "      width: 32px;\n",
              "    }\n",
              "\n",
              "    .colab-df-convert:hover {\n",
              "      background-color: #E2EBFA;\n",
              "      box-shadow: 0px 1px 2px rgba(60, 64, 67, 0.3), 0px 1px 3px 1px rgba(60, 64, 67, 0.15);\n",
              "      fill: #174EA6;\n",
              "    }\n",
              "\n",
              "    [theme=dark] .colab-df-convert {\n",
              "      background-color: #3B4455;\n",
              "      fill: #D2E3FC;\n",
              "    }\n",
              "\n",
              "    [theme=dark] .colab-df-convert:hover {\n",
              "      background-color: #434B5C;\n",
              "      box-shadow: 0px 1px 3px 1px rgba(0, 0, 0, 0.15);\n",
              "      filter: drop-shadow(0px 1px 2px rgba(0, 0, 0, 0.3));\n",
              "      fill: #FFFFFF;\n",
              "    }\n",
              "  </style>\n",
              "\n",
              "      <script>\n",
              "        const buttonEl =\n",
              "          document.querySelector('#df-6d77e50b-3a0c-4091-bfe7-20753e8fff3f button.colab-df-convert');\n",
              "        buttonEl.style.display =\n",
              "          google.colab.kernel.accessAllowed ? 'block' : 'none';\n",
              "\n",
              "        async function convertToInteractive(key) {\n",
              "          const element = document.querySelector('#df-6d77e50b-3a0c-4091-bfe7-20753e8fff3f');\n",
              "          const dataTable =\n",
              "            await google.colab.kernel.invokeFunction('convertToInteractive',\n",
              "                                                     [key], {});\n",
              "          if (!dataTable) return;\n",
              "\n",
              "          const docLinkHtml = 'Like what you see? Visit the ' +\n",
              "            '<a target=\"_blank\" href=https://colab.research.google.com/notebooks/data_table.ipynb>data table notebook</a>'\n",
              "            + ' to learn more about interactive tables.';\n",
              "          element.innerHTML = '';\n",
              "          dataTable['output_type'] = 'display_data';\n",
              "          await google.colab.output.renderOutput(dataTable, element);\n",
              "          const docLink = document.createElement('div');\n",
              "          docLink.innerHTML = docLinkHtml;\n",
              "          element.appendChild(docLink);\n",
              "        }\n",
              "      </script>\n",
              "    </div>\n",
              "  </div>\n",
              "  "
            ]
          },
          "metadata": {},
          "execution_count": 19
        }
      ]
    },
    {
      "cell_type": "markdown",
      "source": [
        "Vamos a clasificar los datos según la siguente tabla\n",
        "\n",
        " Poco disponible | Disponible normalmente | Altamente disponible\n",
        "-----:|:--------:| -------\n",
        "Bueno | Regular | Malo\n",
        "Bueno | Regular | Malo\n",
        "Muy bueno | Bueno | Muy Malo\n",
        "\n",
        "\n",
        "\n",
        "Donde cada fila depende del valor de la reseña en Baja, Media y Alta respectivamente"
      ],
      "metadata": {
        "id": "lf_IUOwPXEd_"
      },
      "id": "lf_IUOwPXEd_"
    },
    {
      "cell_type": "code",
      "source": [
        "\n",
        "filas=len(df.axes[0])\n",
        "for i in range (filas):\n",
        "  if df['availability_365_range'][i]=='Poco disponible':\n",
        "    if df['reviews_per_month_cat'][i]=='Alta':\n",
        "      df['classification'][i]='Muy bueno'\n",
        "    else:\n",
        "      df['classification'][i]='Bueno'\n",
        "  elif df['availability_365_range'][i]=='Disponible normalmente':\n",
        "    if df['reviews_per_month_cat'][i]=='Alta':\n",
        "      df['classification'][i]='Bueno'\n",
        "    else:\n",
        "      df['classification'][i]='Regular'\n",
        "  else:\n",
        "    if df['reviews_per_month_cat'][i]=='Alta':\n",
        "      df['classification'][i]='Muy malo'\n",
        "    else:\n",
        "      df['classification'][i]='Malo'\n"
      ],
      "metadata": {
        "colab": {
          "base_uri": "https://localhost:8080/"
        },
        "id": "NoLv0nEFUFpF",
        "outputId": "7faffe6c-322c-4c7f-f055-fa6768db7324"
      },
      "id": "NoLv0nEFUFpF",
      "execution_count": 20,
      "outputs": [
        {
          "output_type": "stream",
          "name": "stderr",
          "text": [
            "<ipython-input-20-6bf71fe99177>:17: SettingWithCopyWarning: \n",
            "A value is trying to be set on a copy of a slice from a DataFrame\n",
            "\n",
            "See the caveats in the documentation: https://pandas.pydata.org/pandas-docs/stable/user_guide/indexing.html#returning-a-view-versus-a-copy\n",
            "  df['classification'][i]='Malo'\n",
            "/usr/local/lib/python3.8/dist-packages/pandas/core/indexing.py:1732: SettingWithCopyWarning: \n",
            "A value is trying to be set on a copy of a slice from a DataFrame\n",
            "\n",
            "See the caveats in the documentation: https://pandas.pydata.org/pandas-docs/stable/user_guide/indexing.html#returning-a-view-versus-a-copy\n",
            "  self._setitem_single_block(indexer, value, name)\n"
          ]
        }
      ]
    },
    {
      "cell_type": "markdown",
      "source": [
        "Comprobemos que no quede ningun NaN. "
      ],
      "metadata": {
        "id": "cGA8CoPvYkTw"
      },
      "id": "cGA8CoPvYkTw"
    },
    {
      "cell_type": "code",
      "source": [
        "classif_nan = df['classification'].isna().sum()\n",
        "print(classif_nan)"
      ],
      "metadata": {
        "colab": {
          "base_uri": "https://localhost:8080/"
        },
        "id": "qLg3vv7hYjsr",
        "outputId": "209364aa-ac39-456f-ad27-4f73eea65430"
      },
      "id": "qLg3vv7hYjsr",
      "execution_count": 21,
      "outputs": [
        {
          "output_type": "stream",
          "name": "stdout",
          "text": [
            "0\n"
          ]
        }
      ]
    },
    {
      "cell_type": "markdown",
      "source": [
        "Todos los datos de la nueva columna han sido modificados, por lo que ya tenemos clasificados los alquieleres. "
      ],
      "metadata": {
        "id": "FhZmKIasZWpu"
      },
      "id": "FhZmKIasZWpu"
    },
    {
      "cell_type": "markdown",
      "source": [
        "Estudiaremos cuantos apartamentos pertenecen a cada clase. \n",
        "\n"
      ],
      "metadata": {
        "id": "M7sdmyRxZo6w"
      },
      "id": "M7sdmyRxZo6w"
    },
    {
      "cell_type": "code",
      "source": [
        "cant_bueno = df['classification'].value_counts() \n",
        "print(cant_bueno)\n"
      ],
      "metadata": {
        "id": "4toUjSU8dqwN",
        "outputId": "4935f9c4-b7bd-468e-e00e-4a9cfdd302ee",
        "colab": {
          "base_uri": "https://localhost:8080/"
        }
      },
      "id": "4toUjSU8dqwN",
      "execution_count": 22,
      "outputs": [
        {
          "output_type": "stream",
          "name": "stdout",
          "text": [
            "Bueno        29017\n",
            "Malo          9451\n",
            "Regular       4956\n",
            "Muy bueno     3447\n",
            "Muy malo      2024\n",
            "Name: classification, dtype: int64\n"
          ]
        }
      ]
    },
    {
      "cell_type": "markdown",
      "source": [
        "Hay un total de 29 017 alquileres buenos, 9 451 malos y 2 024 muy malos, por lo que podemos considerar que de los alquileres en esta página predominan los buenos. "
      ],
      "metadata": {
        "id": "f6MaZ9sseI03"
      },
      "id": "f6MaZ9sseI03"
    },
    {
      "cell_type": "markdown",
      "source": [
        "## Modelado\n"
      ],
      "metadata": {
        "id": "xK5gIh_DsXan"
      },
      "id": "xK5gIh_DsXan"
    },
    {
      "cell_type": "markdown",
      "source": [
        "Una vez hemos preparado los datos tal y como deseamos, procedemos a modelar y estudiar el objetivo. Vamos a ver cuántos barrios hay, y cuántos apartamentos encontramos en los más populares. "
      ],
      "metadata": {
        "id": "US2QD_ToU4RF"
      },
      "id": "US2QD_ToU4RF"
    },
    {
      "cell_type": "code",
      "source": [
        "df['neighbourhood'].value_counts()\n"
      ],
      "metadata": {
        "colab": {
          "base_uri": "https://localhost:8080/"
        },
        "id": "O5d29tIMT9K2",
        "outputId": "3695815a-7b7f-4b71-d4d7-f8d2326b17d5"
      },
      "id": "O5d29tIMT9K2",
      "execution_count": 23,
      "outputs": [
        {
          "output_type": "execute_result",
          "data": {
            "text/plain": [
              "Williamsburg          3920\n",
              "Bedford-Stuyvesant    3714\n",
              "Harlem                2658\n",
              "Bushwick              2465\n",
              "Upper West Side       1971\n",
              "                      ... \n",
              "Fort Wadsworth           1\n",
              "Richmondtown             1\n",
              "New Dorp                 1\n",
              "Rossville                1\n",
              "Willowbrook              1\n",
              "Name: neighbourhood, Length: 221, dtype: int64"
            ]
          },
          "metadata": {},
          "execution_count": 23
        }
      ]
    },
    {
      "cell_type": "markdown",
      "source": [
        "Primero observamos que Williamsburg es donde más apartamentos encontramos.\n"
      ],
      "metadata": {
        "id": "sM8cZU-pVQoe"
      },
      "id": "sM8cZU-pVQoe"
    },
    {
      "cell_type": "markdown",
      "source": [
        "Como el objetivo del ejercicio es obtener la popularidad/calidad de cada barrio, para así ordenarlos y averiguar en qué ranking se encuentra, debemos por tanto hacer la media de cada uno. \n",
        "\n",
        "Anteriormente los clasificamos en unos rangos, pero eso no es efectivo, volveremos a clasificarlos en una nueva columna llamada 'classification_num', que se regirá a partir de las nuevas reglas proporcionadas, pero con un ligero cambio, y es que cada rango va a pasar a obtener un valor, tal que así: \n",
        "- muy malo: 0\n",
        "- malo: 0.25\n",
        "- regular: 0.5 \n",
        "- bueno: 0.75 \n",
        "- muy bueno: 1 \n",
        "\n",
        "Al igual que se ha ejecutado anteriormente, creamos una nueva variable, y lo añadimos como columna a nuestra base de datos. "
      ],
      "metadata": {
        "id": "rTJDRvFNYJqa"
      },
      "id": "rTJDRvFNYJqa"
    },
    {
      "cell_type": "markdown",
      "source": [
        "Lo que conseguimos con esto es que más tarde, al hacer la media, consigamos valores entre [0,1] por cada barrio. "
      ],
      "metadata": {
        "id": "BgrxiOEZlmgC"
      },
      "id": "BgrxiOEZlmgC"
    },
    {
      "cell_type": "code",
      "source": [
        "df.loc[:,'classification_num']=np.nan"
      ],
      "metadata": {
        "id": "2jZzLheBYFtB"
      },
      "id": "2jZzLheBYFtB",
      "execution_count": 24,
      "outputs": []
    },
    {
      "cell_type": "markdown",
      "source": [
        "Comprobamos de que se haya añadido correctamente. "
      ],
      "metadata": {
        "id": "uuNYeCWqZWMT"
      },
      "id": "uuNYeCWqZWMT"
    },
    {
      "cell_type": "code",
      "source": [
        "df.head()"
      ],
      "metadata": {
        "colab": {
          "base_uri": "https://localhost:8080/",
          "height": 461
        },
        "id": "2UEi4FG9YdOK",
        "outputId": "6a92b68a-376f-4357-cb9f-8d50479e9364"
      },
      "id": "2UEi4FG9YdOK",
      "execution_count": 25,
      "outputs": [
        {
          "output_type": "execute_result",
          "data": {
            "text/plain": [
              "     id                                              name  host_id  \\\n",
              "0  2539                Clean & quiet apt home by the park     2787   \n",
              "1  2595                             Skylit Midtown Castle     2845   \n",
              "2  3647               THE VILLAGE OF HARLEM....NEW YORK !     4632   \n",
              "3  3831                   Cozy Entire Floor of Brownstone     4869   \n",
              "4  5022  Entire Apt: Spacious Studio/Loft by central park     7192   \n",
              "\n",
              "     host_name neighbourhood_group neighbourhood  latitude  longitude  \\\n",
              "0         John            Brooklyn    Kensington  40.64749  -73.97237   \n",
              "1     Jennifer           Manhattan       Midtown  40.75362  -73.98377   \n",
              "2    Elisabeth           Manhattan        Harlem  40.80902  -73.94190   \n",
              "3  LisaRoxanne            Brooklyn  Clinton Hill  40.68514  -73.95976   \n",
              "4        Laura           Manhattan   East Harlem  40.79851  -73.94399   \n",
              "\n",
              "         room_type  price  minimum_nights  number_of_reviews last_review  \\\n",
              "0     Private room    149               1                  9  2018-10-19   \n",
              "1  Entire home/apt    225               1                 45  2019-05-21   \n",
              "2     Private room    150               3                  0         NaN   \n",
              "3  Entire home/apt     89               1                270  2019-07-05   \n",
              "4  Entire home/apt     80              10                  9  2018-11-19   \n",
              "\n",
              "   reviews_per_month  calculated_host_listings_count  availability_365  \\\n",
              "0               0.21                               6               365   \n",
              "1               0.38                               2               355   \n",
              "2               0.00                               1               365   \n",
              "3               4.64                               1               194   \n",
              "4               0.10                               1                 0   \n",
              "\n",
              "  reviews_per_month_cat  availability_365_range classification  \\\n",
              "0                  Baja    Altamente disponible           Malo   \n",
              "1                  Baja    Altamente disponible           Malo   \n",
              "2                  Baja    Altamente disponible           Malo   \n",
              "3                  Alta  Disponible normalmente          Bueno   \n",
              "4                  Baja         Poco disponible          Bueno   \n",
              "\n",
              "   classification_num  \n",
              "0                 NaN  \n",
              "1                 NaN  \n",
              "2                 NaN  \n",
              "3                 NaN  \n",
              "4                 NaN  "
            ],
            "text/html": [
              "\n",
              "  <div id=\"df-6d0e9fe3-022d-4fa9-8adc-93991ca50cd0\">\n",
              "    <div class=\"colab-df-container\">\n",
              "      <div>\n",
              "<style scoped>\n",
              "    .dataframe tbody tr th:only-of-type {\n",
              "        vertical-align: middle;\n",
              "    }\n",
              "\n",
              "    .dataframe tbody tr th {\n",
              "        vertical-align: top;\n",
              "    }\n",
              "\n",
              "    .dataframe thead th {\n",
              "        text-align: right;\n",
              "    }\n",
              "</style>\n",
              "<table border=\"1\" class=\"dataframe\">\n",
              "  <thead>\n",
              "    <tr style=\"text-align: right;\">\n",
              "      <th></th>\n",
              "      <th>id</th>\n",
              "      <th>name</th>\n",
              "      <th>host_id</th>\n",
              "      <th>host_name</th>\n",
              "      <th>neighbourhood_group</th>\n",
              "      <th>neighbourhood</th>\n",
              "      <th>latitude</th>\n",
              "      <th>longitude</th>\n",
              "      <th>room_type</th>\n",
              "      <th>price</th>\n",
              "      <th>minimum_nights</th>\n",
              "      <th>number_of_reviews</th>\n",
              "      <th>last_review</th>\n",
              "      <th>reviews_per_month</th>\n",
              "      <th>calculated_host_listings_count</th>\n",
              "      <th>availability_365</th>\n",
              "      <th>reviews_per_month_cat</th>\n",
              "      <th>availability_365_range</th>\n",
              "      <th>classification</th>\n",
              "      <th>classification_num</th>\n",
              "    </tr>\n",
              "  </thead>\n",
              "  <tbody>\n",
              "    <tr>\n",
              "      <th>0</th>\n",
              "      <td>2539</td>\n",
              "      <td>Clean &amp; quiet apt home by the park</td>\n",
              "      <td>2787</td>\n",
              "      <td>John</td>\n",
              "      <td>Brooklyn</td>\n",
              "      <td>Kensington</td>\n",
              "      <td>40.64749</td>\n",
              "      <td>-73.97237</td>\n",
              "      <td>Private room</td>\n",
              "      <td>149</td>\n",
              "      <td>1</td>\n",
              "      <td>9</td>\n",
              "      <td>2018-10-19</td>\n",
              "      <td>0.21</td>\n",
              "      <td>6</td>\n",
              "      <td>365</td>\n",
              "      <td>Baja</td>\n",
              "      <td>Altamente disponible</td>\n",
              "      <td>Malo</td>\n",
              "      <td>NaN</td>\n",
              "    </tr>\n",
              "    <tr>\n",
              "      <th>1</th>\n",
              "      <td>2595</td>\n",
              "      <td>Skylit Midtown Castle</td>\n",
              "      <td>2845</td>\n",
              "      <td>Jennifer</td>\n",
              "      <td>Manhattan</td>\n",
              "      <td>Midtown</td>\n",
              "      <td>40.75362</td>\n",
              "      <td>-73.98377</td>\n",
              "      <td>Entire home/apt</td>\n",
              "      <td>225</td>\n",
              "      <td>1</td>\n",
              "      <td>45</td>\n",
              "      <td>2019-05-21</td>\n",
              "      <td>0.38</td>\n",
              "      <td>2</td>\n",
              "      <td>355</td>\n",
              "      <td>Baja</td>\n",
              "      <td>Altamente disponible</td>\n",
              "      <td>Malo</td>\n",
              "      <td>NaN</td>\n",
              "    </tr>\n",
              "    <tr>\n",
              "      <th>2</th>\n",
              "      <td>3647</td>\n",
              "      <td>THE VILLAGE OF HARLEM....NEW YORK !</td>\n",
              "      <td>4632</td>\n",
              "      <td>Elisabeth</td>\n",
              "      <td>Manhattan</td>\n",
              "      <td>Harlem</td>\n",
              "      <td>40.80902</td>\n",
              "      <td>-73.94190</td>\n",
              "      <td>Private room</td>\n",
              "      <td>150</td>\n",
              "      <td>3</td>\n",
              "      <td>0</td>\n",
              "      <td>NaN</td>\n",
              "      <td>0.00</td>\n",
              "      <td>1</td>\n",
              "      <td>365</td>\n",
              "      <td>Baja</td>\n",
              "      <td>Altamente disponible</td>\n",
              "      <td>Malo</td>\n",
              "      <td>NaN</td>\n",
              "    </tr>\n",
              "    <tr>\n",
              "      <th>3</th>\n",
              "      <td>3831</td>\n",
              "      <td>Cozy Entire Floor of Brownstone</td>\n",
              "      <td>4869</td>\n",
              "      <td>LisaRoxanne</td>\n",
              "      <td>Brooklyn</td>\n",
              "      <td>Clinton Hill</td>\n",
              "      <td>40.68514</td>\n",
              "      <td>-73.95976</td>\n",
              "      <td>Entire home/apt</td>\n",
              "      <td>89</td>\n",
              "      <td>1</td>\n",
              "      <td>270</td>\n",
              "      <td>2019-07-05</td>\n",
              "      <td>4.64</td>\n",
              "      <td>1</td>\n",
              "      <td>194</td>\n",
              "      <td>Alta</td>\n",
              "      <td>Disponible normalmente</td>\n",
              "      <td>Bueno</td>\n",
              "      <td>NaN</td>\n",
              "    </tr>\n",
              "    <tr>\n",
              "      <th>4</th>\n",
              "      <td>5022</td>\n",
              "      <td>Entire Apt: Spacious Studio/Loft by central park</td>\n",
              "      <td>7192</td>\n",
              "      <td>Laura</td>\n",
              "      <td>Manhattan</td>\n",
              "      <td>East Harlem</td>\n",
              "      <td>40.79851</td>\n",
              "      <td>-73.94399</td>\n",
              "      <td>Entire home/apt</td>\n",
              "      <td>80</td>\n",
              "      <td>10</td>\n",
              "      <td>9</td>\n",
              "      <td>2018-11-19</td>\n",
              "      <td>0.10</td>\n",
              "      <td>1</td>\n",
              "      <td>0</td>\n",
              "      <td>Baja</td>\n",
              "      <td>Poco disponible</td>\n",
              "      <td>Bueno</td>\n",
              "      <td>NaN</td>\n",
              "    </tr>\n",
              "  </tbody>\n",
              "</table>\n",
              "</div>\n",
              "      <button class=\"colab-df-convert\" onclick=\"convertToInteractive('df-6d0e9fe3-022d-4fa9-8adc-93991ca50cd0')\"\n",
              "              title=\"Convert this dataframe to an interactive table.\"\n",
              "              style=\"display:none;\">\n",
              "        \n",
              "  <svg xmlns=\"http://www.w3.org/2000/svg\" height=\"24px\"viewBox=\"0 0 24 24\"\n",
              "       width=\"24px\">\n",
              "    <path d=\"M0 0h24v24H0V0z\" fill=\"none\"/>\n",
              "    <path d=\"M18.56 5.44l.94 2.06.94-2.06 2.06-.94-2.06-.94-.94-2.06-.94 2.06-2.06.94zm-11 1L8.5 8.5l.94-2.06 2.06-.94-2.06-.94L8.5 2.5l-.94 2.06-2.06.94zm10 10l.94 2.06.94-2.06 2.06-.94-2.06-.94-.94-2.06-.94 2.06-2.06.94z\"/><path d=\"M17.41 7.96l-1.37-1.37c-.4-.4-.92-.59-1.43-.59-.52 0-1.04.2-1.43.59L10.3 9.45l-7.72 7.72c-.78.78-.78 2.05 0 2.83L4 21.41c.39.39.9.59 1.41.59.51 0 1.02-.2 1.41-.59l7.78-7.78 2.81-2.81c.8-.78.8-2.07 0-2.86zM5.41 20L4 18.59l7.72-7.72 1.47 1.35L5.41 20z\"/>\n",
              "  </svg>\n",
              "      </button>\n",
              "      \n",
              "  <style>\n",
              "    .colab-df-container {\n",
              "      display:flex;\n",
              "      flex-wrap:wrap;\n",
              "      gap: 12px;\n",
              "    }\n",
              "\n",
              "    .colab-df-convert {\n",
              "      background-color: #E8F0FE;\n",
              "      border: none;\n",
              "      border-radius: 50%;\n",
              "      cursor: pointer;\n",
              "      display: none;\n",
              "      fill: #1967D2;\n",
              "      height: 32px;\n",
              "      padding: 0 0 0 0;\n",
              "      width: 32px;\n",
              "    }\n",
              "\n",
              "    .colab-df-convert:hover {\n",
              "      background-color: #E2EBFA;\n",
              "      box-shadow: 0px 1px 2px rgba(60, 64, 67, 0.3), 0px 1px 3px 1px rgba(60, 64, 67, 0.15);\n",
              "      fill: #174EA6;\n",
              "    }\n",
              "\n",
              "    [theme=dark] .colab-df-convert {\n",
              "      background-color: #3B4455;\n",
              "      fill: #D2E3FC;\n",
              "    }\n",
              "\n",
              "    [theme=dark] .colab-df-convert:hover {\n",
              "      background-color: #434B5C;\n",
              "      box-shadow: 0px 1px 3px 1px rgba(0, 0, 0, 0.15);\n",
              "      filter: drop-shadow(0px 1px 2px rgba(0, 0, 0, 0.3));\n",
              "      fill: #FFFFFF;\n",
              "    }\n",
              "  </style>\n",
              "\n",
              "      <script>\n",
              "        const buttonEl =\n",
              "          document.querySelector('#df-6d0e9fe3-022d-4fa9-8adc-93991ca50cd0 button.colab-df-convert');\n",
              "        buttonEl.style.display =\n",
              "          google.colab.kernel.accessAllowed ? 'block' : 'none';\n",
              "\n",
              "        async function convertToInteractive(key) {\n",
              "          const element = document.querySelector('#df-6d0e9fe3-022d-4fa9-8adc-93991ca50cd0');\n",
              "          const dataTable =\n",
              "            await google.colab.kernel.invokeFunction('convertToInteractive',\n",
              "                                                     [key], {});\n",
              "          if (!dataTable) return;\n",
              "\n",
              "          const docLinkHtml = 'Like what you see? Visit the ' +\n",
              "            '<a target=\"_blank\" href=https://colab.research.google.com/notebooks/data_table.ipynb>data table notebook</a>'\n",
              "            + ' to learn more about interactive tables.';\n",
              "          element.innerHTML = '';\n",
              "          dataTable['output_type'] = 'display_data';\n",
              "          await google.colab.output.renderOutput(dataTable, element);\n",
              "          const docLink = document.createElement('div');\n",
              "          docLink.innerHTML = docLinkHtml;\n",
              "          element.appendChild(docLink);\n",
              "        }\n",
              "      </script>\n",
              "    </div>\n",
              "  </div>\n",
              "  "
            ]
          },
          "metadata": {},
          "execution_count": 25
        }
      ]
    },
    {
      "cell_type": "markdown",
      "source": [
        "Procedemos a la clasificación de cada apartameto, tal y como se explicó anteriormente. "
      ],
      "metadata": {
        "id": "5hDcpu_SZbFt"
      },
      "id": "5hDcpu_SZbFt"
    },
    {
      "cell_type": "code",
      "source": [
        "filas=len(df.axes[0])\n",
        "for i in range (filas):\n",
        "  if df['availability_365_range'][i]=='Poco disponible':\n",
        "    if df['reviews_per_month_cat'][i]=='Alta':\n",
        "      df['classification_num'][i]=1\n",
        "    else:\n",
        "      df['classification_num'][i]=0.75\n",
        "  elif df['availability_365_range'][i]=='Disponible normalmente':\n",
        "    if df['reviews_per_month_cat'][i]=='Alta':\n",
        "      df['classification_num'][i]=0.75\n",
        "    else:\n",
        "      df['classification_num'][i]=0.5\n",
        "  else:\n",
        "    if df['reviews_per_month_cat'][i]=='Alta':\n",
        "      df['classification_num'][i]=0\n",
        "    else:\n",
        "      df['classification_num'][i]=0.25"
      ],
      "metadata": {
        "colab": {
          "base_uri": "https://localhost:8080/"
        },
        "id": "CcCeERNUX6mn",
        "outputId": "b1cd0b1b-3dde-47b6-fb16-4d75f8e49992"
      },
      "id": "CcCeERNUX6mn",
      "execution_count": 26,
      "outputs": [
        {
          "output_type": "stream",
          "name": "stderr",
          "text": [
            "<ipython-input-26-06fd58d22def>:17: SettingWithCopyWarning: \n",
            "A value is trying to be set on a copy of a slice from a DataFrame\n",
            "\n",
            "See the caveats in the documentation: https://pandas.pydata.org/pandas-docs/stable/user_guide/indexing.html#returning-a-view-versus-a-copy\n",
            "  df['classification_num'][i]=0.25\n",
            "<ipython-input-26-06fd58d22def>:10: SettingWithCopyWarning: \n",
            "A value is trying to be set on a copy of a slice from a DataFrame\n",
            "\n",
            "See the caveats in the documentation: https://pandas.pydata.org/pandas-docs/stable/user_guide/indexing.html#returning-a-view-versus-a-copy\n",
            "  df['classification_num'][i]=0.75\n",
            "<ipython-input-26-06fd58d22def>:7: SettingWithCopyWarning: \n",
            "A value is trying to be set on a copy of a slice from a DataFrame\n",
            "\n",
            "See the caveats in the documentation: https://pandas.pydata.org/pandas-docs/stable/user_guide/indexing.html#returning-a-view-versus-a-copy\n",
            "  df['classification_num'][i]=0.75\n",
            "<ipython-input-26-06fd58d22def>:12: SettingWithCopyWarning: \n",
            "A value is trying to be set on a copy of a slice from a DataFrame\n",
            "\n",
            "See the caveats in the documentation: https://pandas.pydata.org/pandas-docs/stable/user_guide/indexing.html#returning-a-view-versus-a-copy\n",
            "  df['classification_num'][i]=0.5\n",
            "<ipython-input-26-06fd58d22def>:5: SettingWithCopyWarning: \n",
            "A value is trying to be set on a copy of a slice from a DataFrame\n",
            "\n",
            "See the caveats in the documentation: https://pandas.pydata.org/pandas-docs/stable/user_guide/indexing.html#returning-a-view-versus-a-copy\n",
            "  df['classification_num'][i]=1\n",
            "<ipython-input-26-06fd58d22def>:15: SettingWithCopyWarning: \n",
            "A value is trying to be set on a copy of a slice from a DataFrame\n",
            "\n",
            "See the caveats in the documentation: https://pandas.pydata.org/pandas-docs/stable/user_guide/indexing.html#returning-a-view-versus-a-copy\n",
            "  df['classification_num'][i]=0\n"
          ]
        }
      ]
    },
    {
      "cell_type": "markdown",
      "source": [
        "A priori, parece que los valores se han añadido correctamente, pero lo comprobaremos estudiando a ver si hay algún NaN (que no debería)."
      ],
      "metadata": {
        "id": "3kIYCLvQZ2h_"
      },
      "id": "3kIYCLvQZ2h_"
    },
    {
      "cell_type": "code",
      "source": [
        "df.head()"
      ],
      "metadata": {
        "colab": {
          "base_uri": "https://localhost:8080/",
          "height": 461
        },
        "id": "m498fzNhYjAA",
        "outputId": "4773ffa6-cdd9-4358-f12e-07bcadd6d60c"
      },
      "id": "m498fzNhYjAA",
      "execution_count": 27,
      "outputs": [
        {
          "output_type": "execute_result",
          "data": {
            "text/plain": [
              "     id                                              name  host_id  \\\n",
              "0  2539                Clean & quiet apt home by the park     2787   \n",
              "1  2595                             Skylit Midtown Castle     2845   \n",
              "2  3647               THE VILLAGE OF HARLEM....NEW YORK !     4632   \n",
              "3  3831                   Cozy Entire Floor of Brownstone     4869   \n",
              "4  5022  Entire Apt: Spacious Studio/Loft by central park     7192   \n",
              "\n",
              "     host_name neighbourhood_group neighbourhood  latitude  longitude  \\\n",
              "0         John            Brooklyn    Kensington  40.64749  -73.97237   \n",
              "1     Jennifer           Manhattan       Midtown  40.75362  -73.98377   \n",
              "2    Elisabeth           Manhattan        Harlem  40.80902  -73.94190   \n",
              "3  LisaRoxanne            Brooklyn  Clinton Hill  40.68514  -73.95976   \n",
              "4        Laura           Manhattan   East Harlem  40.79851  -73.94399   \n",
              "\n",
              "         room_type  price  minimum_nights  number_of_reviews last_review  \\\n",
              "0     Private room    149               1                  9  2018-10-19   \n",
              "1  Entire home/apt    225               1                 45  2019-05-21   \n",
              "2     Private room    150               3                  0         NaN   \n",
              "3  Entire home/apt     89               1                270  2019-07-05   \n",
              "4  Entire home/apt     80              10                  9  2018-11-19   \n",
              "\n",
              "   reviews_per_month  calculated_host_listings_count  availability_365  \\\n",
              "0               0.21                               6               365   \n",
              "1               0.38                               2               355   \n",
              "2               0.00                               1               365   \n",
              "3               4.64                               1               194   \n",
              "4               0.10                               1                 0   \n",
              "\n",
              "  reviews_per_month_cat  availability_365_range classification  \\\n",
              "0                  Baja    Altamente disponible           Malo   \n",
              "1                  Baja    Altamente disponible           Malo   \n",
              "2                  Baja    Altamente disponible           Malo   \n",
              "3                  Alta  Disponible normalmente          Bueno   \n",
              "4                  Baja         Poco disponible          Bueno   \n",
              "\n",
              "   classification_num  \n",
              "0                0.25  \n",
              "1                0.25  \n",
              "2                0.25  \n",
              "3                0.75  \n",
              "4                0.75  "
            ],
            "text/html": [
              "\n",
              "  <div id=\"df-461108f1-aac7-4961-b18f-e106d449a51e\">\n",
              "    <div class=\"colab-df-container\">\n",
              "      <div>\n",
              "<style scoped>\n",
              "    .dataframe tbody tr th:only-of-type {\n",
              "        vertical-align: middle;\n",
              "    }\n",
              "\n",
              "    .dataframe tbody tr th {\n",
              "        vertical-align: top;\n",
              "    }\n",
              "\n",
              "    .dataframe thead th {\n",
              "        text-align: right;\n",
              "    }\n",
              "</style>\n",
              "<table border=\"1\" class=\"dataframe\">\n",
              "  <thead>\n",
              "    <tr style=\"text-align: right;\">\n",
              "      <th></th>\n",
              "      <th>id</th>\n",
              "      <th>name</th>\n",
              "      <th>host_id</th>\n",
              "      <th>host_name</th>\n",
              "      <th>neighbourhood_group</th>\n",
              "      <th>neighbourhood</th>\n",
              "      <th>latitude</th>\n",
              "      <th>longitude</th>\n",
              "      <th>room_type</th>\n",
              "      <th>price</th>\n",
              "      <th>minimum_nights</th>\n",
              "      <th>number_of_reviews</th>\n",
              "      <th>last_review</th>\n",
              "      <th>reviews_per_month</th>\n",
              "      <th>calculated_host_listings_count</th>\n",
              "      <th>availability_365</th>\n",
              "      <th>reviews_per_month_cat</th>\n",
              "      <th>availability_365_range</th>\n",
              "      <th>classification</th>\n",
              "      <th>classification_num</th>\n",
              "    </tr>\n",
              "  </thead>\n",
              "  <tbody>\n",
              "    <tr>\n",
              "      <th>0</th>\n",
              "      <td>2539</td>\n",
              "      <td>Clean &amp; quiet apt home by the park</td>\n",
              "      <td>2787</td>\n",
              "      <td>John</td>\n",
              "      <td>Brooklyn</td>\n",
              "      <td>Kensington</td>\n",
              "      <td>40.64749</td>\n",
              "      <td>-73.97237</td>\n",
              "      <td>Private room</td>\n",
              "      <td>149</td>\n",
              "      <td>1</td>\n",
              "      <td>9</td>\n",
              "      <td>2018-10-19</td>\n",
              "      <td>0.21</td>\n",
              "      <td>6</td>\n",
              "      <td>365</td>\n",
              "      <td>Baja</td>\n",
              "      <td>Altamente disponible</td>\n",
              "      <td>Malo</td>\n",
              "      <td>0.25</td>\n",
              "    </tr>\n",
              "    <tr>\n",
              "      <th>1</th>\n",
              "      <td>2595</td>\n",
              "      <td>Skylit Midtown Castle</td>\n",
              "      <td>2845</td>\n",
              "      <td>Jennifer</td>\n",
              "      <td>Manhattan</td>\n",
              "      <td>Midtown</td>\n",
              "      <td>40.75362</td>\n",
              "      <td>-73.98377</td>\n",
              "      <td>Entire home/apt</td>\n",
              "      <td>225</td>\n",
              "      <td>1</td>\n",
              "      <td>45</td>\n",
              "      <td>2019-05-21</td>\n",
              "      <td>0.38</td>\n",
              "      <td>2</td>\n",
              "      <td>355</td>\n",
              "      <td>Baja</td>\n",
              "      <td>Altamente disponible</td>\n",
              "      <td>Malo</td>\n",
              "      <td>0.25</td>\n",
              "    </tr>\n",
              "    <tr>\n",
              "      <th>2</th>\n",
              "      <td>3647</td>\n",
              "      <td>THE VILLAGE OF HARLEM....NEW YORK !</td>\n",
              "      <td>4632</td>\n",
              "      <td>Elisabeth</td>\n",
              "      <td>Manhattan</td>\n",
              "      <td>Harlem</td>\n",
              "      <td>40.80902</td>\n",
              "      <td>-73.94190</td>\n",
              "      <td>Private room</td>\n",
              "      <td>150</td>\n",
              "      <td>3</td>\n",
              "      <td>0</td>\n",
              "      <td>NaN</td>\n",
              "      <td>0.00</td>\n",
              "      <td>1</td>\n",
              "      <td>365</td>\n",
              "      <td>Baja</td>\n",
              "      <td>Altamente disponible</td>\n",
              "      <td>Malo</td>\n",
              "      <td>0.25</td>\n",
              "    </tr>\n",
              "    <tr>\n",
              "      <th>3</th>\n",
              "      <td>3831</td>\n",
              "      <td>Cozy Entire Floor of Brownstone</td>\n",
              "      <td>4869</td>\n",
              "      <td>LisaRoxanne</td>\n",
              "      <td>Brooklyn</td>\n",
              "      <td>Clinton Hill</td>\n",
              "      <td>40.68514</td>\n",
              "      <td>-73.95976</td>\n",
              "      <td>Entire home/apt</td>\n",
              "      <td>89</td>\n",
              "      <td>1</td>\n",
              "      <td>270</td>\n",
              "      <td>2019-07-05</td>\n",
              "      <td>4.64</td>\n",
              "      <td>1</td>\n",
              "      <td>194</td>\n",
              "      <td>Alta</td>\n",
              "      <td>Disponible normalmente</td>\n",
              "      <td>Bueno</td>\n",
              "      <td>0.75</td>\n",
              "    </tr>\n",
              "    <tr>\n",
              "      <th>4</th>\n",
              "      <td>5022</td>\n",
              "      <td>Entire Apt: Spacious Studio/Loft by central park</td>\n",
              "      <td>7192</td>\n",
              "      <td>Laura</td>\n",
              "      <td>Manhattan</td>\n",
              "      <td>East Harlem</td>\n",
              "      <td>40.79851</td>\n",
              "      <td>-73.94399</td>\n",
              "      <td>Entire home/apt</td>\n",
              "      <td>80</td>\n",
              "      <td>10</td>\n",
              "      <td>9</td>\n",
              "      <td>2018-11-19</td>\n",
              "      <td>0.10</td>\n",
              "      <td>1</td>\n",
              "      <td>0</td>\n",
              "      <td>Baja</td>\n",
              "      <td>Poco disponible</td>\n",
              "      <td>Bueno</td>\n",
              "      <td>0.75</td>\n",
              "    </tr>\n",
              "  </tbody>\n",
              "</table>\n",
              "</div>\n",
              "      <button class=\"colab-df-convert\" onclick=\"convertToInteractive('df-461108f1-aac7-4961-b18f-e106d449a51e')\"\n",
              "              title=\"Convert this dataframe to an interactive table.\"\n",
              "              style=\"display:none;\">\n",
              "        \n",
              "  <svg xmlns=\"http://www.w3.org/2000/svg\" height=\"24px\"viewBox=\"0 0 24 24\"\n",
              "       width=\"24px\">\n",
              "    <path d=\"M0 0h24v24H0V0z\" fill=\"none\"/>\n",
              "    <path d=\"M18.56 5.44l.94 2.06.94-2.06 2.06-.94-2.06-.94-.94-2.06-.94 2.06-2.06.94zm-11 1L8.5 8.5l.94-2.06 2.06-.94-2.06-.94L8.5 2.5l-.94 2.06-2.06.94zm10 10l.94 2.06.94-2.06 2.06-.94-2.06-.94-.94-2.06-.94 2.06-2.06.94z\"/><path d=\"M17.41 7.96l-1.37-1.37c-.4-.4-.92-.59-1.43-.59-.52 0-1.04.2-1.43.59L10.3 9.45l-7.72 7.72c-.78.78-.78 2.05 0 2.83L4 21.41c.39.39.9.59 1.41.59.51 0 1.02-.2 1.41-.59l7.78-7.78 2.81-2.81c.8-.78.8-2.07 0-2.86zM5.41 20L4 18.59l7.72-7.72 1.47 1.35L5.41 20z\"/>\n",
              "  </svg>\n",
              "      </button>\n",
              "      \n",
              "  <style>\n",
              "    .colab-df-container {\n",
              "      display:flex;\n",
              "      flex-wrap:wrap;\n",
              "      gap: 12px;\n",
              "    }\n",
              "\n",
              "    .colab-df-convert {\n",
              "      background-color: #E8F0FE;\n",
              "      border: none;\n",
              "      border-radius: 50%;\n",
              "      cursor: pointer;\n",
              "      display: none;\n",
              "      fill: #1967D2;\n",
              "      height: 32px;\n",
              "      padding: 0 0 0 0;\n",
              "      width: 32px;\n",
              "    }\n",
              "\n",
              "    .colab-df-convert:hover {\n",
              "      background-color: #E2EBFA;\n",
              "      box-shadow: 0px 1px 2px rgba(60, 64, 67, 0.3), 0px 1px 3px 1px rgba(60, 64, 67, 0.15);\n",
              "      fill: #174EA6;\n",
              "    }\n",
              "\n",
              "    [theme=dark] .colab-df-convert {\n",
              "      background-color: #3B4455;\n",
              "      fill: #D2E3FC;\n",
              "    }\n",
              "\n",
              "    [theme=dark] .colab-df-convert:hover {\n",
              "      background-color: #434B5C;\n",
              "      box-shadow: 0px 1px 3px 1px rgba(0, 0, 0, 0.15);\n",
              "      filter: drop-shadow(0px 1px 2px rgba(0, 0, 0, 0.3));\n",
              "      fill: #FFFFFF;\n",
              "    }\n",
              "  </style>\n",
              "\n",
              "      <script>\n",
              "        const buttonEl =\n",
              "          document.querySelector('#df-461108f1-aac7-4961-b18f-e106d449a51e button.colab-df-convert');\n",
              "        buttonEl.style.display =\n",
              "          google.colab.kernel.accessAllowed ? 'block' : 'none';\n",
              "\n",
              "        async function convertToInteractive(key) {\n",
              "          const element = document.querySelector('#df-461108f1-aac7-4961-b18f-e106d449a51e');\n",
              "          const dataTable =\n",
              "            await google.colab.kernel.invokeFunction('convertToInteractive',\n",
              "                                                     [key], {});\n",
              "          if (!dataTable) return;\n",
              "\n",
              "          const docLinkHtml = 'Like what you see? Visit the ' +\n",
              "            '<a target=\"_blank\" href=https://colab.research.google.com/notebooks/data_table.ipynb>data table notebook</a>'\n",
              "            + ' to learn more about interactive tables.';\n",
              "          element.innerHTML = '';\n",
              "          dataTable['output_type'] = 'display_data';\n",
              "          await google.colab.output.renderOutput(dataTable, element);\n",
              "          const docLink = document.createElement('div');\n",
              "          docLink.innerHTML = docLinkHtml;\n",
              "          element.appendChild(docLink);\n",
              "        }\n",
              "      </script>\n",
              "    </div>\n",
              "  </div>\n",
              "  "
            ]
          },
          "metadata": {},
          "execution_count": 27
        }
      ]
    },
    {
      "cell_type": "code",
      "source": [
        "classif_num_nan = df['classification_num'].isna().sum()\n",
        "print(classif_num_nan)"
      ],
      "metadata": {
        "colab": {
          "base_uri": "https://localhost:8080/"
        },
        "id": "vZYXk3bcaEgD",
        "outputId": "2d769d09-ac00-485e-fd5d-da4395e0e408"
      },
      "id": "vZYXk3bcaEgD",
      "execution_count": 28,
      "outputs": [
        {
          "output_type": "stream",
          "name": "stdout",
          "text": [
            "0\n"
          ]
        }
      ]
    },
    {
      "cell_type": "markdown",
      "source": [
        "Obtenemos el valor deseado. Ahora, gracias a la función '.value_counts', compararemos las dos columnas 'classification' y 'classification_num', ya que deberán tener el mismo número de apartamentos en cada rango o valor corresponidentemente. "
      ],
      "metadata": {
        "id": "Aa-a4uGYaTy5"
      },
      "id": "Aa-a4uGYaTy5"
    },
    {
      "cell_type": "code",
      "source": [
        "df['classification'].value_counts()"
      ],
      "metadata": {
        "colab": {
          "base_uri": "https://localhost:8080/"
        },
        "id": "9QmHtgUIabFU",
        "outputId": "f1794c39-ce69-4cc9-dda1-88346f1136b0"
      },
      "id": "9QmHtgUIabFU",
      "execution_count": 29,
      "outputs": [
        {
          "output_type": "execute_result",
          "data": {
            "text/plain": [
              "Bueno        29017\n",
              "Malo          9451\n",
              "Regular       4956\n",
              "Muy bueno     3447\n",
              "Muy malo      2024\n",
              "Name: classification, dtype: int64"
            ]
          },
          "metadata": {},
          "execution_count": 29
        }
      ]
    },
    {
      "cell_type": "code",
      "source": [
        "df['classification_num'].value_counts()"
      ],
      "metadata": {
        "colab": {
          "base_uri": "https://localhost:8080/"
        },
        "id": "uRjLfIM4awcz",
        "outputId": "1f03351c-9928-45b9-f34d-0e4919bd397e"
      },
      "id": "uRjLfIM4awcz",
      "execution_count": 30,
      "outputs": [
        {
          "output_type": "execute_result",
          "data": {
            "text/plain": [
              "0.75    29017\n",
              "0.25     9451\n",
              "0.50     4956\n",
              "1.00     3447\n",
              "0.00     2024\n",
              "Name: classification_num, dtype: int64"
            ]
          },
          "metadata": {},
          "execution_count": 30
        }
      ]
    },
    {
      "cell_type": "markdown",
      "source": [
        "Lo que deseábamos se ha ejecutado correctamente. "
      ],
      "metadata": {
        "id": "WW_8JJxia09Y"
      },
      "id": "WW_8JJxia09Y"
    },
    {
      "cell_type": "markdown",
      "source": [
        "Para proceder con el estudio de las clasificaciones medias de cada barrio, crearemos un nuevo vector llamado barrios en el cual se guardará cada barrio sin repetición, y otra variables num_barrios, que será la longitud de este último. "
      ],
      "metadata": {
        "id": "m9_1-NLWbD0a"
      },
      "id": "m9_1-NLWbD0a"
    },
    {
      "cell_type": "code",
      "source": [
        "df.head()"
      ],
      "metadata": {
        "colab": {
          "base_uri": "https://localhost:8080/",
          "height": 461
        },
        "id": "xFFsoS2gwD8E",
        "outputId": "38072f3c-ec18-4454-ed6f-1b3c18f0867d"
      },
      "id": "xFFsoS2gwD8E",
      "execution_count": 31,
      "outputs": [
        {
          "output_type": "execute_result",
          "data": {
            "text/plain": [
              "     id                                              name  host_id  \\\n",
              "0  2539                Clean & quiet apt home by the park     2787   \n",
              "1  2595                             Skylit Midtown Castle     2845   \n",
              "2  3647               THE VILLAGE OF HARLEM....NEW YORK !     4632   \n",
              "3  3831                   Cozy Entire Floor of Brownstone     4869   \n",
              "4  5022  Entire Apt: Spacious Studio/Loft by central park     7192   \n",
              "\n",
              "     host_name neighbourhood_group neighbourhood  latitude  longitude  \\\n",
              "0         John            Brooklyn    Kensington  40.64749  -73.97237   \n",
              "1     Jennifer           Manhattan       Midtown  40.75362  -73.98377   \n",
              "2    Elisabeth           Manhattan        Harlem  40.80902  -73.94190   \n",
              "3  LisaRoxanne            Brooklyn  Clinton Hill  40.68514  -73.95976   \n",
              "4        Laura           Manhattan   East Harlem  40.79851  -73.94399   \n",
              "\n",
              "         room_type  price  minimum_nights  number_of_reviews last_review  \\\n",
              "0     Private room    149               1                  9  2018-10-19   \n",
              "1  Entire home/apt    225               1                 45  2019-05-21   \n",
              "2     Private room    150               3                  0         NaN   \n",
              "3  Entire home/apt     89               1                270  2019-07-05   \n",
              "4  Entire home/apt     80              10                  9  2018-11-19   \n",
              "\n",
              "   reviews_per_month  calculated_host_listings_count  availability_365  \\\n",
              "0               0.21                               6               365   \n",
              "1               0.38                               2               355   \n",
              "2               0.00                               1               365   \n",
              "3               4.64                               1               194   \n",
              "4               0.10                               1                 0   \n",
              "\n",
              "  reviews_per_month_cat  availability_365_range classification  \\\n",
              "0                  Baja    Altamente disponible           Malo   \n",
              "1                  Baja    Altamente disponible           Malo   \n",
              "2                  Baja    Altamente disponible           Malo   \n",
              "3                  Alta  Disponible normalmente          Bueno   \n",
              "4                  Baja         Poco disponible          Bueno   \n",
              "\n",
              "   classification_num  \n",
              "0                0.25  \n",
              "1                0.25  \n",
              "2                0.25  \n",
              "3                0.75  \n",
              "4                0.75  "
            ],
            "text/html": [
              "\n",
              "  <div id=\"df-82fc6743-d127-4295-9b71-3187b42090cc\">\n",
              "    <div class=\"colab-df-container\">\n",
              "      <div>\n",
              "<style scoped>\n",
              "    .dataframe tbody tr th:only-of-type {\n",
              "        vertical-align: middle;\n",
              "    }\n",
              "\n",
              "    .dataframe tbody tr th {\n",
              "        vertical-align: top;\n",
              "    }\n",
              "\n",
              "    .dataframe thead th {\n",
              "        text-align: right;\n",
              "    }\n",
              "</style>\n",
              "<table border=\"1\" class=\"dataframe\">\n",
              "  <thead>\n",
              "    <tr style=\"text-align: right;\">\n",
              "      <th></th>\n",
              "      <th>id</th>\n",
              "      <th>name</th>\n",
              "      <th>host_id</th>\n",
              "      <th>host_name</th>\n",
              "      <th>neighbourhood_group</th>\n",
              "      <th>neighbourhood</th>\n",
              "      <th>latitude</th>\n",
              "      <th>longitude</th>\n",
              "      <th>room_type</th>\n",
              "      <th>price</th>\n",
              "      <th>minimum_nights</th>\n",
              "      <th>number_of_reviews</th>\n",
              "      <th>last_review</th>\n",
              "      <th>reviews_per_month</th>\n",
              "      <th>calculated_host_listings_count</th>\n",
              "      <th>availability_365</th>\n",
              "      <th>reviews_per_month_cat</th>\n",
              "      <th>availability_365_range</th>\n",
              "      <th>classification</th>\n",
              "      <th>classification_num</th>\n",
              "    </tr>\n",
              "  </thead>\n",
              "  <tbody>\n",
              "    <tr>\n",
              "      <th>0</th>\n",
              "      <td>2539</td>\n",
              "      <td>Clean &amp; quiet apt home by the park</td>\n",
              "      <td>2787</td>\n",
              "      <td>John</td>\n",
              "      <td>Brooklyn</td>\n",
              "      <td>Kensington</td>\n",
              "      <td>40.64749</td>\n",
              "      <td>-73.97237</td>\n",
              "      <td>Private room</td>\n",
              "      <td>149</td>\n",
              "      <td>1</td>\n",
              "      <td>9</td>\n",
              "      <td>2018-10-19</td>\n",
              "      <td>0.21</td>\n",
              "      <td>6</td>\n",
              "      <td>365</td>\n",
              "      <td>Baja</td>\n",
              "      <td>Altamente disponible</td>\n",
              "      <td>Malo</td>\n",
              "      <td>0.25</td>\n",
              "    </tr>\n",
              "    <tr>\n",
              "      <th>1</th>\n",
              "      <td>2595</td>\n",
              "      <td>Skylit Midtown Castle</td>\n",
              "      <td>2845</td>\n",
              "      <td>Jennifer</td>\n",
              "      <td>Manhattan</td>\n",
              "      <td>Midtown</td>\n",
              "      <td>40.75362</td>\n",
              "      <td>-73.98377</td>\n",
              "      <td>Entire home/apt</td>\n",
              "      <td>225</td>\n",
              "      <td>1</td>\n",
              "      <td>45</td>\n",
              "      <td>2019-05-21</td>\n",
              "      <td>0.38</td>\n",
              "      <td>2</td>\n",
              "      <td>355</td>\n",
              "      <td>Baja</td>\n",
              "      <td>Altamente disponible</td>\n",
              "      <td>Malo</td>\n",
              "      <td>0.25</td>\n",
              "    </tr>\n",
              "    <tr>\n",
              "      <th>2</th>\n",
              "      <td>3647</td>\n",
              "      <td>THE VILLAGE OF HARLEM....NEW YORK !</td>\n",
              "      <td>4632</td>\n",
              "      <td>Elisabeth</td>\n",
              "      <td>Manhattan</td>\n",
              "      <td>Harlem</td>\n",
              "      <td>40.80902</td>\n",
              "      <td>-73.94190</td>\n",
              "      <td>Private room</td>\n",
              "      <td>150</td>\n",
              "      <td>3</td>\n",
              "      <td>0</td>\n",
              "      <td>NaN</td>\n",
              "      <td>0.00</td>\n",
              "      <td>1</td>\n",
              "      <td>365</td>\n",
              "      <td>Baja</td>\n",
              "      <td>Altamente disponible</td>\n",
              "      <td>Malo</td>\n",
              "      <td>0.25</td>\n",
              "    </tr>\n",
              "    <tr>\n",
              "      <th>3</th>\n",
              "      <td>3831</td>\n",
              "      <td>Cozy Entire Floor of Brownstone</td>\n",
              "      <td>4869</td>\n",
              "      <td>LisaRoxanne</td>\n",
              "      <td>Brooklyn</td>\n",
              "      <td>Clinton Hill</td>\n",
              "      <td>40.68514</td>\n",
              "      <td>-73.95976</td>\n",
              "      <td>Entire home/apt</td>\n",
              "      <td>89</td>\n",
              "      <td>1</td>\n",
              "      <td>270</td>\n",
              "      <td>2019-07-05</td>\n",
              "      <td>4.64</td>\n",
              "      <td>1</td>\n",
              "      <td>194</td>\n",
              "      <td>Alta</td>\n",
              "      <td>Disponible normalmente</td>\n",
              "      <td>Bueno</td>\n",
              "      <td>0.75</td>\n",
              "    </tr>\n",
              "    <tr>\n",
              "      <th>4</th>\n",
              "      <td>5022</td>\n",
              "      <td>Entire Apt: Spacious Studio/Loft by central park</td>\n",
              "      <td>7192</td>\n",
              "      <td>Laura</td>\n",
              "      <td>Manhattan</td>\n",
              "      <td>East Harlem</td>\n",
              "      <td>40.79851</td>\n",
              "      <td>-73.94399</td>\n",
              "      <td>Entire home/apt</td>\n",
              "      <td>80</td>\n",
              "      <td>10</td>\n",
              "      <td>9</td>\n",
              "      <td>2018-11-19</td>\n",
              "      <td>0.10</td>\n",
              "      <td>1</td>\n",
              "      <td>0</td>\n",
              "      <td>Baja</td>\n",
              "      <td>Poco disponible</td>\n",
              "      <td>Bueno</td>\n",
              "      <td>0.75</td>\n",
              "    </tr>\n",
              "  </tbody>\n",
              "</table>\n",
              "</div>\n",
              "      <button class=\"colab-df-convert\" onclick=\"convertToInteractive('df-82fc6743-d127-4295-9b71-3187b42090cc')\"\n",
              "              title=\"Convert this dataframe to an interactive table.\"\n",
              "              style=\"display:none;\">\n",
              "        \n",
              "  <svg xmlns=\"http://www.w3.org/2000/svg\" height=\"24px\"viewBox=\"0 0 24 24\"\n",
              "       width=\"24px\">\n",
              "    <path d=\"M0 0h24v24H0V0z\" fill=\"none\"/>\n",
              "    <path d=\"M18.56 5.44l.94 2.06.94-2.06 2.06-.94-2.06-.94-.94-2.06-.94 2.06-2.06.94zm-11 1L8.5 8.5l.94-2.06 2.06-.94-2.06-.94L8.5 2.5l-.94 2.06-2.06.94zm10 10l.94 2.06.94-2.06 2.06-.94-2.06-.94-.94-2.06-.94 2.06-2.06.94z\"/><path d=\"M17.41 7.96l-1.37-1.37c-.4-.4-.92-.59-1.43-.59-.52 0-1.04.2-1.43.59L10.3 9.45l-7.72 7.72c-.78.78-.78 2.05 0 2.83L4 21.41c.39.39.9.59 1.41.59.51 0 1.02-.2 1.41-.59l7.78-7.78 2.81-2.81c.8-.78.8-2.07 0-2.86zM5.41 20L4 18.59l7.72-7.72 1.47 1.35L5.41 20z\"/>\n",
              "  </svg>\n",
              "      </button>\n",
              "      \n",
              "  <style>\n",
              "    .colab-df-container {\n",
              "      display:flex;\n",
              "      flex-wrap:wrap;\n",
              "      gap: 12px;\n",
              "    }\n",
              "\n",
              "    .colab-df-convert {\n",
              "      background-color: #E8F0FE;\n",
              "      border: none;\n",
              "      border-radius: 50%;\n",
              "      cursor: pointer;\n",
              "      display: none;\n",
              "      fill: #1967D2;\n",
              "      height: 32px;\n",
              "      padding: 0 0 0 0;\n",
              "      width: 32px;\n",
              "    }\n",
              "\n",
              "    .colab-df-convert:hover {\n",
              "      background-color: #E2EBFA;\n",
              "      box-shadow: 0px 1px 2px rgba(60, 64, 67, 0.3), 0px 1px 3px 1px rgba(60, 64, 67, 0.15);\n",
              "      fill: #174EA6;\n",
              "    }\n",
              "\n",
              "    [theme=dark] .colab-df-convert {\n",
              "      background-color: #3B4455;\n",
              "      fill: #D2E3FC;\n",
              "    }\n",
              "\n",
              "    [theme=dark] .colab-df-convert:hover {\n",
              "      background-color: #434B5C;\n",
              "      box-shadow: 0px 1px 3px 1px rgba(0, 0, 0, 0.15);\n",
              "      filter: drop-shadow(0px 1px 2px rgba(0, 0, 0, 0.3));\n",
              "      fill: #FFFFFF;\n",
              "    }\n",
              "  </style>\n",
              "\n",
              "      <script>\n",
              "        const buttonEl =\n",
              "          document.querySelector('#df-82fc6743-d127-4295-9b71-3187b42090cc button.colab-df-convert');\n",
              "        buttonEl.style.display =\n",
              "          google.colab.kernel.accessAllowed ? 'block' : 'none';\n",
              "\n",
              "        async function convertToInteractive(key) {\n",
              "          const element = document.querySelector('#df-82fc6743-d127-4295-9b71-3187b42090cc');\n",
              "          const dataTable =\n",
              "            await google.colab.kernel.invokeFunction('convertToInteractive',\n",
              "                                                     [key], {});\n",
              "          if (!dataTable) return;\n",
              "\n",
              "          const docLinkHtml = 'Like what you see? Visit the ' +\n",
              "            '<a target=\"_blank\" href=https://colab.research.google.com/notebooks/data_table.ipynb>data table notebook</a>'\n",
              "            + ' to learn more about interactive tables.';\n",
              "          element.innerHTML = '';\n",
              "          dataTable['output_type'] = 'display_data';\n",
              "          await google.colab.output.renderOutput(dataTable, element);\n",
              "          const docLink = document.createElement('div');\n",
              "          docLink.innerHTML = docLinkHtml;\n",
              "          element.appendChild(docLink);\n",
              "        }\n",
              "      </script>\n",
              "    </div>\n",
              "  </div>\n",
              "  "
            ]
          },
          "metadata": {},
          "execution_count": 31
        }
      ]
    },
    {
      "cell_type": "code",
      "source": [
        "barrios= np.unique(df['neighbourhood'])\n",
        "num_barrios = len(barrios)\n",
        "print('Número de barrios:', num_barrios)"
      ],
      "metadata": {
        "colab": {
          "base_uri": "https://localhost:8080/"
        },
        "id": "hJjNi3HycHaz",
        "outputId": "86bd824d-912f-4e81-db85-07d015d83405"
      },
      "id": "hJjNi3HycHaz",
      "execution_count": 32,
      "outputs": [
        {
          "output_type": "stream",
          "name": "stdout",
          "text": [
            "Número de barrios: 221\n"
          ]
        }
      ]
    },
    {
      "cell_type": "markdown",
      "source": [
        "Tenemos 221 barrios distintos. "
      ],
      "metadata": {
        "id": "NLUxwp0hbSRi"
      },
      "id": "NLUxwp0hbSRi"
    },
    {
      "cell_type": "code",
      "source": [
        "neighbourhood_nan = df['neighbourhood'].isna().sum()\n",
        "print(neighbourhood_nan)"
      ],
      "metadata": {
        "colab": {
          "base_uri": "https://localhost:8080/"
        },
        "id": "jbVD7uJehtnF",
        "outputId": "3b6296c6-dff4-41f3-a57d-88569935e54f"
      },
      "id": "jbVD7uJehtnF",
      "execution_count": 33,
      "outputs": [
        {
          "output_type": "stream",
          "name": "stdout",
          "text": [
            "0\n"
          ]
        }
      ]
    },
    {
      "cell_type": "code",
      "source": [
        "barrios"
      ],
      "metadata": {
        "id": "iprLh7AecMuO",
        "colab": {
          "base_uri": "https://localhost:8080/"
        },
        "outputId": "dddf575b-e65c-43ab-b38b-af6deffa4977"
      },
      "id": "iprLh7AecMuO",
      "execution_count": 34,
      "outputs": [
        {
          "output_type": "execute_result",
          "data": {
            "text/plain": [
              "array(['Allerton', 'Arden Heights', 'Arrochar', 'Arverne', 'Astoria',\n",
              "       'Bath Beach', 'Battery Park City', 'Bay Ridge', 'Bay Terrace',\n",
              "       'Bay Terrace, Staten Island', 'Baychester', 'Bayside', 'Bayswater',\n",
              "       'Bedford-Stuyvesant', 'Belle Harbor', 'Bellerose', 'Belmont',\n",
              "       'Bensonhurst', 'Bergen Beach', 'Boerum Hill', 'Borough Park',\n",
              "       'Breezy Point', 'Briarwood', 'Brighton Beach', 'Bronxdale',\n",
              "       'Brooklyn Heights', 'Brownsville', \"Bull's Head\", 'Bushwick',\n",
              "       'Cambria Heights', 'Canarsie', 'Carroll Gardens', 'Castle Hill',\n",
              "       'Castleton Corners', 'Chelsea', 'Chinatown', 'City Island',\n",
              "       'Civic Center', 'Claremont Village', 'Clason Point', 'Clifton',\n",
              "       'Clinton Hill', 'Co-op City', 'Cobble Hill', 'College Point',\n",
              "       'Columbia St', 'Concord', 'Concourse', 'Concourse Village',\n",
              "       'Coney Island', 'Corona', 'Crown Heights', 'Cypress Hills',\n",
              "       'DUMBO', 'Ditmars Steinway', 'Dongan Hills', 'Douglaston',\n",
              "       'Downtown Brooklyn', 'Dyker Heights', 'East Elmhurst',\n",
              "       'East Flatbush', 'East Harlem', 'East Morrisania', 'East New York',\n",
              "       'East Village', 'Eastchester', 'Edenwald', 'Edgemere', 'Elmhurst',\n",
              "       'Eltingville', 'Emerson Hill', 'Far Rockaway', 'Fieldston',\n",
              "       'Financial District', 'Flatbush', 'Flatiron District', 'Flatlands',\n",
              "       'Flushing', 'Fordham', 'Forest Hills', 'Fort Greene',\n",
              "       'Fort Hamilton', 'Fort Wadsworth', 'Fresh Meadows', 'Glendale',\n",
              "       'Gowanus', 'Gramercy', 'Graniteville', 'Grant City', 'Gravesend',\n",
              "       'Great Kills', 'Greenpoint', 'Greenwich Village', 'Grymes Hill',\n",
              "       'Harlem', \"Hell's Kitchen\", 'Highbridge', 'Hollis', 'Holliswood',\n",
              "       'Howard Beach', 'Howland Hook', 'Huguenot', 'Hunts Point',\n",
              "       'Inwood', 'Jackson Heights', 'Jamaica', 'Jamaica Estates',\n",
              "       'Jamaica Hills', 'Kensington', 'Kew Gardens', 'Kew Gardens Hills',\n",
              "       'Kingsbridge', 'Kips Bay', 'Laurelton', 'Lighthouse Hill',\n",
              "       'Little Italy', 'Little Neck', 'Long Island City', 'Longwood',\n",
              "       'Lower East Side', 'Manhattan Beach', 'Marble Hill',\n",
              "       'Mariners Harbor', 'Maspeth', 'Melrose', 'Middle Village',\n",
              "       'Midland Beach', 'Midtown', 'Midwood', 'Mill Basin',\n",
              "       'Morningside Heights', 'Morris Heights', 'Morris Park',\n",
              "       'Morrisania', 'Mott Haven', 'Mount Eden', 'Mount Hope',\n",
              "       'Murray Hill', 'Navy Yard', 'Neponsit', 'New Brighton', 'New Dorp',\n",
              "       'New Dorp Beach', 'New Springville', 'NoHo', 'Nolita',\n",
              "       'North Riverdale', 'Norwood', 'Oakwood', 'Olinville', 'Ozone Park',\n",
              "       'Park Slope', 'Parkchester', 'Pelham Bay', 'Pelham Gardens',\n",
              "       'Port Morris', 'Port Richmond', \"Prince's Bay\", 'Prospect Heights',\n",
              "       'Prospect-Lefferts Gardens', 'Queens Village', 'Randall Manor',\n",
              "       'Red Hook', 'Rego Park', 'Richmond Hill', 'Richmondtown',\n",
              "       'Ridgewood', 'Riverdale', 'Rockaway Beach', 'Roosevelt Island',\n",
              "       'Rosebank', 'Rosedale', 'Rossville', 'Schuylerville', 'Sea Gate',\n",
              "       'Sheepshead Bay', 'Shore Acres', 'Silver Lake', 'SoHo',\n",
              "       'Soundview', 'South Beach', 'South Ozone Park', 'South Slope',\n",
              "       'Springfield Gardens', 'Spuyten Duyvil', 'St. Albans',\n",
              "       'St. George', 'Stapleton', 'Stuyvesant Town', 'Sunnyside',\n",
              "       'Sunset Park', 'Theater District', 'Throgs Neck', 'Todt Hill',\n",
              "       'Tompkinsville', 'Tottenville', 'Tremont', 'Tribeca',\n",
              "       'Two Bridges', 'Unionport', 'University Heights',\n",
              "       'Upper East Side', 'Upper West Side', 'Van Nest', 'Vinegar Hill',\n",
              "       'Wakefield', 'Washington Heights', 'West Brighton', 'West Farms',\n",
              "       'West Village', 'Westchester Square', 'Westerleigh', 'Whitestone',\n",
              "       'Williamsbridge', 'Williamsburg', 'Willowbrook', 'Windsor Terrace',\n",
              "       'Woodhaven', 'Woodlawn', 'Woodrow', 'Woodside'], dtype=object)"
            ]
          },
          "metadata": {},
          "execution_count": 34
        }
      ]
    },
    {
      "cell_type": "markdown",
      "source": [
        "Creamos una nueva variable vector que se llame classification_barrios, la cual será de la misma longitud que el vector barrios definido anteriormente. Esta guardará las clasificaciones. "
      ],
      "metadata": {
        "id": "efTR0J55bYvT"
      },
      "id": "efTR0J55bYvT"
    },
    {
      "cell_type": "code",
      "source": [
        "classification_barrios=np.array(np.zeros(num_barrios))"
      ],
      "metadata": {
        "id": "I2bchhHMEoD6"
      },
      "id": "I2bchhHMEoD6",
      "execution_count": 35,
      "outputs": []
    },
    {
      "cell_type": "markdown",
      "source": [
        "Gracias al uso de dos bucles, guardaremos por cada barrio la suma de clasificación de cada apartamento, para así más adelante dividir entre el total de apartamentos(n), para calcular la media. "
      ],
      "metadata": {
        "id": "vRmd9_MjcT0b"
      },
      "id": "vRmd9_MjcT0b"
    },
    {
      "cell_type": "code",
      "source": [
        "for i in range(len(barrios)):\n",
        "  for j in range(filas):\n",
        "    if barrios[i]==df['neighbourhood'][j]:\n",
        "      classification_barrios[i]=classification_barrios[i]+df['classification_num'][j]\n"
      ],
      "metadata": {
        "id": "gaXgsSLeFyem"
      },
      "id": "gaXgsSLeFyem",
      "execution_count": 36,
      "outputs": []
    },
    {
      "cell_type": "code",
      "source": [
        "n=np.array(np.zeros(num_barrios))\n",
        "for i in range(len(barrios)):\n",
        "  for j in range(filas):\n",
        "    if barrios[i]==df['neighbourhood'][j]:\n",
        "      n[i]=n[i]+1\n"
      ],
      "metadata": {
        "id": "aIODnNdqHijC"
      },
      "id": "aIODnNdqHijC",
      "execution_count": 37,
      "outputs": []
    },
    {
      "cell_type": "markdown",
      "source": [
        "Calculamos la media: "
      ],
      "metadata": {
        "id": "AWUGUZsdcoPX"
      },
      "id": "AWUGUZsdcoPX"
    },
    {
      "cell_type": "code",
      "source": [
        "total=classification_barrios/n\n",
        "#ordenado=total\n",
        "#ordenado=sorted(ordenado,reverse=True)\n",
        "#print(ordenado)"
      ],
      "metadata": {
        "id": "Kv-8I7WNL3Bn"
      },
      "id": "Kv-8I7WNL3Bn",
      "execution_count": 38,
      "outputs": []
    },
    {
      "cell_type": "markdown",
      "source": [
        "Unimos en una variable llamada matriz el vector de barrios, y la clasificación media de cada barrio."
      ],
      "metadata": {
        "id": "rzjjUPBccz50"
      },
      "id": "rzjjUPBccz50"
    },
    {
      "cell_type": "code",
      "source": [
        "matriz=np.append(barrios,total,axis=0)"
      ],
      "metadata": {
        "id": "GP_XvlupYZWz"
      },
      "id": "GP_XvlupYZWz",
      "execution_count": 39,
      "outputs": []
    },
    {
      "cell_type": "code",
      "source": [
        "\n",
        "ordenado=matriz.reshape(2,221)\n",
        "ordenado=ordenado.transpose()\n"
      ],
      "metadata": {
        "id": "1iUIXrbcNxGo"
      },
      "id": "1iUIXrbcNxGo",
      "execution_count": 40,
      "outputs": []
    },
    {
      "cell_type": "code",
      "source": [
        "orden=sorted(ordenado, key=lambda x:x[1],reverse=True)"
      ],
      "metadata": {
        "id": "IXkSnxqXclKG"
      },
      "id": "IXkSnxqXclKG",
      "execution_count": 41,
      "outputs": []
    },
    {
      "cell_type": "code",
      "source": [
        "print(orden)"
      ],
      "metadata": {
        "id": "MictIMuJeT9a",
        "colab": {
          "base_uri": "https://localhost:8080/"
        },
        "outputId": "56853609-ca3a-4132-e35e-809403d35cb9"
      },
      "id": "MictIMuJeT9a",
      "execution_count": 42,
      "outputs": [
        {
          "output_type": "stream",
          "name": "stdout",
          "text": [
            "[array(['New Springville', 0.875], dtype=object), array(['Bay Terrace, Staten Island', 0.75], dtype=object), array(['New Dorp', 0.75], dtype=object), array(['Rossville', 0.75], dtype=object), array(['Woodrow', 0.75], dtype=object), array(['Downtown Brooklyn', 0.7319277108433735], dtype=object), array(['Morningside Heights', 0.7196531791907514], dtype=object), array(['Navy Yard', 0.7142857142857143], dtype=object), array(['Woodlawn', 0.7045454545454546], dtype=object), array(['Emerson Hill', 0.7], dtype=object), array(['Little Neck', 0.7], dtype=object), array(['Cobble Hill', 0.6944444444444444], dtype=object), array(['Two Bridges', 0.6909722222222222], dtype=object), array(['Columbia St', 0.6904761904761905], dtype=object), array(['Stuyvesant Town', 0.6891891891891891], dtype=object), array([\"Prince's Bay\", 0.6875], dtype=object), array(['Carroll Gardens', 0.6802575107296137], dtype=object), array(['Nolita', 0.6798418972332015], dtype=object), array(['Brooklyn Heights', 0.6785714285714286], dtype=object), array(['Civic Center', 0.6778846153846154], dtype=object), array(['East Village', 0.6725580140313006], dtype=object), array(['Roosevelt Island', 0.672077922077922], dtype=object), array(['Vinegar Hill', 0.6691176470588235], dtype=object), array(['Williamsburg', 0.6682397959183674], dtype=object), array(['Breezy Point', 0.6666666666666666], dtype=object), array(['Greenpoint', 0.6661434977578475], dtype=object), array(['East Harlem', 0.6629364368845121], dtype=object), array(['Chinatown', 0.6610054347826086], dtype=object), array(['Kensington', 0.66], dtype=object), array(['Boerum Hill', 0.6581920903954802], dtype=object), array(['Prospect Heights', 0.657563025210084], dtype=object), array(['South Slope', 0.6549295774647887], dtype=object), array(['Midwood', 0.6536697247706422], dtype=object), array(['Windsor Terrace', 0.6528662420382165], dtype=object), array(['Greenwich Village', 0.6517857142857143], dtype=object), array(['Bergen Beach', 0.65], dtype=object), array(['Melrose', 0.65], dtype=object), array(['Prospect-Lefferts Gardens', 0.6485981308411215], dtype=object), array(['Fresh Meadows', 0.6484375], dtype=object), array(['West Village', 0.6455078125], dtype=object), array(['Bushwick', 0.6445233265720081], dtype=object), array(['Baychester', 0.6428571428571429], dtype=object), array(['Sea Gate', 0.6428571428571429], dtype=object), array(['Shore Acres', 0.6428571428571429], dtype=object), array(['Red Hook', 0.6424050632911392], dtype=object), array(['City Island', 0.6388888888888888], dtype=object), array(['Lower East Side', 0.6388583973655324], dtype=object), array(['Little Italy', 0.6384297520661157], dtype=object), array(['Park Slope', 0.6368577075098815], dtype=object), array(['Fort Greene', 0.6365030674846626], dtype=object), array(['Van Nest', 0.6363636363636364], dtype=object), array(['Whitestone', 0.6363636363636364], dtype=object), array(['Crown Heights', 0.636349104859335], dtype=object), array(['Flatbush', 0.6352657004830918], dtype=object), array(['NoHo', 0.6346153846153846], dtype=object), array(['Morris Park', 0.6333333333333333], dtype=object), array(['Gramercy', 0.632396449704142], dtype=object), array(['Upper West Side', 0.6316590563165906], dtype=object), array(['College Point', 0.631578947368421], dtype=object), array(['Washington Heights', 0.6312569521690767], dtype=object), array(['Harlem', 0.628574115876599], dtype=object), array(['Clinton Hill', 0.6254370629370629], dtype=object), array(['Arden Heights', 0.625], dtype=object), array(['DUMBO', 0.625], dtype=object), array(['Kew Gardens Hills', 0.625], dtype=object), array(['Marble Hill', 0.625], dtype=object), array(['Todt Hill', 0.625], dtype=object), array(['Westerleigh', 0.625], dtype=object), array(['SoHo', 0.619413407821229], dtype=object), array(['University Heights', 0.6190476190476191], dtype=object), array(['Brownsville', 0.6188524590163934], dtype=object), array(['Ridgewood', 0.6182033096926713], dtype=object), array(['Battery Park City', 0.6178571428571429], dtype=object), array(['Fordham', 0.6150793650793651], dtype=object), array(['Sunset Park', 0.6147435897435898], dtype=object), array(['Gravesend', 0.6139705882352942], dtype=object), array(['Tremont', 0.6136363636363636], dtype=object), array(['Inwood', 0.6130952380952381], dtype=object), array(['Bedford-Stuyvesant', 0.6123451803984922], dtype=object), array(['Astoria', 0.6094444444444445], dtype=object), array(['Upper East Side', 0.6092880978865406], dtype=object), array(['Grymes Hill', 0.6071428571428571], dtype=object), array(['Hollis', 0.6071428571428571], dtype=object), array(['Chelsea', 0.6057951482479784], dtype=object), array(['Ditmars Steinway', 0.6035598705501618], dtype=object), array(['Sunnyside', 0.6033057851239669], dtype=object), array(['Long Island City', 0.6024208566108007], dtype=object), array(['Gowanus', 0.6022267206477733], dtype=object), array(['New Brighton', 0.6], dtype=object), array(['Kingsbridge', 0.5964285714285714], dtype=object), array(['Cambria Heights', 0.5961538461538461], dtype=object), array(['Mariners Harbor', 0.59375], dtype=object), array([\"Hell's Kitchen\", 0.5934627170582226], dtype=object), array(['Elmhurst', 0.5928270042194093], dtype=object), array(['Rego Park', 0.589622641509434], dtype=object), array(['Forest Hills', 0.5885416666666666], dtype=object), array(['Kips Bay', 0.5867021276595744], dtype=object), array(['Bensonhurst', 0.5866666666666667], dtype=object), array(['Flatiron District', 0.584375], dtype=object), array(['Castle Hill', 0.5833333333333334], dtype=object), array(['Huguenot', 0.5833333333333334], dtype=object), array(['Soundview', 0.5833333333333334], dtype=object), array(['Ozone Park', 0.5806451612903226], dtype=object), array(['Woodside', 0.5797872340425532], dtype=object), array(['Mott Haven', 0.5791666666666667], dtype=object), array(['Tribeca', 0.5790960451977402], dtype=object), array(['Bronxdale', 0.5789473684210527], dtype=object), array(['Parkchester', 0.5769230769230769], dtype=object), array(['Schuylerville', 0.5769230769230769], dtype=object), array(['Port Morris', 0.5760869565217391], dtype=object), array(['Great Kills', 0.575], dtype=object), array(['Mount Hope', 0.575], dtype=object), array(['East Elmhurst', 0.572972972972973], dtype=object), array(['Pelham Gardens', 0.5714285714285714], dtype=object), array(['Morrisania', 0.5694444444444444], dtype=object), array(['Jamaica Estates', 0.5657894736842105], dtype=object), array(['Allerton', 0.5654761904761905], dtype=object), array(['Concourse', 0.565], dtype=object), array(['Jackson Heights', 0.5618279569892473], dtype=object), array(['Far Rockaway', 0.5603448275862069], dtype=object), array(['Flushing', 0.5580985915492958], dtype=object), array(['Sheepshead Bay', 0.5564024390243902], dtype=object), array(['Claremont Village', 0.5535714285714286], dtype=object), array(['Rosedale', 0.5508474576271186], dtype=object), array(['Fort Hamilton', 0.55], dtype=object), array(['Bay Ridge', 0.549645390070922], dtype=object), array(['Rockaway Beach', 0.5491071428571429], dtype=object), array(['Dyker Heights', 0.5416666666666666], dtype=object), array(['Mount Eden', 0.5416666666666666], dtype=object), array(['Midtown', 0.5411003236245955], dtype=object), array(['Borough Park', 0.5386029411764706], dtype=object), array(['Brighton Beach', 0.5366666666666666], dtype=object), array(['Dongan Hills', 0.5357142857142857], dtype=object), array(['Queens Village', 0.5333333333333333], dtype=object), array(['Longwood', 0.532258064516129], dtype=object), array(['Concourse Village', 0.53125], dtype=object), array(['Jamaica Hills', 0.53125], dtype=object), array(['Throgs Neck', 0.53125], dtype=object), array(['Jamaica', 0.5303030303030303], dtype=object), array(['Cypress Hills', 0.5296296296296297], dtype=object), array(['East New York', 0.5286697247706422], dtype=object), array(['Laurelton', 0.5277777777777778], dtype=object), array(['North Riverdale', 0.525], dtype=object), array(['Westchester Square', 0.525], dtype=object), array(['Norwood', 0.5241935483870968], dtype=object), array(['Murray Hill', 0.5237113402061856], dtype=object), array(['Glendale', 0.5231481481481481], dtype=object), array(['Riverdale', 0.5227272727272727], dtype=object), array(['Fieldston', 0.5208333333333334], dtype=object), array(['East Flatbush', 0.5195], dtype=object), array(['Richmond Hill', 0.5186170212765957], dtype=object), array(['Briarwood', 0.5178571428571429], dtype=object), array(['Morris Heights', 0.5147058823529411], dtype=object), array(['St. George', 0.5104166666666666], dtype=object), array(['Maspeth', 0.5068181818181818], dtype=object), array(['Arverne', 0.5064935064935064], dtype=object), array([\"Bull's Head\", 0.5], dtype=object), array(['Castleton Corners', 0.5], dtype=object), array(['Coney Island', 0.5], dtype=object), array(['Edenwald', 0.5], dtype=object), array(['Highbridge', 0.5], dtype=object), array(['Holliswood', 0.5], dtype=object), array(['Howland Hook', 0.5], dtype=object), array(['Lighthouse Hill', 0.5], dtype=object), array(['Oakwood', 0.5], dtype=object), array(['Olinville', 0.5], dtype=object), array(['Silver Lake', 0.5], dtype=object), array(['Wakefield', 0.49], dtype=object), array(['Bayside', 0.48717948717948717], dtype=object), array(['Bath Beach', 0.4852941176470588], dtype=object), array(['Pelham Bay', 0.4852941176470588], dtype=object), array(['Flatlands', 0.48493975903614456], dtype=object), array(['Belmont', 0.4791666666666667], dtype=object), array(['East Morrisania', 0.475], dtype=object), array(['Bayswater', 0.47058823529411764], dtype=object), array(['Belle Harbor', 0.46875], dtype=object), array(['Kew Gardens', 0.46875], dtype=object), array(['Manhattan Beach', 0.46875], dtype=object), array(['South Beach', 0.46875], dtype=object), array(['Middle Village', 0.46774193548387094], dtype=object), array(['Woodhaven', 0.4659090909090909], dtype=object), array(['Clason Point', 0.4642857142857143], dtype=object), array(['Rosebank', 0.4642857142857143], dtype=object), array(['Financial District', 0.46236559139784944], dtype=object), array(['Springfield Gardens', 0.46176470588235297], dtype=object), array(['Hunts Point', 0.4583333333333333], dtype=object), array(['Theater District', 0.4574652777777778], dtype=object), array(['South Ozone Park', 0.45625], dtype=object), array(['New Dorp Beach', 0.45], dtype=object), array(['Port Richmond', 0.4444444444444444], dtype=object), array(['Stapleton', 0.4444444444444444], dtype=object), array(['Canarsie', 0.4387755102040816], dtype=object), array(['Douglaston', 0.4375], dtype=object), array(['St. Albans', 0.4276315789473684], dtype=object), array(['Howard Beach', 0.425], dtype=object), array(['Corona', 0.421875], dtype=object), array(['Bay Terrace', 0.4166666666666667], dtype=object), array(['Eltingville', 0.4166666666666667], dtype=object), array(['Graniteville', 0.4166666666666667], dtype=object), array(['Midland Beach', 0.4166666666666667], dtype=object), array(['Bellerose', 0.4107142857142857], dtype=object), array(['Clifton', 0.4], dtype=object), array(['Tompkinsville', 0.39880952380952384], dtype=object), array(['Concord', 0.3942307692307692], dtype=object), array(['Arrochar', 0.39285714285714285], dtype=object), array(['Unionport', 0.39285714285714285], dtype=object), array(['Randall Manor', 0.3815789473684211], dtype=object), array(['Spuyten Duyvil', 0.375], dtype=object), array(['West Brighton', 0.375], dtype=object), array(['West Farms', 0.375], dtype=object), array(['Williamsbridge', 0.375], dtype=object), array(['Grant City', 0.3333333333333333], dtype=object), array(['Neponsit', 0.3333333333333333], dtype=object), array(['Tottenville', 0.32142857142857145], dtype=object), array(['Mill Basin', 0.3125], dtype=object), array(['Edgemere', 0.29545454545454547], dtype=object), array(['Eastchester', 0.28846153846153844], dtype=object), array(['Co-op City', 0.25], dtype=object), array(['Fort Wadsworth', 0.25], dtype=object), array(['Richmondtown', 0.25], dtype=object), array(['Willowbrook', 0.25], dtype=object)]\n"
          ]
        }
      ]
    },
    {
      "cell_type": "code",
      "source": [
        "pos=0\n",
        "for i in range (len(orden)):\n",
        "  if orden[i][0]=='Williamsburg':\n",
        "    pos=i;\n",
        "pos"
      ],
      "metadata": {
        "id": "XucqP9oce14D",
        "colab": {
          "base_uri": "https://localhost:8080/"
        },
        "outputId": "de7cb4f3-7fd5-44b3-a0d8-a556e1c2b104"
      },
      "id": "XucqP9oce14D",
      "execution_count": 43,
      "outputs": [
        {
          "output_type": "execute_result",
          "data": {
            "text/plain": [
              "23"
            ]
          },
          "metadata": {},
          "execution_count": 43
        }
      ]
    },
    {
      "cell_type": "code",
      "source": [
        "df"
      ],
      "metadata": {
        "colab": {
          "base_uri": "https://localhost:8080/",
          "height": 869
        },
        "id": "qi1MCj4J1-1t",
        "outputId": "5f473a01-a38a-4378-c1b1-1aca9ca066cf"
      },
      "id": "qi1MCj4J1-1t",
      "execution_count": 44,
      "outputs": [
        {
          "output_type": "execute_result",
          "data": {
            "text/plain": [
              "             id                                               name   host_id  \\\n",
              "0          2539                 Clean & quiet apt home by the park      2787   \n",
              "1          2595                              Skylit Midtown Castle      2845   \n",
              "2          3647                THE VILLAGE OF HARLEM....NEW YORK !      4632   \n",
              "3          3831                    Cozy Entire Floor of Brownstone      4869   \n",
              "4          5022   Entire Apt: Spacious Studio/Loft by central park      7192   \n",
              "...         ...                                                ...       ...   \n",
              "48890  36484665    Charming one bedroom - newly renovated rowhouse   8232441   \n",
              "48891  36485057      Affordable room in Bushwick/East Williamsburg   6570630   \n",
              "48892  36485431            Sunny Studio at Historical Neighborhood  23492952   \n",
              "48893  36485609               43rd St. Time Square-cozy single bed  30985759   \n",
              "48894  36487245  Trendy duplex in the very heart of Hell's Kitchen  68119814   \n",
              "\n",
              "           host_name neighbourhood_group       neighbourhood  latitude  \\\n",
              "0               John            Brooklyn          Kensington  40.64749   \n",
              "1           Jennifer           Manhattan             Midtown  40.75362   \n",
              "2          Elisabeth           Manhattan              Harlem  40.80902   \n",
              "3        LisaRoxanne            Brooklyn        Clinton Hill  40.68514   \n",
              "4              Laura           Manhattan         East Harlem  40.79851   \n",
              "...              ...                 ...                 ...       ...   \n",
              "48890        Sabrina            Brooklyn  Bedford-Stuyvesant  40.67853   \n",
              "48891        Marisol            Brooklyn            Bushwick  40.70184   \n",
              "48892  Ilgar & Aysel           Manhattan              Harlem  40.81475   \n",
              "48893            Taz           Manhattan      Hell's Kitchen  40.75751   \n",
              "48894     Christophe           Manhattan      Hell's Kitchen  40.76404   \n",
              "\n",
              "       longitude        room_type  price  minimum_nights  number_of_reviews  \\\n",
              "0      -73.97237     Private room    149               1                  9   \n",
              "1      -73.98377  Entire home/apt    225               1                 45   \n",
              "2      -73.94190     Private room    150               3                  0   \n",
              "3      -73.95976  Entire home/apt     89               1                270   \n",
              "4      -73.94399  Entire home/apt     80              10                  9   \n",
              "...          ...              ...    ...             ...                ...   \n",
              "48890  -73.94995     Private room     70               2                  0   \n",
              "48891  -73.93317     Private room     40               4                  0   \n",
              "48892  -73.94867  Entire home/apt    115              10                  0   \n",
              "48893  -73.99112      Shared room     55               1                  0   \n",
              "48894  -73.98933     Private room     90               7                  0   \n",
              "\n",
              "      last_review  reviews_per_month  calculated_host_listings_count  \\\n",
              "0      2018-10-19               0.21                               6   \n",
              "1      2019-05-21               0.38                               2   \n",
              "2             NaN               0.00                               1   \n",
              "3      2019-07-05               4.64                               1   \n",
              "4      2018-11-19               0.10                               1   \n",
              "...           ...                ...                             ...   \n",
              "48890         NaN               0.00                               2   \n",
              "48891         NaN               0.00                               2   \n",
              "48892         NaN               0.00                               1   \n",
              "48893         NaN               0.00                               6   \n",
              "48894         NaN               0.00                               1   \n",
              "\n",
              "       availability_365 reviews_per_month_cat  availability_365_range  \\\n",
              "0                   365                  Baja    Altamente disponible   \n",
              "1                   355                  Baja    Altamente disponible   \n",
              "2                   365                  Baja    Altamente disponible   \n",
              "3                   194                  Alta  Disponible normalmente   \n",
              "4                     0                  Baja         Poco disponible   \n",
              "...                 ...                   ...                     ...   \n",
              "48890                 9                  Baja         Poco disponible   \n",
              "48891                36                  Baja         Poco disponible   \n",
              "48892                27                  Baja         Poco disponible   \n",
              "48893                 2                  Baja         Poco disponible   \n",
              "48894                23                  Baja         Poco disponible   \n",
              "\n",
              "      classification  classification_num  \n",
              "0               Malo                0.25  \n",
              "1               Malo                0.25  \n",
              "2               Malo                0.25  \n",
              "3              Bueno                0.75  \n",
              "4              Bueno                0.75  \n",
              "...              ...                 ...  \n",
              "48890          Bueno                0.75  \n",
              "48891          Bueno                0.75  \n",
              "48892          Bueno                0.75  \n",
              "48893          Bueno                0.75  \n",
              "48894          Bueno                0.75  \n",
              "\n",
              "[48895 rows x 20 columns]"
            ],
            "text/html": [
              "\n",
              "  <div id=\"df-3c34fb35-159b-4b75-81b8-8b29f11493bc\">\n",
              "    <div class=\"colab-df-container\">\n",
              "      <div>\n",
              "<style scoped>\n",
              "    .dataframe tbody tr th:only-of-type {\n",
              "        vertical-align: middle;\n",
              "    }\n",
              "\n",
              "    .dataframe tbody tr th {\n",
              "        vertical-align: top;\n",
              "    }\n",
              "\n",
              "    .dataframe thead th {\n",
              "        text-align: right;\n",
              "    }\n",
              "</style>\n",
              "<table border=\"1\" class=\"dataframe\">\n",
              "  <thead>\n",
              "    <tr style=\"text-align: right;\">\n",
              "      <th></th>\n",
              "      <th>id</th>\n",
              "      <th>name</th>\n",
              "      <th>host_id</th>\n",
              "      <th>host_name</th>\n",
              "      <th>neighbourhood_group</th>\n",
              "      <th>neighbourhood</th>\n",
              "      <th>latitude</th>\n",
              "      <th>longitude</th>\n",
              "      <th>room_type</th>\n",
              "      <th>price</th>\n",
              "      <th>minimum_nights</th>\n",
              "      <th>number_of_reviews</th>\n",
              "      <th>last_review</th>\n",
              "      <th>reviews_per_month</th>\n",
              "      <th>calculated_host_listings_count</th>\n",
              "      <th>availability_365</th>\n",
              "      <th>reviews_per_month_cat</th>\n",
              "      <th>availability_365_range</th>\n",
              "      <th>classification</th>\n",
              "      <th>classification_num</th>\n",
              "    </tr>\n",
              "  </thead>\n",
              "  <tbody>\n",
              "    <tr>\n",
              "      <th>0</th>\n",
              "      <td>2539</td>\n",
              "      <td>Clean &amp; quiet apt home by the park</td>\n",
              "      <td>2787</td>\n",
              "      <td>John</td>\n",
              "      <td>Brooklyn</td>\n",
              "      <td>Kensington</td>\n",
              "      <td>40.64749</td>\n",
              "      <td>-73.97237</td>\n",
              "      <td>Private room</td>\n",
              "      <td>149</td>\n",
              "      <td>1</td>\n",
              "      <td>9</td>\n",
              "      <td>2018-10-19</td>\n",
              "      <td>0.21</td>\n",
              "      <td>6</td>\n",
              "      <td>365</td>\n",
              "      <td>Baja</td>\n",
              "      <td>Altamente disponible</td>\n",
              "      <td>Malo</td>\n",
              "      <td>0.25</td>\n",
              "    </tr>\n",
              "    <tr>\n",
              "      <th>1</th>\n",
              "      <td>2595</td>\n",
              "      <td>Skylit Midtown Castle</td>\n",
              "      <td>2845</td>\n",
              "      <td>Jennifer</td>\n",
              "      <td>Manhattan</td>\n",
              "      <td>Midtown</td>\n",
              "      <td>40.75362</td>\n",
              "      <td>-73.98377</td>\n",
              "      <td>Entire home/apt</td>\n",
              "      <td>225</td>\n",
              "      <td>1</td>\n",
              "      <td>45</td>\n",
              "      <td>2019-05-21</td>\n",
              "      <td>0.38</td>\n",
              "      <td>2</td>\n",
              "      <td>355</td>\n",
              "      <td>Baja</td>\n",
              "      <td>Altamente disponible</td>\n",
              "      <td>Malo</td>\n",
              "      <td>0.25</td>\n",
              "    </tr>\n",
              "    <tr>\n",
              "      <th>2</th>\n",
              "      <td>3647</td>\n",
              "      <td>THE VILLAGE OF HARLEM....NEW YORK !</td>\n",
              "      <td>4632</td>\n",
              "      <td>Elisabeth</td>\n",
              "      <td>Manhattan</td>\n",
              "      <td>Harlem</td>\n",
              "      <td>40.80902</td>\n",
              "      <td>-73.94190</td>\n",
              "      <td>Private room</td>\n",
              "      <td>150</td>\n",
              "      <td>3</td>\n",
              "      <td>0</td>\n",
              "      <td>NaN</td>\n",
              "      <td>0.00</td>\n",
              "      <td>1</td>\n",
              "      <td>365</td>\n",
              "      <td>Baja</td>\n",
              "      <td>Altamente disponible</td>\n",
              "      <td>Malo</td>\n",
              "      <td>0.25</td>\n",
              "    </tr>\n",
              "    <tr>\n",
              "      <th>3</th>\n",
              "      <td>3831</td>\n",
              "      <td>Cozy Entire Floor of Brownstone</td>\n",
              "      <td>4869</td>\n",
              "      <td>LisaRoxanne</td>\n",
              "      <td>Brooklyn</td>\n",
              "      <td>Clinton Hill</td>\n",
              "      <td>40.68514</td>\n",
              "      <td>-73.95976</td>\n",
              "      <td>Entire home/apt</td>\n",
              "      <td>89</td>\n",
              "      <td>1</td>\n",
              "      <td>270</td>\n",
              "      <td>2019-07-05</td>\n",
              "      <td>4.64</td>\n",
              "      <td>1</td>\n",
              "      <td>194</td>\n",
              "      <td>Alta</td>\n",
              "      <td>Disponible normalmente</td>\n",
              "      <td>Bueno</td>\n",
              "      <td>0.75</td>\n",
              "    </tr>\n",
              "    <tr>\n",
              "      <th>4</th>\n",
              "      <td>5022</td>\n",
              "      <td>Entire Apt: Spacious Studio/Loft by central park</td>\n",
              "      <td>7192</td>\n",
              "      <td>Laura</td>\n",
              "      <td>Manhattan</td>\n",
              "      <td>East Harlem</td>\n",
              "      <td>40.79851</td>\n",
              "      <td>-73.94399</td>\n",
              "      <td>Entire home/apt</td>\n",
              "      <td>80</td>\n",
              "      <td>10</td>\n",
              "      <td>9</td>\n",
              "      <td>2018-11-19</td>\n",
              "      <td>0.10</td>\n",
              "      <td>1</td>\n",
              "      <td>0</td>\n",
              "      <td>Baja</td>\n",
              "      <td>Poco disponible</td>\n",
              "      <td>Bueno</td>\n",
              "      <td>0.75</td>\n",
              "    </tr>\n",
              "    <tr>\n",
              "      <th>...</th>\n",
              "      <td>...</td>\n",
              "      <td>...</td>\n",
              "      <td>...</td>\n",
              "      <td>...</td>\n",
              "      <td>...</td>\n",
              "      <td>...</td>\n",
              "      <td>...</td>\n",
              "      <td>...</td>\n",
              "      <td>...</td>\n",
              "      <td>...</td>\n",
              "      <td>...</td>\n",
              "      <td>...</td>\n",
              "      <td>...</td>\n",
              "      <td>...</td>\n",
              "      <td>...</td>\n",
              "      <td>...</td>\n",
              "      <td>...</td>\n",
              "      <td>...</td>\n",
              "      <td>...</td>\n",
              "      <td>...</td>\n",
              "    </tr>\n",
              "    <tr>\n",
              "      <th>48890</th>\n",
              "      <td>36484665</td>\n",
              "      <td>Charming one bedroom - newly renovated rowhouse</td>\n",
              "      <td>8232441</td>\n",
              "      <td>Sabrina</td>\n",
              "      <td>Brooklyn</td>\n",
              "      <td>Bedford-Stuyvesant</td>\n",
              "      <td>40.67853</td>\n",
              "      <td>-73.94995</td>\n",
              "      <td>Private room</td>\n",
              "      <td>70</td>\n",
              "      <td>2</td>\n",
              "      <td>0</td>\n",
              "      <td>NaN</td>\n",
              "      <td>0.00</td>\n",
              "      <td>2</td>\n",
              "      <td>9</td>\n",
              "      <td>Baja</td>\n",
              "      <td>Poco disponible</td>\n",
              "      <td>Bueno</td>\n",
              "      <td>0.75</td>\n",
              "    </tr>\n",
              "    <tr>\n",
              "      <th>48891</th>\n",
              "      <td>36485057</td>\n",
              "      <td>Affordable room in Bushwick/East Williamsburg</td>\n",
              "      <td>6570630</td>\n",
              "      <td>Marisol</td>\n",
              "      <td>Brooklyn</td>\n",
              "      <td>Bushwick</td>\n",
              "      <td>40.70184</td>\n",
              "      <td>-73.93317</td>\n",
              "      <td>Private room</td>\n",
              "      <td>40</td>\n",
              "      <td>4</td>\n",
              "      <td>0</td>\n",
              "      <td>NaN</td>\n",
              "      <td>0.00</td>\n",
              "      <td>2</td>\n",
              "      <td>36</td>\n",
              "      <td>Baja</td>\n",
              "      <td>Poco disponible</td>\n",
              "      <td>Bueno</td>\n",
              "      <td>0.75</td>\n",
              "    </tr>\n",
              "    <tr>\n",
              "      <th>48892</th>\n",
              "      <td>36485431</td>\n",
              "      <td>Sunny Studio at Historical Neighborhood</td>\n",
              "      <td>23492952</td>\n",
              "      <td>Ilgar &amp; Aysel</td>\n",
              "      <td>Manhattan</td>\n",
              "      <td>Harlem</td>\n",
              "      <td>40.81475</td>\n",
              "      <td>-73.94867</td>\n",
              "      <td>Entire home/apt</td>\n",
              "      <td>115</td>\n",
              "      <td>10</td>\n",
              "      <td>0</td>\n",
              "      <td>NaN</td>\n",
              "      <td>0.00</td>\n",
              "      <td>1</td>\n",
              "      <td>27</td>\n",
              "      <td>Baja</td>\n",
              "      <td>Poco disponible</td>\n",
              "      <td>Bueno</td>\n",
              "      <td>0.75</td>\n",
              "    </tr>\n",
              "    <tr>\n",
              "      <th>48893</th>\n",
              "      <td>36485609</td>\n",
              "      <td>43rd St. Time Square-cozy single bed</td>\n",
              "      <td>30985759</td>\n",
              "      <td>Taz</td>\n",
              "      <td>Manhattan</td>\n",
              "      <td>Hell's Kitchen</td>\n",
              "      <td>40.75751</td>\n",
              "      <td>-73.99112</td>\n",
              "      <td>Shared room</td>\n",
              "      <td>55</td>\n",
              "      <td>1</td>\n",
              "      <td>0</td>\n",
              "      <td>NaN</td>\n",
              "      <td>0.00</td>\n",
              "      <td>6</td>\n",
              "      <td>2</td>\n",
              "      <td>Baja</td>\n",
              "      <td>Poco disponible</td>\n",
              "      <td>Bueno</td>\n",
              "      <td>0.75</td>\n",
              "    </tr>\n",
              "    <tr>\n",
              "      <th>48894</th>\n",
              "      <td>36487245</td>\n",
              "      <td>Trendy duplex in the very heart of Hell's Kitchen</td>\n",
              "      <td>68119814</td>\n",
              "      <td>Christophe</td>\n",
              "      <td>Manhattan</td>\n",
              "      <td>Hell's Kitchen</td>\n",
              "      <td>40.76404</td>\n",
              "      <td>-73.98933</td>\n",
              "      <td>Private room</td>\n",
              "      <td>90</td>\n",
              "      <td>7</td>\n",
              "      <td>0</td>\n",
              "      <td>NaN</td>\n",
              "      <td>0.00</td>\n",
              "      <td>1</td>\n",
              "      <td>23</td>\n",
              "      <td>Baja</td>\n",
              "      <td>Poco disponible</td>\n",
              "      <td>Bueno</td>\n",
              "      <td>0.75</td>\n",
              "    </tr>\n",
              "  </tbody>\n",
              "</table>\n",
              "<p>48895 rows × 20 columns</p>\n",
              "</div>\n",
              "      <button class=\"colab-df-convert\" onclick=\"convertToInteractive('df-3c34fb35-159b-4b75-81b8-8b29f11493bc')\"\n",
              "              title=\"Convert this dataframe to an interactive table.\"\n",
              "              style=\"display:none;\">\n",
              "        \n",
              "  <svg xmlns=\"http://www.w3.org/2000/svg\" height=\"24px\"viewBox=\"0 0 24 24\"\n",
              "       width=\"24px\">\n",
              "    <path d=\"M0 0h24v24H0V0z\" fill=\"none\"/>\n",
              "    <path d=\"M18.56 5.44l.94 2.06.94-2.06 2.06-.94-2.06-.94-.94-2.06-.94 2.06-2.06.94zm-11 1L8.5 8.5l.94-2.06 2.06-.94-2.06-.94L8.5 2.5l-.94 2.06-2.06.94zm10 10l.94 2.06.94-2.06 2.06-.94-2.06-.94-.94-2.06-.94 2.06-2.06.94z\"/><path d=\"M17.41 7.96l-1.37-1.37c-.4-.4-.92-.59-1.43-.59-.52 0-1.04.2-1.43.59L10.3 9.45l-7.72 7.72c-.78.78-.78 2.05 0 2.83L4 21.41c.39.39.9.59 1.41.59.51 0 1.02-.2 1.41-.59l7.78-7.78 2.81-2.81c.8-.78.8-2.07 0-2.86zM5.41 20L4 18.59l7.72-7.72 1.47 1.35L5.41 20z\"/>\n",
              "  </svg>\n",
              "      </button>\n",
              "      \n",
              "  <style>\n",
              "    .colab-df-container {\n",
              "      display:flex;\n",
              "      flex-wrap:wrap;\n",
              "      gap: 12px;\n",
              "    }\n",
              "\n",
              "    .colab-df-convert {\n",
              "      background-color: #E8F0FE;\n",
              "      border: none;\n",
              "      border-radius: 50%;\n",
              "      cursor: pointer;\n",
              "      display: none;\n",
              "      fill: #1967D2;\n",
              "      height: 32px;\n",
              "      padding: 0 0 0 0;\n",
              "      width: 32px;\n",
              "    }\n",
              "\n",
              "    .colab-df-convert:hover {\n",
              "      background-color: #E2EBFA;\n",
              "      box-shadow: 0px 1px 2px rgba(60, 64, 67, 0.3), 0px 1px 3px 1px rgba(60, 64, 67, 0.15);\n",
              "      fill: #174EA6;\n",
              "    }\n",
              "\n",
              "    [theme=dark] .colab-df-convert {\n",
              "      background-color: #3B4455;\n",
              "      fill: #D2E3FC;\n",
              "    }\n",
              "\n",
              "    [theme=dark] .colab-df-convert:hover {\n",
              "      background-color: #434B5C;\n",
              "      box-shadow: 0px 1px 3px 1px rgba(0, 0, 0, 0.15);\n",
              "      filter: drop-shadow(0px 1px 2px rgba(0, 0, 0, 0.3));\n",
              "      fill: #FFFFFF;\n",
              "    }\n",
              "  </style>\n",
              "\n",
              "      <script>\n",
              "        const buttonEl =\n",
              "          document.querySelector('#df-3c34fb35-159b-4b75-81b8-8b29f11493bc button.colab-df-convert');\n",
              "        buttonEl.style.display =\n",
              "          google.colab.kernel.accessAllowed ? 'block' : 'none';\n",
              "\n",
              "        async function convertToInteractive(key) {\n",
              "          const element = document.querySelector('#df-3c34fb35-159b-4b75-81b8-8b29f11493bc');\n",
              "          const dataTable =\n",
              "            await google.colab.kernel.invokeFunction('convertToInteractive',\n",
              "                                                     [key], {});\n",
              "          if (!dataTable) return;\n",
              "\n",
              "          const docLinkHtml = 'Like what you see? Visit the ' +\n",
              "            '<a target=\"_blank\" href=https://colab.research.google.com/notebooks/data_table.ipynb>data table notebook</a>'\n",
              "            + ' to learn more about interactive tables.';\n",
              "          element.innerHTML = '';\n",
              "          dataTable['output_type'] = 'display_data';\n",
              "          await google.colab.output.renderOutput(dataTable, element);\n",
              "          const docLink = document.createElement('div');\n",
              "          docLink.innerHTML = docLinkHtml;\n",
              "          element.appendChild(docLink);\n",
              "        }\n",
              "      </script>\n",
              "    </div>\n",
              "  </div>\n",
              "  "
            ]
          },
          "metadata": {},
          "execution_count": 44
        }
      ]
    },
    {
      "cell_type": "markdown",
      "source": [
        "Podemos concluir que el Barrio está en la posición 24 mejor valorado respecto a los 221 barrios. "
      ],
      "metadata": {
        "id": "3Y-EL1kXg4b0"
      },
      "id": "3Y-EL1kXg4b0"
    },
    {
      "cell_type": "markdown",
      "source": [
        "##Evaluación\n"
      ],
      "metadata": {
        "id": "vUrohiUese1R"
      },
      "id": "vUrohiUese1R"
    },
    {
      "cell_type": "markdown",
      "source": [],
      "metadata": {
        "id": "-6pLUvsVdm_f"
      },
      "id": "-6pLUvsVdm_f"
    },
    {
      "cell_type": "markdown",
      "source": [
        "##Despliegue"
      ],
      "metadata": {
        "id": "gj1dxH0usgFA"
      },
      "id": "gj1dxH0usgFA"
    },
    {
      "cell_type": "markdown",
      "source": [
        "#EJERCICIO 2"
      ],
      "metadata": {
        "id": "FXEJSzskl9bL"
      },
      "id": "FXEJSzskl9bL"
    },
    {
      "cell_type": "markdown",
      "source": [
        " Explica visualmente como se distribuyen los 5 barrios más populares (esto serán aquellos cuyos apartamentos estén más solicitados en números absolutos. Para ello utiliza un diagrama de burbuja donde el eje de las X indica el barrio y el eje Y la calidad de los apartamentos. Usa todos los diagramas que necesites para llegar a esta conclusión final."
      ],
      "metadata": {
        "id": "2LJzHbXxtpt4"
      },
      "id": "2LJzHbXxtpt4"
    },
    {
      "cell_type": "markdown",
      "source": [
        "##Selección de los 5 barrios más populares"
      ],
      "metadata": {
        "id": "598VIZ-FoWpM"
      },
      "id": "598VIZ-FoWpM"
    },
    {
      "cell_type": "markdown",
      "source": [
        "Creamos un vector llamado 'top', en el cual, guardaremos los top 5 barrios más populares, según los apartamentos más solicitados. \n",
        "Para ello seguiremos el proceso que hicimos en el ejercicio anterior. Utilizaremos el vector barrios ya utilizado, y lo uniremos en otra variable junto a la variable 'availability_365' que nos proporciona la base de datos. \n",
        "\n",
        "'availability_365' se estudió en el ejercicio anterior, y se llegó a la conclusión de que no tenía ningún valor NaN, por lo que ahora, calcularemos por barrio la media de disponibi"
      ],
      "metadata": {
        "id": "0ADQPmfAjH3f"
      },
      "id": "0ADQPmfAjH3f"
    },
    {
      "cell_type": "code",
      "source": [
        "df.head()"
      ],
      "metadata": {
        "colab": {
          "base_uri": "https://localhost:8080/",
          "height": 461
        },
        "id": "t-cgaJ0og4TN",
        "outputId": "78e73cda-5d4f-402f-c9af-3b015e96be24"
      },
      "id": "t-cgaJ0og4TN",
      "execution_count": 45,
      "outputs": [
        {
          "output_type": "execute_result",
          "data": {
            "text/plain": [
              "     id                                              name  host_id  \\\n",
              "0  2539                Clean & quiet apt home by the park     2787   \n",
              "1  2595                             Skylit Midtown Castle     2845   \n",
              "2  3647               THE VILLAGE OF HARLEM....NEW YORK !     4632   \n",
              "3  3831                   Cozy Entire Floor of Brownstone     4869   \n",
              "4  5022  Entire Apt: Spacious Studio/Loft by central park     7192   \n",
              "\n",
              "     host_name neighbourhood_group neighbourhood  latitude  longitude  \\\n",
              "0         John            Brooklyn    Kensington  40.64749  -73.97237   \n",
              "1     Jennifer           Manhattan       Midtown  40.75362  -73.98377   \n",
              "2    Elisabeth           Manhattan        Harlem  40.80902  -73.94190   \n",
              "3  LisaRoxanne            Brooklyn  Clinton Hill  40.68514  -73.95976   \n",
              "4        Laura           Manhattan   East Harlem  40.79851  -73.94399   \n",
              "\n",
              "         room_type  price  minimum_nights  number_of_reviews last_review  \\\n",
              "0     Private room    149               1                  9  2018-10-19   \n",
              "1  Entire home/apt    225               1                 45  2019-05-21   \n",
              "2     Private room    150               3                  0         NaN   \n",
              "3  Entire home/apt     89               1                270  2019-07-05   \n",
              "4  Entire home/apt     80              10                  9  2018-11-19   \n",
              "\n",
              "   reviews_per_month  calculated_host_listings_count  availability_365  \\\n",
              "0               0.21                               6               365   \n",
              "1               0.38                               2               355   \n",
              "2               0.00                               1               365   \n",
              "3               4.64                               1               194   \n",
              "4               0.10                               1                 0   \n",
              "\n",
              "  reviews_per_month_cat  availability_365_range classification  \\\n",
              "0                  Baja    Altamente disponible           Malo   \n",
              "1                  Baja    Altamente disponible           Malo   \n",
              "2                  Baja    Altamente disponible           Malo   \n",
              "3                  Alta  Disponible normalmente          Bueno   \n",
              "4                  Baja         Poco disponible          Bueno   \n",
              "\n",
              "   classification_num  \n",
              "0                0.25  \n",
              "1                0.25  \n",
              "2                0.25  \n",
              "3                0.75  \n",
              "4                0.75  "
            ],
            "text/html": [
              "\n",
              "  <div id=\"df-abaf2260-11fc-452d-a0d2-addb2da23bdc\">\n",
              "    <div class=\"colab-df-container\">\n",
              "      <div>\n",
              "<style scoped>\n",
              "    .dataframe tbody tr th:only-of-type {\n",
              "        vertical-align: middle;\n",
              "    }\n",
              "\n",
              "    .dataframe tbody tr th {\n",
              "        vertical-align: top;\n",
              "    }\n",
              "\n",
              "    .dataframe thead th {\n",
              "        text-align: right;\n",
              "    }\n",
              "</style>\n",
              "<table border=\"1\" class=\"dataframe\">\n",
              "  <thead>\n",
              "    <tr style=\"text-align: right;\">\n",
              "      <th></th>\n",
              "      <th>id</th>\n",
              "      <th>name</th>\n",
              "      <th>host_id</th>\n",
              "      <th>host_name</th>\n",
              "      <th>neighbourhood_group</th>\n",
              "      <th>neighbourhood</th>\n",
              "      <th>latitude</th>\n",
              "      <th>longitude</th>\n",
              "      <th>room_type</th>\n",
              "      <th>price</th>\n",
              "      <th>minimum_nights</th>\n",
              "      <th>number_of_reviews</th>\n",
              "      <th>last_review</th>\n",
              "      <th>reviews_per_month</th>\n",
              "      <th>calculated_host_listings_count</th>\n",
              "      <th>availability_365</th>\n",
              "      <th>reviews_per_month_cat</th>\n",
              "      <th>availability_365_range</th>\n",
              "      <th>classification</th>\n",
              "      <th>classification_num</th>\n",
              "    </tr>\n",
              "  </thead>\n",
              "  <tbody>\n",
              "    <tr>\n",
              "      <th>0</th>\n",
              "      <td>2539</td>\n",
              "      <td>Clean &amp; quiet apt home by the park</td>\n",
              "      <td>2787</td>\n",
              "      <td>John</td>\n",
              "      <td>Brooklyn</td>\n",
              "      <td>Kensington</td>\n",
              "      <td>40.64749</td>\n",
              "      <td>-73.97237</td>\n",
              "      <td>Private room</td>\n",
              "      <td>149</td>\n",
              "      <td>1</td>\n",
              "      <td>9</td>\n",
              "      <td>2018-10-19</td>\n",
              "      <td>0.21</td>\n",
              "      <td>6</td>\n",
              "      <td>365</td>\n",
              "      <td>Baja</td>\n",
              "      <td>Altamente disponible</td>\n",
              "      <td>Malo</td>\n",
              "      <td>0.25</td>\n",
              "    </tr>\n",
              "    <tr>\n",
              "      <th>1</th>\n",
              "      <td>2595</td>\n",
              "      <td>Skylit Midtown Castle</td>\n",
              "      <td>2845</td>\n",
              "      <td>Jennifer</td>\n",
              "      <td>Manhattan</td>\n",
              "      <td>Midtown</td>\n",
              "      <td>40.75362</td>\n",
              "      <td>-73.98377</td>\n",
              "      <td>Entire home/apt</td>\n",
              "      <td>225</td>\n",
              "      <td>1</td>\n",
              "      <td>45</td>\n",
              "      <td>2019-05-21</td>\n",
              "      <td>0.38</td>\n",
              "      <td>2</td>\n",
              "      <td>355</td>\n",
              "      <td>Baja</td>\n",
              "      <td>Altamente disponible</td>\n",
              "      <td>Malo</td>\n",
              "      <td>0.25</td>\n",
              "    </tr>\n",
              "    <tr>\n",
              "      <th>2</th>\n",
              "      <td>3647</td>\n",
              "      <td>THE VILLAGE OF HARLEM....NEW YORK !</td>\n",
              "      <td>4632</td>\n",
              "      <td>Elisabeth</td>\n",
              "      <td>Manhattan</td>\n",
              "      <td>Harlem</td>\n",
              "      <td>40.80902</td>\n",
              "      <td>-73.94190</td>\n",
              "      <td>Private room</td>\n",
              "      <td>150</td>\n",
              "      <td>3</td>\n",
              "      <td>0</td>\n",
              "      <td>NaN</td>\n",
              "      <td>0.00</td>\n",
              "      <td>1</td>\n",
              "      <td>365</td>\n",
              "      <td>Baja</td>\n",
              "      <td>Altamente disponible</td>\n",
              "      <td>Malo</td>\n",
              "      <td>0.25</td>\n",
              "    </tr>\n",
              "    <tr>\n",
              "      <th>3</th>\n",
              "      <td>3831</td>\n",
              "      <td>Cozy Entire Floor of Brownstone</td>\n",
              "      <td>4869</td>\n",
              "      <td>LisaRoxanne</td>\n",
              "      <td>Brooklyn</td>\n",
              "      <td>Clinton Hill</td>\n",
              "      <td>40.68514</td>\n",
              "      <td>-73.95976</td>\n",
              "      <td>Entire home/apt</td>\n",
              "      <td>89</td>\n",
              "      <td>1</td>\n",
              "      <td>270</td>\n",
              "      <td>2019-07-05</td>\n",
              "      <td>4.64</td>\n",
              "      <td>1</td>\n",
              "      <td>194</td>\n",
              "      <td>Alta</td>\n",
              "      <td>Disponible normalmente</td>\n",
              "      <td>Bueno</td>\n",
              "      <td>0.75</td>\n",
              "    </tr>\n",
              "    <tr>\n",
              "      <th>4</th>\n",
              "      <td>5022</td>\n",
              "      <td>Entire Apt: Spacious Studio/Loft by central park</td>\n",
              "      <td>7192</td>\n",
              "      <td>Laura</td>\n",
              "      <td>Manhattan</td>\n",
              "      <td>East Harlem</td>\n",
              "      <td>40.79851</td>\n",
              "      <td>-73.94399</td>\n",
              "      <td>Entire home/apt</td>\n",
              "      <td>80</td>\n",
              "      <td>10</td>\n",
              "      <td>9</td>\n",
              "      <td>2018-11-19</td>\n",
              "      <td>0.10</td>\n",
              "      <td>1</td>\n",
              "      <td>0</td>\n",
              "      <td>Baja</td>\n",
              "      <td>Poco disponible</td>\n",
              "      <td>Bueno</td>\n",
              "      <td>0.75</td>\n",
              "    </tr>\n",
              "  </tbody>\n",
              "</table>\n",
              "</div>\n",
              "      <button class=\"colab-df-convert\" onclick=\"convertToInteractive('df-abaf2260-11fc-452d-a0d2-addb2da23bdc')\"\n",
              "              title=\"Convert this dataframe to an interactive table.\"\n",
              "              style=\"display:none;\">\n",
              "        \n",
              "  <svg xmlns=\"http://www.w3.org/2000/svg\" height=\"24px\"viewBox=\"0 0 24 24\"\n",
              "       width=\"24px\">\n",
              "    <path d=\"M0 0h24v24H0V0z\" fill=\"none\"/>\n",
              "    <path d=\"M18.56 5.44l.94 2.06.94-2.06 2.06-.94-2.06-.94-.94-2.06-.94 2.06-2.06.94zm-11 1L8.5 8.5l.94-2.06 2.06-.94-2.06-.94L8.5 2.5l-.94 2.06-2.06.94zm10 10l.94 2.06.94-2.06 2.06-.94-2.06-.94-.94-2.06-.94 2.06-2.06.94z\"/><path d=\"M17.41 7.96l-1.37-1.37c-.4-.4-.92-.59-1.43-.59-.52 0-1.04.2-1.43.59L10.3 9.45l-7.72 7.72c-.78.78-.78 2.05 0 2.83L4 21.41c.39.39.9.59 1.41.59.51 0 1.02-.2 1.41-.59l7.78-7.78 2.81-2.81c.8-.78.8-2.07 0-2.86zM5.41 20L4 18.59l7.72-7.72 1.47 1.35L5.41 20z\"/>\n",
              "  </svg>\n",
              "      </button>\n",
              "      \n",
              "  <style>\n",
              "    .colab-df-container {\n",
              "      display:flex;\n",
              "      flex-wrap:wrap;\n",
              "      gap: 12px;\n",
              "    }\n",
              "\n",
              "    .colab-df-convert {\n",
              "      background-color: #E8F0FE;\n",
              "      border: none;\n",
              "      border-radius: 50%;\n",
              "      cursor: pointer;\n",
              "      display: none;\n",
              "      fill: #1967D2;\n",
              "      height: 32px;\n",
              "      padding: 0 0 0 0;\n",
              "      width: 32px;\n",
              "    }\n",
              "\n",
              "    .colab-df-convert:hover {\n",
              "      background-color: #E2EBFA;\n",
              "      box-shadow: 0px 1px 2px rgba(60, 64, 67, 0.3), 0px 1px 3px 1px rgba(60, 64, 67, 0.15);\n",
              "      fill: #174EA6;\n",
              "    }\n",
              "\n",
              "    [theme=dark] .colab-df-convert {\n",
              "      background-color: #3B4455;\n",
              "      fill: #D2E3FC;\n",
              "    }\n",
              "\n",
              "    [theme=dark] .colab-df-convert:hover {\n",
              "      background-color: #434B5C;\n",
              "      box-shadow: 0px 1px 3px 1px rgba(0, 0, 0, 0.15);\n",
              "      filter: drop-shadow(0px 1px 2px rgba(0, 0, 0, 0.3));\n",
              "      fill: #FFFFFF;\n",
              "    }\n",
              "  </style>\n",
              "\n",
              "      <script>\n",
              "        const buttonEl =\n",
              "          document.querySelector('#df-abaf2260-11fc-452d-a0d2-addb2da23bdc button.colab-df-convert');\n",
              "        buttonEl.style.display =\n",
              "          google.colab.kernel.accessAllowed ? 'block' : 'none';\n",
              "\n",
              "        async function convertToInteractive(key) {\n",
              "          const element = document.querySelector('#df-abaf2260-11fc-452d-a0d2-addb2da23bdc');\n",
              "          const dataTable =\n",
              "            await google.colab.kernel.invokeFunction('convertToInteractive',\n",
              "                                                     [key], {});\n",
              "          if (!dataTable) return;\n",
              "\n",
              "          const docLinkHtml = 'Like what you see? Visit the ' +\n",
              "            '<a target=\"_blank\" href=https://colab.research.google.com/notebooks/data_table.ipynb>data table notebook</a>'\n",
              "            + ' to learn more about interactive tables.';\n",
              "          element.innerHTML = '';\n",
              "          dataTable['output_type'] = 'display_data';\n",
              "          await google.colab.output.renderOutput(dataTable, element);\n",
              "          const docLink = document.createElement('div');\n",
              "          docLink.innerHTML = docLinkHtml;\n",
              "          element.appendChild(docLink);\n",
              "        }\n",
              "      </script>\n",
              "    </div>\n",
              "  </div>\n",
              "  "
            ]
          },
          "metadata": {},
          "execution_count": 45
        }
      ]
    },
    {
      "cell_type": "code",
      "source": [
        " disponibilidad_barrios=np.array(np.zeros(num_barrios))"
      ],
      "metadata": {
        "id": "g-LKp-arjHU_"
      },
      "id": "g-LKp-arjHU_",
      "execution_count": 46,
      "outputs": []
    },
    {
      "cell_type": "code",
      "source": [
        "filas=len(df.axes[0])\n",
        "d=np.array(np.zeros(num_barrios))\n",
        "for i in range(len(barrios)):\n",
        "  for j in range(filas):\n",
        "    if barrios[i]==df['neighbourhood'][j]:\n",
        "      disponibilidad_barrios[i]=disponibilidad_barrios[i]+df['reviews_per_month'][j]\n",
        "      d[i]=d[i]+1\n"
      ],
      "metadata": {
        "id": "NSYk0ELgqktX"
      },
      "id": "NSYk0ELgqktX",
      "execution_count": 47,
      "outputs": []
    },
    {
      "cell_type": "code",
      "source": [
        "disponibilidad_barrios=disponibilidad_barrios/d\n",
        "disponibilidad_barrios[1]"
      ],
      "metadata": {
        "id": "gfKcGfvqrXO_",
        "colab": {
          "base_uri": "https://localhost:8080/"
        },
        "outputId": "d880c2f7-e348-4b16-93ae-45a522952d30"
      },
      "id": "gfKcGfvqrXO_",
      "execution_count": 48,
      "outputs": [
        {
          "output_type": "execute_result",
          "data": {
            "text/plain": [
              "1.04"
            ]
          },
          "metadata": {},
          "execution_count": 48
        }
      ]
    },
    {
      "cell_type": "code",
      "source": [
        "disponibilidad_barrios[4]"
      ],
      "metadata": {
        "id": "GGu8EXRTs0RK",
        "colab": {
          "base_uri": "https://localhost:8080/"
        },
        "outputId": "61fdb170-1c26-4ddc-d073-5b2fc99ca60e"
      },
      "id": "GGu8EXRTs0RK",
      "execution_count": 49,
      "outputs": [
        {
          "output_type": "execute_result",
          "data": {
            "text/plain": [
              "1.001411111111112"
            ]
          },
          "metadata": {},
          "execution_count": 49
        }
      ]
    },
    {
      "cell_type": "code",
      "source": [
        "a=np.max(disponibilidad_barrios)\n",
        "a\n"
      ],
      "metadata": {
        "id": "ORzufNiGs7PU",
        "colab": {
          "base_uri": "https://localhost:8080/"
        },
        "outputId": "4e1a3ed8-9e60-49d4-9a18-72b76cb78d4c"
      },
      "id": "ORzufNiGs7PU",
      "execution_count": 50,
      "outputs": [
        {
          "output_type": "execute_result",
          "data": {
            "text/plain": [
              "4.458000000000003"
            ]
          },
          "metadata": {},
          "execution_count": 50
        }
      ]
    },
    {
      "cell_type": "markdown",
      "source": [
        "Por lo que ahora encontramos que tenemos: \n",
        "- disponibilidad_barrios: la media de disponibilidad por barrios \n",
        "- barrios: cada barrio sin repeticiones. \n",
        "\n",
        "Ahora, tal y como hicimos en el ejercicio anterior, deseamos unirlos, para así ordenarlos de mayor a menor, y tener constancia de los barrios ordenados. "
      ],
      "metadata": {
        "id": "fnWfc2BSviFe"
      },
      "id": "fnWfc2BSviFe"
    },
    {
      "cell_type": "code",
      "source": [
        "dis=np.append(barrios,disponibilidad_barrios,axis=0) "
      ],
      "metadata": {
        "id": "lLyleXn5wQJr"
      },
      "id": "lLyleXn5wQJr",
      "execution_count": 51,
      "outputs": []
    },
    {
      "cell_type": "code",
      "source": [
        "dis_ordenado=dis.reshape(2,221)\n",
        "dis_ordenado=dis_ordenado.transpose()"
      ],
      "metadata": {
        "id": "9bDEM_9ywcTG"
      },
      "id": "9bDEM_9ywcTG",
      "execution_count": 52,
      "outputs": []
    },
    {
      "cell_type": "code",
      "source": [
        "dis_orden=sorted(dis_ordenado, key=lambda x:x[1],reverse=True)"
      ],
      "metadata": {
        "id": "w9Cu42pkwosn"
      },
      "id": "w9Cu42pkwosn",
      "execution_count": 53,
      "outputs": []
    },
    {
      "cell_type": "code",
      "source": [
        "print(dis_orden)"
      ],
      "metadata": {
        "id": "-LeYq4UIwwCR",
        "colab": {
          "base_uri": "https://localhost:8080/"
        },
        "outputId": "e27ea5d7-9dbd-49ae-b063-43767aedfaa0"
      },
      "id": "-LeYq4UIwwCR",
      "execution_count": 54,
      "outputs": [
        {
          "output_type": "stream",
          "name": "stdout",
          "text": [
            "[array(['East Elmhurst', 4.458000000000003], dtype=object), array(['Silver Lake', 4.34], dtype=object), array(['Springfield Gardens', 4.193176470588235], dtype=object), array(['Rosebank', 3.8128571428571427], dtype=object), array(['Huguenot', 3.76], dtype=object), array(['Schuylerville', 3.1576923076923076], dtype=object), array(['South Ozone Park', 3.01975], dtype=object), array(['Jamaica Hills', 2.90125], dtype=object), array(['Queens Village', 2.684], dtype=object), array(['Fresh Meadows', 2.6468750000000005], dtype=object), array(['East Morrisania', 2.618], dtype=object), array(['Jamaica', 2.617142857142857], dtype=object), array(['Richmondtown', 2.56], dtype=object), array(['New Brighton', 2.416], dtype=object), array(['Whitestone', 2.4145454545454546], dtype=object), array(['Mariners Harbor', 2.39625], dtype=object), array(['Woodlawn', 2.3745454545454545], dtype=object), array(['New Springville', 2.3575], dtype=object), array(['Rosedale', 2.3169491525423735], dtype=object), array(['Richmond Hill', 2.284361702127659], dtype=object), array(['St. Albans', 2.283947368421053], dtype=object), array(['Pelham Gardens', 2.2053571428571432], dtype=object), array(['New Dorp Beach', 2.2], dtype=object), array(['Laurelton', 2.196111111111111], dtype=object), array(['Unionport', 2.172857142857143], dtype=object), array(['Mott Haven', 2.142833333333334], dtype=object), array(['Throgs Neck', 2.13125], dtype=object), array(['Mill Basin', 2.1275], dtype=object), array(['Tompkinsville', 2.107857142857143], dtype=object), array(['Jamaica Estates', 2.0878947368421055], dtype=object), array(['Dongan Hills', 2.0685714285714285], dtype=object), array(['Howard Beach', 2.0435000000000003], dtype=object), array(['Stapleton', 2.034444444444444], dtype=object), array(['Two Bridges', 1.9962500000000003], dtype=object), array(['Canarsie', 1.971360544217688], dtype=object), array(['Soundview', 1.9699999999999998], dtype=object), array(['Flushing', 1.9245305164319242], dtype=object), array(['Baychester', 1.8914285714285715], dtype=object), array(['College Point', 1.8778947368421053], dtype=object), array(['Wakefield', 1.874], dtype=object), array(['Cypress Hills', 1.855777777777778], dtype=object), array(['Woodhaven', 1.8513636363636359], dtype=object), array(['Corona', 1.84984375], dtype=object), array(['Bayside', 1.8320512820512818], dtype=object), array(['Glendale', 1.8211111111111118], dtype=object), array(['Williamsbridge', 1.8089999999999997], dtype=object), array(['Highbridge', 1.8011111111111116], dtype=object), array(['East New York', 1.7491743119266059], dtype=object), array(['South Beach', 1.74], dtype=object), array(['City Island', 1.7077777777777776], dtype=object), array(['Clifton', 1.7046666666666668], dtype=object), array(['Rossville', 1.69], dtype=object), array(['Middle Village', 1.665806451612903], dtype=object), array(['Eltingville', 1.6466666666666665], dtype=object), array(['Van Nest', 1.6327272727272728], dtype=object), array(['Allerton', 1.615714285714286], dtype=object), array(['Grant City', 1.615], dtype=object), array(['Bronxdale', 1.6142105263157895], dtype=object), array(['Neponsit', 1.5999999999999999], dtype=object), array(['Jackson Heights', 1.5767204301075275], dtype=object), array(['Belmont', 1.5733333333333333], dtype=object), array(['Dyker Heights', 1.5733333333333333], dtype=object), array(['Pelham Bay', 1.5370588235294116], dtype=object), array(['Graniteville', 1.5333333333333332], dtype=object), array(['Arverne', 1.5154545454545458], dtype=object), array(['Port Morris', 1.5100000000000002], dtype=object), array(['Brownsville', 1.5006557377049181], dtype=object), array(['Bergen Beach', 1.4940000000000002], dtype=object), array(['Mount Eden', 1.4866666666666666], dtype=object), array(['Ozone Park', 1.4850000000000003], dtype=object), array(['St. George', 1.4814583333333333], dtype=object), array(['Concourse', 1.4719999999999995], dtype=object), array(['Maspeth', 1.468090909090909], dtype=object), array(['East Flatbush', 1.4541800000000007], dtype=object), array(['Westchester Square', 1.453], dtype=object), array([\"Hell's Kitchen\", 1.439627170582227], dtype=object), array(['Randall Manor', 1.428421052631579], dtype=object), array(['Rockaway Beach', 1.4269642857142855], dtype=object), array(['Longwood', 1.4243548387096774], dtype=object), array(['Bath Beach', 1.421764705882353], dtype=object), array(['East Harlem', 1.4136615935541619], dtype=object), array(['Hollis', 1.4114285714285715], dtype=object), array(['Concord', 1.3961538461538463], dtype=object), array(['Clason Point', 1.3738095238095238], dtype=object), array(['Rego Park', 1.3529245283018865], dtype=object), array(['Briarwood', 1.3524999999999996], dtype=object), array(['Sheepshead Bay', 1.3505487804878047], dtype=object), array(['Elmhurst', 1.3455274261603372], dtype=object), array(['Brighton Beach', 1.3454666666666666], dtype=object), array(['Theater District', 1.3191666666666668], dtype=object), array(['Morris Heights', 1.3176470588235294], dtype=object), array(['Bedford-Stuyvesant', 1.3124717285945058], dtype=object), array(['Edenwald', 1.3000000000000003], dtype=object), array(['Bensonhurst', 1.2878666666666663], dtype=object), array(['Manhattan Beach', 1.28375], dtype=object), array(['West Brighton', 1.2833333333333334], dtype=object), array(['Bay Ridge', 1.280354609929078], dtype=object), array(['Flatlands', 1.280120481927711], dtype=object), array(['Bayswater', 1.2723529411764707], dtype=object), array(['Parkchester', 1.2679487179487179], dtype=object), array(['Cambria Heights', 1.2661538461538462], dtype=object), array(['Kingsbridge', 1.2568571428571427], dtype=object), array(['Morris Park', 1.2413333333333334], dtype=object), array(['Kew Gardens Hills', 1.2396153846153848], dtype=object), array(['Woodside', 1.2223404255319155], dtype=object), array([\"Bull's Head\", 1.2116666666666667], dtype=object), array(['Douglaston', 1.20875], dtype=object), array(['Ditmars Steinway', 1.2070226537216833], dtype=object), array(['Chinatown', 1.1943206521739127], dtype=object), array(['Port Richmond', 1.1800000000000002], dtype=object), array(['Red Hook', 1.17746835443038], dtype=object), array(['Gowanus', 1.174331983805668], dtype=object), array(['Lighthouse Hill', 1.165], dtype=object), array(['Long Island City', 1.1468528864059586], dtype=object), array(['Fordham', 1.1468253968253967], dtype=object), array(['Sunnyside', 1.1403581267217633], dtype=object), array(['Tremont', 1.1309090909090909], dtype=object), array(['Prospect-Lefferts Gardens', 1.1281869158878488], dtype=object), array(['Mount Hope', 1.1219999999999999], dtype=object), array(['Hunts Point', 1.1216666666666668], dtype=object), array(['Emerson Hill', 1.1199999999999999], dtype=object), array(['Harlem', 1.1122009029345368], dtype=object), array(['University Heights', 1.1095238095238096], dtype=object), array(['Claremont Village', 1.0989285714285715], dtype=object), array(['Kew Gardens', 1.0975000000000001], dtype=object), array(['Melrose', 1.076], dtype=object), array(['Cobble Hill', 1.0710101010101014], dtype=object), array(['Bushwick', 1.0679553752535487], dtype=object), array(['South Slope', 1.0623591549295779], dtype=object), array(['Arrochar', 1.060952380952381], dtype=object), array(['Borough Park', 1.0553676470588234], dtype=object), array(['Forest Hills', 1.0551388888888895], dtype=object), array(['Concourse Village', 1.0499999999999998], dtype=object), array(['Arden Heights', 1.04], dtype=object), array(['Little Italy', 1.028181818181818], dtype=object), array(['Belle Harbor', 1.0275], dtype=object), array(['Grymes Hill', 1.0271428571428571], dtype=object), array(['Sunset Park', 1.0193076923076927], dtype=object), array(['Ridgewood', 1.0178250591016553], dtype=object), array(['Financial District', 1.010806451612903], dtype=object), array(['Lower East Side', 1.0098024149286493], dtype=object), array(['Far Rockaway', 1.0041379310344827], dtype=object), array(['Astoria', 1.001411111111112], dtype=object), array(['Crown Heights', 0.9979667519181575], dtype=object), array(['Great Kills', 0.99], dtype=object), array(['Windsor Terrace', 0.9860509554140128], dtype=object), array(['Washington Heights', 0.9751946607341495], dtype=object), array(['Castleton Corners', 0.965], dtype=object), array(['Coney Island', 0.9570588235294117], dtype=object), array(['Edgemere', 0.950909090909091], dtype=object), array(['Prospect Heights', 0.947843137254902], dtype=object), array([\"Prince's Bay\", 0.9425], dtype=object), array(['Bay Terrace', 0.9366666666666666], dtype=object), array(['Chelsea', 0.9334141958670263], dtype=object), array(['Fieldston', 0.9291666666666667], dtype=object), array(['SoHo', 0.9208100558659217], dtype=object), array(['DUMBO', 0.9180555555555553], dtype=object), array(['Carroll Gardens', 0.9166952789699568], dtype=object), array(['Roosevelt Island', 0.9087012987012983], dtype=object), array(['Flatiron District', 0.907125], dtype=object), array(['East Village', 0.9003777657852126], dtype=object), array(['Gravesend', 0.9002941176470588], dtype=object), array(['Flatbush', 0.8889855072463767], dtype=object), array(['Norwood', 0.8883870967741935], dtype=object), array(['Nolita', 0.8876284584980232], dtype=object), array(['Williamsburg', 0.8866760204081608], dtype=object), array(['Todt Hill', 0.8825], dtype=object), array(['Gramercy', 0.8721301775147932], dtype=object), array(['Park Slope', 0.8581225296442696], dtype=object), array(['Upper East Side', 0.8474193548387093], dtype=object), array(['Columbia St', 0.840952380952381], dtype=object), array(['Riverdale', 0.84], dtype=object), array(['Boerum Hill', 0.8358757062146893], dtype=object), array(['Fort Greene', 0.832719836400818], dtype=object), array(['Kensington', 0.831314285714286], dtype=object), array(['Tottenville', 0.8185714285714286], dtype=object), array(['Midtown', 0.8181812297734629], dtype=object), array(['Clinton Hill', 0.8164335664335667], dtype=object), array(['Willowbrook', 0.8], dtype=object), array(['Morrisania', 0.7655555555555555], dtype=object), array(['Inwood', 0.7640873015873019], dtype=object), array(['Kips Bay', 0.7586170212765954], dtype=object), array(['North Riverdale', 0.755], dtype=object), array(['Spuyten Duyvil', 0.755], dtype=object), array(['Upper West Side', 0.7545763571790971], dtype=object), array(['West Village', 0.7501953124999997], dtype=object), array(['Navy Yard', 0.7371428571428573], dtype=object), array(['Morningside Heights', 0.7221387283236995], dtype=object), array(['Greenwich Village', 0.7201275510204085], dtype=object), array(['Olinville', 0.7175], dtype=object), array(['Brooklyn Heights', 0.7174675324675323], dtype=object), array(['Oakwood', 0.7140000000000001], dtype=object), array(['Greenpoint', 0.7038923766816148], dtype=object), array(['Stuyvesant Town', 0.6989189189189189], dtype=object), array(['Midwood', 0.6944954128440368], dtype=object), array(['Fort Hamilton', 0.6907272727272727], dtype=object), array(['Downtown Brooklyn', 0.654457831325301], dtype=object), array(['Murray Hill', 0.6479587628865977], dtype=object), array(['NoHo', 0.6374358974358975], dtype=object), array(['Vinegar Hill', 0.6344117647058823], dtype=object), array(['Shore Acres', 0.6185714285714285], dtype=object), array(['Castle Hill', 0.6166666666666667], dtype=object), array(['Midland Beach', 0.6116666666666667], dtype=object), array(['Marble Hill', 0.6033333333333334], dtype=object), array(['Howland Hook', 0.57], dtype=object), array(['Tribeca', 0.5188700564971752], dtype=object), array(['Westerleigh', 0.505], dtype=object), array(['Bellerose', 0.47285714285714286], dtype=object), array(['Bay Terrace, Staten Island', 0.45499999999999996], dtype=object), array(['Civic Center', 0.4475], dtype=object), array(['West Farms', 0.395], dtype=object), array(['Eastchester', 0.3507692307692307], dtype=object), array(['Battery Park City', 0.3474285714285714], dtype=object), array(['Co-op City', 0.245], dtype=object), array(['Holliswood', 0.20750000000000002], dtype=object), array(['Little Neck', 0.2], dtype=object), array(['Sea Gate', 0.18857142857142858], dtype=object), array(['Breezy Point', 0.14666666666666664], dtype=object), array(['Fort Wadsworth', 0.0], dtype=object), array(['New Dorp', 0.0], dtype=object), array(['Woodrow', 0.0], dtype=object)]\n"
          ]
        }
      ]
    },
    {
      "cell_type": "markdown",
      "source": [
        "Por lo que en 'dis_orden' encontramos ordenado de mayor a menor, cada barrio con su disponibilidad de media correspondiente. \n",
        "\n",
        "Tomaremos los 5 mayores, y los representaremos en un mediante un diagrama burbuja. "
      ],
      "metadata": {
        "id": "iCFHUREpwyuG"
      },
      "id": "iCFHUREpwyuG"
    },
    {
      "cell_type": "markdown",
      "source": [
        "##Bubble sort"
      ],
      "metadata": {
        "id": "Z8GmTjEXogSX"
      },
      "id": "Z8GmTjEXogSX"
    },
    {
      "cell_type": "markdown",
      "source": [
        "- x_barrios: los 5 barrios más populares en términos de disponibilidad\n",
        "- y_barrios: la calidad de los apartamentos de cada barrio correspondiente. \n",
        "- s_barrios: disponibilidad de los apartamentos de cada barrio correspondiente. "
      ],
      "metadata": {
        "id": "6-Q9ITG9xYyA"
      },
      "id": "6-Q9ITG9xYyA"
    },
    {
      "cell_type": "markdown",
      "source": [
        "Comencemos por la variable x_barrios: "
      ],
      "metadata": {
        "id": "bCPaTB-ox6e-"
      },
      "id": "bCPaTB-ox6e-"
    },
    {
      "cell_type": "code",
      "source": [
        "x_barrios = [row[0] for row in dis_orden[:5]]\n",
        "print(\"Los primeros 5 barrios son:\", x_barrios)"
      ],
      "metadata": {
        "id": "AuD6gIQAx-SR",
        "colab": {
          "base_uri": "https://localhost:8080/"
        },
        "outputId": "c19d8a00-0bf4-4239-fe73-47cbedfd6bc6"
      },
      "id": "AuD6gIQAx-SR",
      "execution_count": 55,
      "outputs": [
        {
          "output_type": "stream",
          "name": "stdout",
          "text": [
            "Los primeros 5 barrios son: ['East Elmhurst', 'Silver Lake', 'Springfield Gardens', 'Rosebank', 'Huguenot']\n"
          ]
        }
      ]
    },
    {
      "cell_type": "markdown",
      "source": [
        "Continuamos con la variable y_barrios: "
      ],
      "metadata": {
        "id": "1pDecAbe1DJl"
      },
      "id": "1pDecAbe1DJl"
    },
    {
      "cell_type": "code",
      "source": [
        "# y = calidad de los apartamentos (classification) \n",
        "#será de tamaño igual que x_barrios: \n",
        "y_barrios = np.zeros(np.array(x_barrios).shape)\n"
      ],
      "metadata": {
        "id": "f0QoQ89HXSMS"
      },
      "id": "f0QoQ89HXSMS",
      "execution_count": 56,
      "outputs": []
    },
    {
      "cell_type": "code",
      "source": [
        "y_barrios"
      ],
      "metadata": {
        "colab": {
          "base_uri": "https://localhost:8080/"
        },
        "id": "z1leRkDxX3Ej",
        "outputId": "bd93f97a-3c16-4e0c-bcf1-75d574c0691c"
      },
      "id": "z1leRkDxX3Ej",
      "execution_count": 57,
      "outputs": [
        {
          "output_type": "execute_result",
          "data": {
            "text/plain": [
              "array([0., 0., 0., 0., 0.])"
            ]
          },
          "metadata": {},
          "execution_count": 57
        }
      ]
    },
    {
      "cell_type": "code",
      "source": [
        "filas = len(df.axes[0])\n",
        "n = np.zeros(np.array(x_barrios).shape)\n",
        "for i in range(len(x_barrios)):\n",
        "  for j in range(filas):\n",
        "    if x_barrios[i]==df['neighbourhood'][j]:\n",
        "      y_barrios[i]=y_barrios[i]+df['classification_num'][j]\n",
        "      n[i]=n[i]+1"
      ],
      "metadata": {
        "id": "MJ8EXYcoZMzg"
      },
      "id": "MJ8EXYcoZMzg",
      "execution_count": 58,
      "outputs": []
    },
    {
      "cell_type": "code",
      "source": [
        "y_barrios"
      ],
      "metadata": {
        "colab": {
          "base_uri": "https://localhost:8080/"
        },
        "id": "AQjdhxmbZiui",
        "outputId": "a6017f06-e480-4f7d-866e-df2551f920ae"
      },
      "id": "AQjdhxmbZiui",
      "execution_count": 59,
      "outputs": [
        {
          "output_type": "execute_result",
          "data": {
            "text/plain": [
              "array([106.  ,   1.  ,  39.25,   3.25,   1.75])"
            ]
          },
          "metadata": {},
          "execution_count": 59
        }
      ]
    },
    {
      "cell_type": "code",
      "source": [
        "y_barrios = y_barrios / n"
      ],
      "metadata": {
        "id": "fcoLQXrhaQ70"
      },
      "id": "fcoLQXrhaQ70",
      "execution_count": 60,
      "outputs": []
    },
    {
      "cell_type": "code",
      "source": [
        "y_barrios"
      ],
      "metadata": {
        "colab": {
          "base_uri": "https://localhost:8080/"
        },
        "id": "3WBPjRnIaz14",
        "outputId": "af49ba74-26bc-4de7-e505-69832f444a90"
      },
      "id": "3WBPjRnIaz14",
      "execution_count": 61,
      "outputs": [
        {
          "output_type": "execute_result",
          "data": {
            "text/plain": [
              "array([0.57297297, 0.5       , 0.46176471, 0.46428571, 0.58333333])"
            ]
          },
          "metadata": {},
          "execution_count": 61
        }
      ]
    },
    {
      "cell_type": "markdown",
      "source": [
        "Continuamos con la variable s_barrios:"
      ],
      "metadata": {
        "id": "lQri-RpvbPwR"
      },
      "id": "lQri-RpvbPwR"
    },
    {
      "cell_type": "code",
      "source": [
        "df.head()"
      ],
      "metadata": {
        "colab": {
          "base_uri": "https://localhost:8080/",
          "height": 461
        },
        "id": "v-wDx9XYhNFD",
        "outputId": "afe0a1b0-137f-460d-ee03-448a5589827f"
      },
      "id": "v-wDx9XYhNFD",
      "execution_count": 62,
      "outputs": [
        {
          "output_type": "execute_result",
          "data": {
            "text/plain": [
              "     id                                              name  host_id  \\\n",
              "0  2539                Clean & quiet apt home by the park     2787   \n",
              "1  2595                             Skylit Midtown Castle     2845   \n",
              "2  3647               THE VILLAGE OF HARLEM....NEW YORK !     4632   \n",
              "3  3831                   Cozy Entire Floor of Brownstone     4869   \n",
              "4  5022  Entire Apt: Spacious Studio/Loft by central park     7192   \n",
              "\n",
              "     host_name neighbourhood_group neighbourhood  latitude  longitude  \\\n",
              "0         John            Brooklyn    Kensington  40.64749  -73.97237   \n",
              "1     Jennifer           Manhattan       Midtown  40.75362  -73.98377   \n",
              "2    Elisabeth           Manhattan        Harlem  40.80902  -73.94190   \n",
              "3  LisaRoxanne            Brooklyn  Clinton Hill  40.68514  -73.95976   \n",
              "4        Laura           Manhattan   East Harlem  40.79851  -73.94399   \n",
              "\n",
              "         room_type  price  minimum_nights  number_of_reviews last_review  \\\n",
              "0     Private room    149               1                  9  2018-10-19   \n",
              "1  Entire home/apt    225               1                 45  2019-05-21   \n",
              "2     Private room    150               3                  0         NaN   \n",
              "3  Entire home/apt     89               1                270  2019-07-05   \n",
              "4  Entire home/apt     80              10                  9  2018-11-19   \n",
              "\n",
              "   reviews_per_month  calculated_host_listings_count  availability_365  \\\n",
              "0               0.21                               6               365   \n",
              "1               0.38                               2               355   \n",
              "2               0.00                               1               365   \n",
              "3               4.64                               1               194   \n",
              "4               0.10                               1                 0   \n",
              "\n",
              "  reviews_per_month_cat  availability_365_range classification  \\\n",
              "0                  Baja    Altamente disponible           Malo   \n",
              "1                  Baja    Altamente disponible           Malo   \n",
              "2                  Baja    Altamente disponible           Malo   \n",
              "3                  Alta  Disponible normalmente          Bueno   \n",
              "4                  Baja         Poco disponible          Bueno   \n",
              "\n",
              "   classification_num  \n",
              "0                0.25  \n",
              "1                0.25  \n",
              "2                0.25  \n",
              "3                0.75  \n",
              "4                0.75  "
            ],
            "text/html": [
              "\n",
              "  <div id=\"df-7dee03ac-4320-4bf0-8f52-62884437d3e9\">\n",
              "    <div class=\"colab-df-container\">\n",
              "      <div>\n",
              "<style scoped>\n",
              "    .dataframe tbody tr th:only-of-type {\n",
              "        vertical-align: middle;\n",
              "    }\n",
              "\n",
              "    .dataframe tbody tr th {\n",
              "        vertical-align: top;\n",
              "    }\n",
              "\n",
              "    .dataframe thead th {\n",
              "        text-align: right;\n",
              "    }\n",
              "</style>\n",
              "<table border=\"1\" class=\"dataframe\">\n",
              "  <thead>\n",
              "    <tr style=\"text-align: right;\">\n",
              "      <th></th>\n",
              "      <th>id</th>\n",
              "      <th>name</th>\n",
              "      <th>host_id</th>\n",
              "      <th>host_name</th>\n",
              "      <th>neighbourhood_group</th>\n",
              "      <th>neighbourhood</th>\n",
              "      <th>latitude</th>\n",
              "      <th>longitude</th>\n",
              "      <th>room_type</th>\n",
              "      <th>price</th>\n",
              "      <th>minimum_nights</th>\n",
              "      <th>number_of_reviews</th>\n",
              "      <th>last_review</th>\n",
              "      <th>reviews_per_month</th>\n",
              "      <th>calculated_host_listings_count</th>\n",
              "      <th>availability_365</th>\n",
              "      <th>reviews_per_month_cat</th>\n",
              "      <th>availability_365_range</th>\n",
              "      <th>classification</th>\n",
              "      <th>classification_num</th>\n",
              "    </tr>\n",
              "  </thead>\n",
              "  <tbody>\n",
              "    <tr>\n",
              "      <th>0</th>\n",
              "      <td>2539</td>\n",
              "      <td>Clean &amp; quiet apt home by the park</td>\n",
              "      <td>2787</td>\n",
              "      <td>John</td>\n",
              "      <td>Brooklyn</td>\n",
              "      <td>Kensington</td>\n",
              "      <td>40.64749</td>\n",
              "      <td>-73.97237</td>\n",
              "      <td>Private room</td>\n",
              "      <td>149</td>\n",
              "      <td>1</td>\n",
              "      <td>9</td>\n",
              "      <td>2018-10-19</td>\n",
              "      <td>0.21</td>\n",
              "      <td>6</td>\n",
              "      <td>365</td>\n",
              "      <td>Baja</td>\n",
              "      <td>Altamente disponible</td>\n",
              "      <td>Malo</td>\n",
              "      <td>0.25</td>\n",
              "    </tr>\n",
              "    <tr>\n",
              "      <th>1</th>\n",
              "      <td>2595</td>\n",
              "      <td>Skylit Midtown Castle</td>\n",
              "      <td>2845</td>\n",
              "      <td>Jennifer</td>\n",
              "      <td>Manhattan</td>\n",
              "      <td>Midtown</td>\n",
              "      <td>40.75362</td>\n",
              "      <td>-73.98377</td>\n",
              "      <td>Entire home/apt</td>\n",
              "      <td>225</td>\n",
              "      <td>1</td>\n",
              "      <td>45</td>\n",
              "      <td>2019-05-21</td>\n",
              "      <td>0.38</td>\n",
              "      <td>2</td>\n",
              "      <td>355</td>\n",
              "      <td>Baja</td>\n",
              "      <td>Altamente disponible</td>\n",
              "      <td>Malo</td>\n",
              "      <td>0.25</td>\n",
              "    </tr>\n",
              "    <tr>\n",
              "      <th>2</th>\n",
              "      <td>3647</td>\n",
              "      <td>THE VILLAGE OF HARLEM....NEW YORK !</td>\n",
              "      <td>4632</td>\n",
              "      <td>Elisabeth</td>\n",
              "      <td>Manhattan</td>\n",
              "      <td>Harlem</td>\n",
              "      <td>40.80902</td>\n",
              "      <td>-73.94190</td>\n",
              "      <td>Private room</td>\n",
              "      <td>150</td>\n",
              "      <td>3</td>\n",
              "      <td>0</td>\n",
              "      <td>NaN</td>\n",
              "      <td>0.00</td>\n",
              "      <td>1</td>\n",
              "      <td>365</td>\n",
              "      <td>Baja</td>\n",
              "      <td>Altamente disponible</td>\n",
              "      <td>Malo</td>\n",
              "      <td>0.25</td>\n",
              "    </tr>\n",
              "    <tr>\n",
              "      <th>3</th>\n",
              "      <td>3831</td>\n",
              "      <td>Cozy Entire Floor of Brownstone</td>\n",
              "      <td>4869</td>\n",
              "      <td>LisaRoxanne</td>\n",
              "      <td>Brooklyn</td>\n",
              "      <td>Clinton Hill</td>\n",
              "      <td>40.68514</td>\n",
              "      <td>-73.95976</td>\n",
              "      <td>Entire home/apt</td>\n",
              "      <td>89</td>\n",
              "      <td>1</td>\n",
              "      <td>270</td>\n",
              "      <td>2019-07-05</td>\n",
              "      <td>4.64</td>\n",
              "      <td>1</td>\n",
              "      <td>194</td>\n",
              "      <td>Alta</td>\n",
              "      <td>Disponible normalmente</td>\n",
              "      <td>Bueno</td>\n",
              "      <td>0.75</td>\n",
              "    </tr>\n",
              "    <tr>\n",
              "      <th>4</th>\n",
              "      <td>5022</td>\n",
              "      <td>Entire Apt: Spacious Studio/Loft by central park</td>\n",
              "      <td>7192</td>\n",
              "      <td>Laura</td>\n",
              "      <td>Manhattan</td>\n",
              "      <td>East Harlem</td>\n",
              "      <td>40.79851</td>\n",
              "      <td>-73.94399</td>\n",
              "      <td>Entire home/apt</td>\n",
              "      <td>80</td>\n",
              "      <td>10</td>\n",
              "      <td>9</td>\n",
              "      <td>2018-11-19</td>\n",
              "      <td>0.10</td>\n",
              "      <td>1</td>\n",
              "      <td>0</td>\n",
              "      <td>Baja</td>\n",
              "      <td>Poco disponible</td>\n",
              "      <td>Bueno</td>\n",
              "      <td>0.75</td>\n",
              "    </tr>\n",
              "  </tbody>\n",
              "</table>\n",
              "</div>\n",
              "      <button class=\"colab-df-convert\" onclick=\"convertToInteractive('df-7dee03ac-4320-4bf0-8f52-62884437d3e9')\"\n",
              "              title=\"Convert this dataframe to an interactive table.\"\n",
              "              style=\"display:none;\">\n",
              "        \n",
              "  <svg xmlns=\"http://www.w3.org/2000/svg\" height=\"24px\"viewBox=\"0 0 24 24\"\n",
              "       width=\"24px\">\n",
              "    <path d=\"M0 0h24v24H0V0z\" fill=\"none\"/>\n",
              "    <path d=\"M18.56 5.44l.94 2.06.94-2.06 2.06-.94-2.06-.94-.94-2.06-.94 2.06-2.06.94zm-11 1L8.5 8.5l.94-2.06 2.06-.94-2.06-.94L8.5 2.5l-.94 2.06-2.06.94zm10 10l.94 2.06.94-2.06 2.06-.94-2.06-.94-.94-2.06-.94 2.06-2.06.94z\"/><path d=\"M17.41 7.96l-1.37-1.37c-.4-.4-.92-.59-1.43-.59-.52 0-1.04.2-1.43.59L10.3 9.45l-7.72 7.72c-.78.78-.78 2.05 0 2.83L4 21.41c.39.39.9.59 1.41.59.51 0 1.02-.2 1.41-.59l7.78-7.78 2.81-2.81c.8-.78.8-2.07 0-2.86zM5.41 20L4 18.59l7.72-7.72 1.47 1.35L5.41 20z\"/>\n",
              "  </svg>\n",
              "      </button>\n",
              "      \n",
              "  <style>\n",
              "    .colab-df-container {\n",
              "      display:flex;\n",
              "      flex-wrap:wrap;\n",
              "      gap: 12px;\n",
              "    }\n",
              "\n",
              "    .colab-df-convert {\n",
              "      background-color: #E8F0FE;\n",
              "      border: none;\n",
              "      border-radius: 50%;\n",
              "      cursor: pointer;\n",
              "      display: none;\n",
              "      fill: #1967D2;\n",
              "      height: 32px;\n",
              "      padding: 0 0 0 0;\n",
              "      width: 32px;\n",
              "    }\n",
              "\n",
              "    .colab-df-convert:hover {\n",
              "      background-color: #E2EBFA;\n",
              "      box-shadow: 0px 1px 2px rgba(60, 64, 67, 0.3), 0px 1px 3px 1px rgba(60, 64, 67, 0.15);\n",
              "      fill: #174EA6;\n",
              "    }\n",
              "\n",
              "    [theme=dark] .colab-df-convert {\n",
              "      background-color: #3B4455;\n",
              "      fill: #D2E3FC;\n",
              "    }\n",
              "\n",
              "    [theme=dark] .colab-df-convert:hover {\n",
              "      background-color: #434B5C;\n",
              "      box-shadow: 0px 1px 3px 1px rgba(0, 0, 0, 0.15);\n",
              "      filter: drop-shadow(0px 1px 2px rgba(0, 0, 0, 0.3));\n",
              "      fill: #FFFFFF;\n",
              "    }\n",
              "  </style>\n",
              "\n",
              "      <script>\n",
              "        const buttonEl =\n",
              "          document.querySelector('#df-7dee03ac-4320-4bf0-8f52-62884437d3e9 button.colab-df-convert');\n",
              "        buttonEl.style.display =\n",
              "          google.colab.kernel.accessAllowed ? 'block' : 'none';\n",
              "\n",
              "        async function convertToInteractive(key) {\n",
              "          const element = document.querySelector('#df-7dee03ac-4320-4bf0-8f52-62884437d3e9');\n",
              "          const dataTable =\n",
              "            await google.colab.kernel.invokeFunction('convertToInteractive',\n",
              "                                                     [key], {});\n",
              "          if (!dataTable) return;\n",
              "\n",
              "          const docLinkHtml = 'Like what you see? Visit the ' +\n",
              "            '<a target=\"_blank\" href=https://colab.research.google.com/notebooks/data_table.ipynb>data table notebook</a>'\n",
              "            + ' to learn more about interactive tables.';\n",
              "          element.innerHTML = '';\n",
              "          dataTable['output_type'] = 'display_data';\n",
              "          await google.colab.output.renderOutput(dataTable, element);\n",
              "          const docLink = document.createElement('div');\n",
              "          docLink.innerHTML = docLinkHtml;\n",
              "          element.appendChild(docLink);\n",
              "        }\n",
              "      </script>\n",
              "    </div>\n",
              "  </div>\n",
              "  "
            ]
          },
          "metadata": {},
          "execution_count": 62
        }
      ]
    },
    {
      "cell_type": "code",
      "source": [
        "s_barrios = np.zeros(np.array(x_barrios).shape)\n",
        "filas = len(df.axes[0])\n",
        "n = np.zeros(np.array(x_barrios).shape)\n",
        "for i in range(len(x_barrios)):\n",
        "  for j in range(filas):\n",
        "    if x_barrios[i]==df['neighbourhood'][j]:\n",
        "      s_barrios[i]=s_barrios[i]+df['reviews_per_month'][j]\n",
        "      n[i]=n[i]+1"
      ],
      "metadata": {
        "id": "3p1H7WBobnKS"
      },
      "id": "3p1H7WBobnKS",
      "execution_count": 63,
      "outputs": []
    },
    {
      "cell_type": "code",
      "source": [
        "s_barrios = s_barrios / n"
      ],
      "metadata": {
        "id": "MEOY_NEAbz-v"
      },
      "id": "MEOY_NEAbz-v",
      "execution_count": 64,
      "outputs": []
    },
    {
      "cell_type": "code",
      "source": [
        "s_barrios"
      ],
      "metadata": {
        "colab": {
          "base_uri": "https://localhost:8080/"
        },
        "id": "2eJronHjb322",
        "outputId": "eb697c35-c8f4-463a-9814-bee9c6fb285a"
      },
      "id": "2eJronHjb322",
      "execution_count": 65,
      "outputs": [
        {
          "output_type": "execute_result",
          "data": {
            "text/plain": [
              "array([4.458     , 4.34      , 4.19317647, 3.81285714, 3.76      ])"
            ]
          },
          "metadata": {},
          "execution_count": 65
        }
      ]
    },
    {
      "cell_type": "markdown",
      "source": [
        "Contar problema que hemos tenido con la disponibilidad-> cuanta menos disponibilidad-> mejor -> menos disponibilidad implica 0 días disponibles al año -> toma los 5 mejores (encontramos 0) -> size será 0. "
      ],
      "metadata": {
        "id": "7IB6DZTFhXFA"
      },
      "id": "7IB6DZTFhXFA"
    },
    {
      "cell_type": "code",
      "source": [
        "#Bubble Plot BARRIO1. The size of points changes based on a third variable\n",
        "# x = barrio (ya tenemos una variable de los barrios)\n",
        "# y = calidad de los apartamentos (classification)\n",
        "# s = reseñas \n",
        "#los tres tendrán tamaño del vector (5x1)\n",
        "sns.scatterplot(x=x_barrios,y=y_barrios,size=s_barrios, color='red', sizes=(20,300)) \n",
        "plt.show()"
      ],
      "metadata": {
        "colab": {
          "base_uri": "https://localhost:8080/",
          "height": 265
        },
        "id": "-qEe7xSrbiKm",
        "outputId": "2af0af0e-d429-4289-bda8-7bc0648f45d1"
      },
      "id": "-qEe7xSrbiKm",
      "execution_count": 66,
      "outputs": [
        {
          "output_type": "display_data",
          "data": {
            "text/plain": [
              "<Figure size 432x288 with 1 Axes>"
            ],
            "image/png": "[encoded data removed]"
          },
          "metadata": {
            "needs_background": "light"
          }
        }
      ]
    },
    {
      "cell_type": "markdown",
      "source": [
        "#EJERCICIO 3"
      ],
      "metadata": {
        "id": "hzYraWnUmAVI"
      },
      "id": "hzYraWnUmAVI"
    },
    {
      "cell_type": "markdown",
      "source": [
        "Una vez obtenida la información del apartado anterior, queremos tratar de entender las diferencias de precio entre alquilar un apartamento entero y una habitación privada. Usa los diagramas de cajas donde cada uno de los 5 barrios más populares está representado por una caja y haz una interpretación de los resultados."
      ],
      "metadata": {
        "id": "eJYt8qBctuGf"
      },
      "id": "eJYt8qBctuGf"
    },
    {
      "cell_type": "markdown",
      "source": [
        "##Estudio de datos"
      ],
      "metadata": {
        "id": "o2kb0wrgiGoo"
      },
      "id": "o2kb0wrgiGoo"
    },
    {
      "cell_type": "markdown",
      "source": [
        "vamos a ver cuántos tipos de habitación hay: "
      ],
      "metadata": {
        "id": "zRzVVcW8pvmr"
      },
      "id": "zRzVVcW8pvmr"
    },
    {
      "cell_type": "code",
      "source": [
        "df['room_type'].value_counts()"
      ],
      "metadata": {
        "colab": {
          "base_uri": "https://localhost:8080/"
        },
        "id": "COxuwVKypmOU",
        "outputId": "e5053a03-cafe-468d-d22f-dd176931c202"
      },
      "id": "COxuwVKypmOU",
      "execution_count": 67,
      "outputs": [
        {
          "output_type": "execute_result",
          "data": {
            "text/plain": [
              "Entire home/apt    25409\n",
              "Private room       22326\n",
              "Shared room         1160\n",
              "Name: room_type, dtype: int64"
            ]
          },
          "metadata": {},
          "execution_count": 67
        }
      ]
    },
    {
      "cell_type": "markdown",
      "source": [
        "Estudiemos la cantidad de NaN que encontramos en esta variable: "
      ],
      "metadata": {
        "id": "Um0fFHe4pzAO"
      },
      "id": "Um0fFHe4pzAO"
    },
    {
      "cell_type": "code",
      "source": [
        "room_type_nan = df['room_type'].isna().sum()\n",
        "print(room_type_nan)"
      ],
      "metadata": {
        "colab": {
          "base_uri": "https://localhost:8080/"
        },
        "id": "TndZpsHzp66z",
        "outputId": "5d4f5552-6d67-4137-ad8f-c42a907d1639"
      },
      "id": "TndZpsHzp66z",
      "execution_count": 68,
      "outputs": [
        {
          "output_type": "stream",
          "name": "stdout",
          "text": [
            "0\n"
          ]
        }
      ]
    },
    {
      "cell_type": "markdown",
      "source": [
        "Para trabajar más fácil, asociaremos cada categoría a un valor numércio."
      ],
      "metadata": {
        "id": "NMLAixs0qTvY"
      },
      "id": "NMLAixs0qTvY"
    },
    {
      "cell_type": "code",
      "source": [
        "df.loc[:,'room_type_num']=np.nan\n",
        "filas = len(df.axes[0])\n",
        "for i in range(filas): \n",
        "  if df['room_type'][i]=='Entire home/apt':\n",
        "    df['room_type_num'][i]=0 \n",
        "  elif df['room_type'][i]=='Private room':\n",
        "    df['room_type_num'][i]=1 \n",
        "  else: \n",
        "    df['room_type_num'][i]=0.5\n",
        "\n"
      ],
      "metadata": {
        "colab": {
          "base_uri": "https://localhost:8080/"
        },
        "id": "bijNOWH9urMB",
        "outputId": "c886c6c4-3da5-482c-bc86-acde7eaa6931"
      },
      "id": "bijNOWH9urMB",
      "execution_count": 69,
      "outputs": [
        {
          "output_type": "stream",
          "name": "stderr",
          "text": [
            "<ipython-input-69-586775fef070>:7: SettingWithCopyWarning: \n",
            "A value is trying to be set on a copy of a slice from a DataFrame\n",
            "\n",
            "See the caveats in the documentation: https://pandas.pydata.org/pandas-docs/stable/user_guide/indexing.html#returning-a-view-versus-a-copy\n",
            "  df['room_type_num'][i]=1\n",
            "<ipython-input-69-586775fef070>:5: SettingWithCopyWarning: \n",
            "A value is trying to be set on a copy of a slice from a DataFrame\n",
            "\n",
            "See the caveats in the documentation: https://pandas.pydata.org/pandas-docs/stable/user_guide/indexing.html#returning-a-view-versus-a-copy\n",
            "  df['room_type_num'][i]=0\n",
            "<ipython-input-69-586775fef070>:9: SettingWithCopyWarning: \n",
            "A value is trying to be set on a copy of a slice from a DataFrame\n",
            "\n",
            "See the caveats in the documentation: https://pandas.pydata.org/pandas-docs/stable/user_guide/indexing.html#returning-a-view-versus-a-copy\n",
            "  df['room_type_num'][i]=0.5\n"
          ]
        }
      ]
    },
    {
      "cell_type": "markdown",
      "source": [
        "Ahora estudiemos la distribución de esta: "
      ],
      "metadata": {
        "id": "VdIu_lJFqHov"
      },
      "id": "VdIu_lJFqHov"
    },
    {
      "cell_type": "code",
      "source": [
        "import matplotlib.pyplot as plt\n",
        "boxplot_room_type_num=df['room_type_num']\n",
        "plt.boxplot(boxplot_room_type_num)\n",
        "plt.title('Boxplot room_type_num apartamentos ')\n",
        "plt.show()"
      ],
      "metadata": {
        "colab": {
          "base_uri": "https://localhost:8080/",
          "height": 281
        },
        "id": "EFcsY00RqKqo",
        "outputId": "15d0f4ee-f0d7-425a-9c54-3a70f286117a"
      },
      "id": "EFcsY00RqKqo",
      "execution_count": 70,
      "outputs": [
        {
          "output_type": "display_data",
          "data": {
            "text/plain": [
              "<Figure size 432x288 with 1 Axes>"
            ],
            "image/png": "[encoded data removed]"
          },
          "metadata": {
            "needs_background": "light"
          }
        }
      ]
    },
    {
      "cell_type": "code",
      "source": [
        "from matplotlib.cbook import boxplot_stats \n",
        "stats = boxplot_stats(boxplot_room_type_num)\n",
        "stats = stats[0] \n",
        "outliers = stats['fliers']\n",
        "min = stats['q1']-1.5*stats['iqr']\n",
        "max = stats['q3']+1.5*stats['iqr']\n",
        "print(min, max, len(outliers))"
      ],
      "metadata": {
        "colab": {
          "base_uri": "https://localhost:8080/"
        },
        "id": "K9qy2yoFdFzG",
        "outputId": "5d7e5524-6efb-457e-ed78-79186fa91abc"
      },
      "id": "K9qy2yoFdFzG",
      "execution_count": 71,
      "outputs": [
        {
          "output_type": "stream",
          "name": "stdout",
          "text": [
            "-1.5 2.5 0\n"
          ]
        }
      ]
    },
    {
      "cell_type": "markdown",
      "source": [
        "Vemos por tanto gracias a 'Boxplot' que no encontramos ningún outlier. "
      ],
      "metadata": {
        "id": "8dZZ5YkmdOs0"
      },
      "id": "8dZZ5YkmdOs0"
    },
    {
      "cell_type": "code",
      "source": [
        "price_nan= df['price'].isna().sum()\n",
        "price_nan"
      ],
      "metadata": {
        "id": "dMQOZadj1Ot6",
        "outputId": "35ecf313-3a8b-4417-f1dd-f641d4b12f99",
        "colab": {
          "base_uri": "https://localhost:8080/"
        }
      },
      "id": "dMQOZadj1Ot6",
      "execution_count": 72,
      "outputs": [
        {
          "output_type": "execute_result",
          "data": {
            "text/plain": [
              "0"
            ]
          },
          "metadata": {},
          "execution_count": 72
        }
      ]
    },
    {
      "cell_type": "code",
      "source": [
        "import matplotlib.pyplot as plt\n",
        "boxplot_price=df['price']\n",
        "plt.boxplot(boxplot_price)\n",
        "plt.title('Boxplot price apartamentos ')\n",
        "plt.show()"
      ],
      "metadata": {
        "id": "LTYSTpW29qUF",
        "outputId": "48c39795-151a-4629-df2e-91bdb29a471f",
        "colab": {
          "base_uri": "https://localhost:8080/",
          "height": 281
        }
      },
      "id": "LTYSTpW29qUF",
      "execution_count": 73,
      "outputs": [
        {
          "output_type": "display_data",
          "data": {
            "text/plain": [
              "<Figure size 432x288 with 1 Axes>"
            ],
            "image/png": "[encoded data removed]"
          },
          "metadata": {
            "needs_background": "light"
          }
        }
      ]
    },
    {
      "cell_type": "code",
      "source": [
        "from matplotlib.cbook import boxplot_stats \n",
        "stats = boxplot_stats(boxplot_room_type_num)\n",
        "stats = stats[0] \n",
        "outliers = stats['fliers']\n",
        "min = stats['q1']-1.5*stats['iqr']\n",
        "max = stats['q3']+1.5*stats['iqr']\n",
        "print(min, max, len(outliers))"
      ],
      "metadata": {
        "id": "yA7Rj6O2920k",
        "outputId": "36171bca-5696-489c-8691-6bc07b808ea2",
        "colab": {
          "base_uri": "https://localhost:8080/"
        }
      },
      "id": "yA7Rj6O2920k",
      "execution_count": 74,
      "outputs": [
        {
          "output_type": "stream",
          "name": "stdout",
          "text": [
            "-1.5 2.5 0\n"
          ]
        }
      ]
    },
    {
      "cell_type": "markdown",
      "source": [
        "COMENTAR ESTO"
      ],
      "metadata": {
        "id": "oNHpaI0K97Sj"
      },
      "id": "oNHpaI0K97Sj"
    },
    {
      "cell_type": "markdown",
      "source": [
        "##Representación"
      ],
      "metadata": {
        "id": "b6ULbz1wiCEU"
      },
      "id": "b6ULbz1wiCEU"
    },
    {
      "cell_type": "markdown",
      "source": [
        "En el ejercicio anterior, ya creamos una variable llamada x_barrios, en la que guardamos los barrios más populares según el criterio de las reseñas. Reutilizaremos ese criterio en este ejericico. "
      ],
      "metadata": {
        "id": "vf32gdzCiJ5f"
      },
      "id": "vf32gdzCiJ5f"
    },
    {
      "cell_type": "markdown",
      "source": [
        "Por cada barrios, representaremos una caja, en el que sólo mostraremos aquellos apartamentos cuyo alquiler sea de tipo apartamento entero, "
      ],
      "metadata": {
        "id": "U69fPN88ih_-"
      },
      "id": "U69fPN88ih_-"
    },
    {
      "cell_type": "code",
      "source": [
        "# boxplot: (x=barrio; y=precio; hue=1 y 0)\n",
        "df.loc[df['room_type']!='Shared room',:]"
      ],
      "metadata": {
        "colab": {
          "base_uri": "https://localhost:8080/",
          "height": 852
        },
        "id": "yhOzSQJg652I",
        "outputId": "1ddae99b-31cd-4955-ed62-95247d32b324"
      },
      "id": "yhOzSQJg652I",
      "execution_count": 75,
      "outputs": [
        {
          "output_type": "execute_result",
          "data": {
            "text/plain": [
              "             id                                               name    host_id  \\\n",
              "0          2539                 Clean & quiet apt home by the park       2787   \n",
              "1          2595                              Skylit Midtown Castle       2845   \n",
              "2          3647                THE VILLAGE OF HARLEM....NEW YORK !       4632   \n",
              "3          3831                    Cozy Entire Floor of Brownstone       4869   \n",
              "4          5022   Entire Apt: Spacious Studio/Loft by central park       7192   \n",
              "...         ...                                                ...        ...   \n",
              "48889  36484363                                 QUIT PRIVATE HOUSE  107716952   \n",
              "48890  36484665    Charming one bedroom - newly renovated rowhouse    8232441   \n",
              "48891  36485057      Affordable room in Bushwick/East Williamsburg    6570630   \n",
              "48892  36485431            Sunny Studio at Historical Neighborhood   23492952   \n",
              "48894  36487245  Trendy duplex in the very heart of Hell's Kitchen   68119814   \n",
              "\n",
              "           host_name neighbourhood_group       neighbourhood  latitude  \\\n",
              "0               John            Brooklyn          Kensington  40.64749   \n",
              "1           Jennifer           Manhattan             Midtown  40.75362   \n",
              "2          Elisabeth           Manhattan              Harlem  40.80902   \n",
              "3        LisaRoxanne            Brooklyn        Clinton Hill  40.68514   \n",
              "4              Laura           Manhattan         East Harlem  40.79851   \n",
              "...              ...                 ...                 ...       ...   \n",
              "48889        Michael              Queens             Jamaica  40.69137   \n",
              "48890        Sabrina            Brooklyn  Bedford-Stuyvesant  40.67853   \n",
              "48891        Marisol            Brooklyn            Bushwick  40.70184   \n",
              "48892  Ilgar & Aysel           Manhattan              Harlem  40.81475   \n",
              "48894     Christophe           Manhattan      Hell's Kitchen  40.76404   \n",
              "\n",
              "       longitude        room_type  price  ...  number_of_reviews  last_review  \\\n",
              "0      -73.97237     Private room    149  ...                  9   2018-10-19   \n",
              "1      -73.98377  Entire home/apt    225  ...                 45   2019-05-21   \n",
              "2      -73.94190     Private room    150  ...                  0          NaN   \n",
              "3      -73.95976  Entire home/apt     89  ...                270   2019-07-05   \n",
              "4      -73.94399  Entire home/apt     80  ...                  9   2018-11-19   \n",
              "...          ...              ...    ...  ...                ...          ...   \n",
              "48889  -73.80844     Private room     65  ...                  0          NaN   \n",
              "48890  -73.94995     Private room     70  ...                  0          NaN   \n",
              "48891  -73.93317     Private room     40  ...                  0          NaN   \n",
              "48892  -73.94867  Entire home/apt    115  ...                  0          NaN   \n",
              "48894  -73.98933     Private room     90  ...                  0          NaN   \n",
              "\n",
              "      reviews_per_month  calculated_host_listings_count  availability_365  \\\n",
              "0                  0.21                               6               365   \n",
              "1                  0.38                               2               355   \n",
              "2                  0.00                               1               365   \n",
              "3                  4.64                               1               194   \n",
              "4                  0.10                               1                 0   \n",
              "...                 ...                             ...               ...   \n",
              "48889              0.00                               2               163   \n",
              "48890              0.00                               2                 9   \n",
              "48891              0.00                               2                36   \n",
              "48892              0.00                               1                27   \n",
              "48894              0.00                               1                23   \n",
              "\n",
              "       reviews_per_month_cat  availability_365_range classification  \\\n",
              "0                       Baja    Altamente disponible           Malo   \n",
              "1                       Baja    Altamente disponible           Malo   \n",
              "2                       Baja    Altamente disponible           Malo   \n",
              "3                       Alta  Disponible normalmente          Bueno   \n",
              "4                       Baja         Poco disponible          Bueno   \n",
              "...                      ...                     ...            ...   \n",
              "48889                   Baja  Disponible normalmente        Regular   \n",
              "48890                   Baja         Poco disponible          Bueno   \n",
              "48891                   Baja         Poco disponible          Bueno   \n",
              "48892                   Baja         Poco disponible          Bueno   \n",
              "48894                   Baja         Poco disponible          Bueno   \n",
              "\n",
              "      classification_num  room_type_num  \n",
              "0                   0.25            1.0  \n",
              "1                   0.25            0.0  \n",
              "2                   0.25            1.0  \n",
              "3                   0.75            0.0  \n",
              "4                   0.75            0.0  \n",
              "...                  ...            ...  \n",
              "48889               0.50            1.0  \n",
              "48890               0.75            1.0  \n",
              "48891               0.75            1.0  \n",
              "48892               0.75            0.0  \n",
              "48894               0.75            1.0  \n",
              "\n",
              "[47735 rows x 21 columns]"
            ],
            "text/html": [
              "\n",
              "  <div id=\"df-5ae001bf-05e2-488b-aae8-3e52fa24134d\">\n",
              "    <div class=\"colab-df-container\">\n",
              "      <div>\n",
              "<style scoped>\n",
              "    .dataframe tbody tr th:only-of-type {\n",
              "        vertical-align: middle;\n",
              "    }\n",
              "\n",
              "    .dataframe tbody tr th {\n",
              "        vertical-align: top;\n",
              "    }\n",
              "\n",
              "    .dataframe thead th {\n",
              "        text-align: right;\n",
              "    }\n",
              "</style>\n",
              "<table border=\"1\" class=\"dataframe\">\n",
              "  <thead>\n",
              "    <tr style=\"text-align: right;\">\n",
              "      <th></th>\n",
              "      <th>id</th>\n",
              "      <th>name</th>\n",
              "      <th>host_id</th>\n",
              "      <th>host_name</th>\n",
              "      <th>neighbourhood_group</th>\n",
              "      <th>neighbourhood</th>\n",
              "      <th>latitude</th>\n",
              "      <th>longitude</th>\n",
              "      <th>room_type</th>\n",
              "      <th>price</th>\n",
              "      <th>...</th>\n",
              "      <th>number_of_reviews</th>\n",
              "      <th>last_review</th>\n",
              "      <th>reviews_per_month</th>\n",
              "      <th>calculated_host_listings_count</th>\n",
              "      <th>availability_365</th>\n",
              "      <th>reviews_per_month_cat</th>\n",
              "      <th>availability_365_range</th>\n",
              "      <th>classification</th>\n",
              "      <th>classification_num</th>\n",
              "      <th>room_type_num</th>\n",
              "    </tr>\n",
              "  </thead>\n",
              "  <tbody>\n",
              "    <tr>\n",
              "      <th>0</th>\n",
              "      <td>2539</td>\n",
              "      <td>Clean &amp; quiet apt home by the park</td>\n",
              "      <td>2787</td>\n",
              "      <td>John</td>\n",
              "      <td>Brooklyn</td>\n",
              "      <td>Kensington</td>\n",
              "      <td>40.64749</td>\n",
              "      <td>-73.97237</td>\n",
              "      <td>Private room</td>\n",
              "      <td>149</td>\n",
              "      <td>...</td>\n",
              "      <td>9</td>\n",
              "      <td>2018-10-19</td>\n",
              "      <td>0.21</td>\n",
              "      <td>6</td>\n",
              "      <td>365</td>\n",
              "      <td>Baja</td>\n",
              "      <td>Altamente disponible</td>\n",
              "      <td>Malo</td>\n",
              "      <td>0.25</td>\n",
              "      <td>1.0</td>\n",
              "    </tr>\n",
              "    <tr>\n",
              "      <th>1</th>\n",
              "      <td>2595</td>\n",
              "      <td>Skylit Midtown Castle</td>\n",
              "      <td>2845</td>\n",
              "      <td>Jennifer</td>\n",
              "      <td>Manhattan</td>\n",
              "      <td>Midtown</td>\n",
              "      <td>40.75362</td>\n",
              "      <td>-73.98377</td>\n",
              "      <td>Entire home/apt</td>\n",
              "      <td>225</td>\n",
              "      <td>...</td>\n",
              "      <td>45</td>\n",
              "      <td>2019-05-21</td>\n",
              "      <td>0.38</td>\n",
              "      <td>2</td>\n",
              "      <td>355</td>\n",
              "      <td>Baja</td>\n",
              "      <td>Altamente disponible</td>\n",
              "      <td>Malo</td>\n",
              "      <td>0.25</td>\n",
              "      <td>0.0</td>\n",
              "    </tr>\n",
              "    <tr>\n",
              "      <th>2</th>\n",
              "      <td>3647</td>\n",
              "      <td>THE VILLAGE OF HARLEM....NEW YORK !</td>\n",
              "      <td>4632</td>\n",
              "      <td>Elisabeth</td>\n",
              "      <td>Manhattan</td>\n",
              "      <td>Harlem</td>\n",
              "      <td>40.80902</td>\n",
              "      <td>-73.94190</td>\n",
              "      <td>Private room</td>\n",
              "      <td>150</td>\n",
              "      <td>...</td>\n",
              "      <td>0</td>\n",
              "      <td>NaN</td>\n",
              "      <td>0.00</td>\n",
              "      <td>1</td>\n",
              "      <td>365</td>\n",
              "      <td>Baja</td>\n",
              "      <td>Altamente disponible</td>\n",
              "      <td>Malo</td>\n",
              "      <td>0.25</td>\n",
              "      <td>1.0</td>\n",
              "    </tr>\n",
              "    <tr>\n",
              "      <th>3</th>\n",
              "      <td>3831</td>\n",
              "      <td>Cozy Entire Floor of Brownstone</td>\n",
              "      <td>4869</td>\n",
              "      <td>LisaRoxanne</td>\n",
              "      <td>Brooklyn</td>\n",
              "      <td>Clinton Hill</td>\n",
              "      <td>40.68514</td>\n",
              "      <td>-73.95976</td>\n",
              "      <td>Entire home/apt</td>\n",
              "      <td>89</td>\n",
              "      <td>...</td>\n",
              "      <td>270</td>\n",
              "      <td>2019-07-05</td>\n",
              "      <td>4.64</td>\n",
              "      <td>1</td>\n",
              "      <td>194</td>\n",
              "      <td>Alta</td>\n",
              "      <td>Disponible normalmente</td>\n",
              "      <td>Bueno</td>\n",
              "      <td>0.75</td>\n",
              "      <td>0.0</td>\n",
              "    </tr>\n",
              "    <tr>\n",
              "      <th>4</th>\n",
              "      <td>5022</td>\n",
              "      <td>Entire Apt: Spacious Studio/Loft by central park</td>\n",
              "      <td>7192</td>\n",
              "      <td>Laura</td>\n",
              "      <td>Manhattan</td>\n",
              "      <td>East Harlem</td>\n",
              "      <td>40.79851</td>\n",
              "      <td>-73.94399</td>\n",
              "      <td>Entire home/apt</td>\n",
              "      <td>80</td>\n",
              "      <td>...</td>\n",
              "      <td>9</td>\n",
              "      <td>2018-11-19</td>\n",
              "      <td>0.10</td>\n",
              "      <td>1</td>\n",
              "      <td>0</td>\n",
              "      <td>Baja</td>\n",
              "      <td>Poco disponible</td>\n",
              "      <td>Bueno</td>\n",
              "      <td>0.75</td>\n",
              "      <td>0.0</td>\n",
              "    </tr>\n",
              "    <tr>\n",
              "      <th>...</th>\n",
              "      <td>...</td>\n",
              "      <td>...</td>\n",
              "      <td>...</td>\n",
              "      <td>...</td>\n",
              "      <td>...</td>\n",
              "      <td>...</td>\n",
              "      <td>...</td>\n",
              "      <td>...</td>\n",
              "      <td>...</td>\n",
              "      <td>...</td>\n",
              "      <td>...</td>\n",
              "      <td>...</td>\n",
              "      <td>...</td>\n",
              "      <td>...</td>\n",
              "      <td>...</td>\n",
              "      <td>...</td>\n",
              "      <td>...</td>\n",
              "      <td>...</td>\n",
              "      <td>...</td>\n",
              "      <td>...</td>\n",
              "      <td>...</td>\n",
              "    </tr>\n",
              "    <tr>\n",
              "      <th>48889</th>\n",
              "      <td>36484363</td>\n",
              "      <td>QUIT PRIVATE HOUSE</td>\n",
              "      <td>107716952</td>\n",
              "      <td>Michael</td>\n",
              "      <td>Queens</td>\n",
              "      <td>Jamaica</td>\n",
              "      <td>40.69137</td>\n",
              "      <td>-73.80844</td>\n",
              "      <td>Private room</td>\n",
              "      <td>65</td>\n",
              "      <td>...</td>\n",
              "      <td>0</td>\n",
              "      <td>NaN</td>\n",
              "      <td>0.00</td>\n",
              "      <td>2</td>\n",
              "      <td>163</td>\n",
              "      <td>Baja</td>\n",
              "      <td>Disponible normalmente</td>\n",
              "      <td>Regular</td>\n",
              "      <td>0.50</td>\n",
              "      <td>1.0</td>\n",
              "    </tr>\n",
              "    <tr>\n",
              "      <th>48890</th>\n",
              "      <td>36484665</td>\n",
              "      <td>Charming one bedroom - newly renovated rowhouse</td>\n",
              "      <td>8232441</td>\n",
              "      <td>Sabrina</td>\n",
              "      <td>Brooklyn</td>\n",
              "      <td>Bedford-Stuyvesant</td>\n",
              "      <td>40.67853</td>\n",
              "      <td>-73.94995</td>\n",
              "      <td>Private room</td>\n",
              "      <td>70</td>\n",
              "      <td>...</td>\n",
              "      <td>0</td>\n",
              "      <td>NaN</td>\n",
              "      <td>0.00</td>\n",
              "      <td>2</td>\n",
              "      <td>9</td>\n",
              "      <td>Baja</td>\n",
              "      <td>Poco disponible</td>\n",
              "      <td>Bueno</td>\n",
              "      <td>0.75</td>\n",
              "      <td>1.0</td>\n",
              "    </tr>\n",
              "    <tr>\n",
              "      <th>48891</th>\n",
              "      <td>36485057</td>\n",
              "      <td>Affordable room in Bushwick/East Williamsburg</td>\n",
              "      <td>6570630</td>\n",
              "      <td>Marisol</td>\n",
              "      <td>Brooklyn</td>\n",
              "      <td>Bushwick</td>\n",
              "      <td>40.70184</td>\n",
              "      <td>-73.93317</td>\n",
              "      <td>Private room</td>\n",
              "      <td>40</td>\n",
              "      <td>...</td>\n",
              "      <td>0</td>\n",
              "      <td>NaN</td>\n",
              "      <td>0.00</td>\n",
              "      <td>2</td>\n",
              "      <td>36</td>\n",
              "      <td>Baja</td>\n",
              "      <td>Poco disponible</td>\n",
              "      <td>Bueno</td>\n",
              "      <td>0.75</td>\n",
              "      <td>1.0</td>\n",
              "    </tr>\n",
              "    <tr>\n",
              "      <th>48892</th>\n",
              "      <td>36485431</td>\n",
              "      <td>Sunny Studio at Historical Neighborhood</td>\n",
              "      <td>23492952</td>\n",
              "      <td>Ilgar &amp; Aysel</td>\n",
              "      <td>Manhattan</td>\n",
              "      <td>Harlem</td>\n",
              "      <td>40.81475</td>\n",
              "      <td>-73.94867</td>\n",
              "      <td>Entire home/apt</td>\n",
              "      <td>115</td>\n",
              "      <td>...</td>\n",
              "      <td>0</td>\n",
              "      <td>NaN</td>\n",
              "      <td>0.00</td>\n",
              "      <td>1</td>\n",
              "      <td>27</td>\n",
              "      <td>Baja</td>\n",
              "      <td>Poco disponible</td>\n",
              "      <td>Bueno</td>\n",
              "      <td>0.75</td>\n",
              "      <td>0.0</td>\n",
              "    </tr>\n",
              "    <tr>\n",
              "      <th>48894</th>\n",
              "      <td>36487245</td>\n",
              "      <td>Trendy duplex in the very heart of Hell's Kitchen</td>\n",
              "      <td>68119814</td>\n",
              "      <td>Christophe</td>\n",
              "      <td>Manhattan</td>\n",
              "      <td>Hell's Kitchen</td>\n",
              "      <td>40.76404</td>\n",
              "      <td>-73.98933</td>\n",
              "      <td>Private room</td>\n",
              "      <td>90</td>\n",
              "      <td>...</td>\n",
              "      <td>0</td>\n",
              "      <td>NaN</td>\n",
              "      <td>0.00</td>\n",
              "      <td>1</td>\n",
              "      <td>23</td>\n",
              "      <td>Baja</td>\n",
              "      <td>Poco disponible</td>\n",
              "      <td>Bueno</td>\n",
              "      <td>0.75</td>\n",
              "      <td>1.0</td>\n",
              "    </tr>\n",
              "  </tbody>\n",
              "</table>\n",
              "<p>47735 rows × 21 columns</p>\n",
              "</div>\n",
              "      <button class=\"colab-df-convert\" onclick=\"convertToInteractive('df-5ae001bf-05e2-488b-aae8-3e52fa24134d')\"\n",
              "              title=\"Convert this dataframe to an interactive table.\"\n",
              "              style=\"display:none;\">\n",
              "        \n",
              "  <svg xmlns=\"http://www.w3.org/2000/svg\" height=\"24px\"viewBox=\"0 0 24 24\"\n",
              "       width=\"24px\">\n",
              "    <path d=\"M0 0h24v24H0V0z\" fill=\"none\"/>\n",
              "    <path d=\"M18.56 5.44l.94 2.06.94-2.06 2.06-.94-2.06-.94-.94-2.06-.94 2.06-2.06.94zm-11 1L8.5 8.5l.94-2.06 2.06-.94-2.06-.94L8.5 2.5l-.94 2.06-2.06.94zm10 10l.94 2.06.94-2.06 2.06-.94-2.06-.94-.94-2.06-.94 2.06-2.06.94z\"/><path d=\"M17.41 7.96l-1.37-1.37c-.4-.4-.92-.59-1.43-.59-.52 0-1.04.2-1.43.59L10.3 9.45l-7.72 7.72c-.78.78-.78 2.05 0 2.83L4 21.41c.39.39.9.59 1.41.59.51 0 1.02-.2 1.41-.59l7.78-7.78 2.81-2.81c.8-.78.8-2.07 0-2.86zM5.41 20L4 18.59l7.72-7.72 1.47 1.35L5.41 20z\"/>\n",
              "  </svg>\n",
              "      </button>\n",
              "      \n",
              "  <style>\n",
              "    .colab-df-container {\n",
              "      display:flex;\n",
              "      flex-wrap:wrap;\n",
              "      gap: 12px;\n",
              "    }\n",
              "\n",
              "    .colab-df-convert {\n",
              "      background-color: #E8F0FE;\n",
              "      border: none;\n",
              "      border-radius: 50%;\n",
              "      cursor: pointer;\n",
              "      display: none;\n",
              "      fill: #1967D2;\n",
              "      height: 32px;\n",
              "      padding: 0 0 0 0;\n",
              "      width: 32px;\n",
              "    }\n",
              "\n",
              "    .colab-df-convert:hover {\n",
              "      background-color: #E2EBFA;\n",
              "      box-shadow: 0px 1px 2px rgba(60, 64, 67, 0.3), 0px 1px 3px 1px rgba(60, 64, 67, 0.15);\n",
              "      fill: #174EA6;\n",
              "    }\n",
              "\n",
              "    [theme=dark] .colab-df-convert {\n",
              "      background-color: #3B4455;\n",
              "      fill: #D2E3FC;\n",
              "    }\n",
              "\n",
              "    [theme=dark] .colab-df-convert:hover {\n",
              "      background-color: #434B5C;\n",
              "      box-shadow: 0px 1px 3px 1px rgba(0, 0, 0, 0.15);\n",
              "      filter: drop-shadow(0px 1px 2px rgba(0, 0, 0, 0.3));\n",
              "      fill: #FFFFFF;\n",
              "    }\n",
              "  </style>\n",
              "\n",
              "      <script>\n",
              "        const buttonEl =\n",
              "          document.querySelector('#df-5ae001bf-05e2-488b-aae8-3e52fa24134d button.colab-df-convert');\n",
              "        buttonEl.style.display =\n",
              "          google.colab.kernel.accessAllowed ? 'block' : 'none';\n",
              "\n",
              "        async function convertToInteractive(key) {\n",
              "          const element = document.querySelector('#df-5ae001bf-05e2-488b-aae8-3e52fa24134d');\n",
              "          const dataTable =\n",
              "            await google.colab.kernel.invokeFunction('convertToInteractive',\n",
              "                                                     [key], {});\n",
              "          if (!dataTable) return;\n",
              "\n",
              "          const docLinkHtml = 'Like what you see? Visit the ' +\n",
              "            '<a target=\"_blank\" href=https://colab.research.google.com/notebooks/data_table.ipynb>data table notebook</a>'\n",
              "            + ' to learn more about interactive tables.';\n",
              "          element.innerHTML = '';\n",
              "          dataTable['output_type'] = 'display_data';\n",
              "          await google.colab.output.renderOutput(dataTable, element);\n",
              "          const docLink = document.createElement('div');\n",
              "          docLink.innerHTML = docLinkHtml;\n",
              "          element.appendChild(docLink);\n",
              "        }\n",
              "      </script>\n",
              "    </div>\n",
              "  </div>\n",
              "  "
            ]
          },
          "metadata": {},
          "execution_count": 75
        }
      ]
    },
    {
      "cell_type": "markdown",
      "source": [
        "###Barrio 1"
      ],
      "metadata": {
        "id": "ZZ6PTOcb6itd"
      },
      "id": "ZZ6PTOcb6itd"
    },
    {
      "cell_type": "code",
      "source": [
        "y_precios_entire=np.zeros(1)\n",
        "filas = len(df.axes[0])\n",
        "for i in range(filas): \n",
        "  if x_barrios[0]==df['neighbourhood'][i] and df['room_type'][i]=='Entire home/apt':\n",
        "    y_precios_entire=np.append(y_precios_entire, df['price'][i])"
      ],
      "metadata": {
        "id": "n3jYli5dnHFA"
      },
      "id": "n3jYli5dnHFA",
      "execution_count": 105,
      "outputs": []
    },
    {
      "cell_type": "code",
      "source": [
        "y_precios_private=np.zeros(1)\n",
        "filas = len(df.axes[0])\n",
        "for i in range(filas): \n",
        "  if x_barrios[0]==df['neighbourhood'][i] and df['room_type'][i]=='Private room':\n",
        "    y_precios_private=np.append(y_precios_private, df['price'][i])\n"
      ],
      "metadata": {
        "id": "ixaO1kA1hx1M"
      },
      "execution_count": 108,
      "outputs": [],
      "id": "ixaO1kA1hx1M"
    },
    {
      "cell_type": "code",
      "source": [
        "data=[y_precios_entire,y_precios_private]\n",
        "plt.boxplot(data)\n",
        "plt.show()"
      ],
      "metadata": {
        "colab": {
          "base_uri": "https://localhost:8080/",
          "height": 580
        },
        "id": "m3bImaNtiOMb",
        "outputId": "f67dd6b3-b5ee-425e-af54-85e1e3573426"
      },
      "id": "m3bImaNtiOMb",
      "execution_count": 114,
      "outputs": [
        {
          "output_type": "stream",
          "name": "stderr",
          "text": [
            "/usr/local/lib/python3.8/dist-packages/matplotlib/cbook/__init__.py:1376: VisibleDeprecationWarning: Creating an ndarray from ragged nested sequences (which is a list-or-tuple of lists-or-tuples-or ndarrays with different lengths or shapes) is deprecated. If you meant to do this, you must specify 'dtype=object' when creating the ndarray.\n",
            "  X = np.atleast_1d(X.T if isinstance(X, np.ndarray) else np.asarray(X))\n"
          ]
        },
        {
          "output_type": "execute_result",
          "data": {
            "text/plain": [
              "{'whiskers': [<matplotlib.lines.Line2D at 0x7f9d501400d0>,\n",
              "  <matplotlib.lines.Line2D at 0x7f9d50140430>,\n",
              "  <matplotlib.lines.Line2D at 0x7f9d501498b0>,\n",
              "  <matplotlib.lines.Line2D at 0x7f9d50149c10>],\n",
              " 'caps': [<matplotlib.lines.Line2D at 0x7f9d50140790>,\n",
              "  <matplotlib.lines.Line2D at 0x7f9d50140af0>,\n",
              "  <matplotlib.lines.Line2D at 0x7f9d50149f70>,\n",
              "  <matplotlib.lines.Line2D at 0x7f9d50155310>],\n",
              " 'boxes': [<matplotlib.lines.Line2D at 0x7f9d501b0d30>,\n",
              "  <matplotlib.lines.Line2D at 0x7f9d50149550>],\n",
              " 'medians': [<matplotlib.lines.Line2D at 0x7f9d50140e50>,\n",
              "  <matplotlib.lines.Line2D at 0x7f9d50155670>],\n",
              " 'fliers': [<matplotlib.lines.Line2D at 0x7f9d50149190>,\n",
              "  <matplotlib.lines.Line2D at 0x7f9d50155970>],\n",
              " 'means': []}"
            ]
          },
          "metadata": {},
          "execution_count": 114
        },
        {
          "output_type": "display_data",
          "data": {
            "text/plain": [
              "<Figure size 432x288 with 1 Axes>"
            ],
            "image/png": "[encoded data removed]"
          },
          "metadata": {
            "needs_background": "light"
          }
        }
      ]
    },
    {
      "cell_type": "code",
      "source": [
        "#ESTO ES PARA APARTAMENTO ENTERO\n",
        "media1=np.mean(y_precios_entire)\n",
        "std1=np.std(y_precios_entire)\n",
        "mediana1=np.median(y_precios_entire) \n",
        "\n",
        "#ESTO PARA HABITACIÓN PRIVADA\n",
        "media2=np.mean(y_precios_private)\n",
        "std2=np.std(y_precios_private)\n",
        "mediana2=np.median(y_precios_private) "
      ],
      "metadata": {
        "id": "t1FJOR4_pgNl"
      },
      "id": "t1FJOR4_pgNl",
      "execution_count": 115,
      "outputs": []
    },
    {
      "cell_type": "code",
      "source": [
        "stats = boxplot_stats(data)\n",
        "stats = stats[0] \n",
        "outliers = stats['fliers']\n",
        "len(outliers)"
      ],
      "metadata": {
        "colab": {
          "base_uri": "https://localhost:8080/"
        },
        "id": "G_56zb_zqMoW",
        "outputId": "965f69cb-0056-48fe-8520-6a388adb43f5"
      },
      "id": "G_56zb_zqMoW",
      "execution_count": 117,
      "outputs": [
        {
          "output_type": "execute_result",
          "data": {
            "text/plain": [
              "6"
            ]
          },
          "metadata": {},
          "execution_count": 117
        }
      ]
    },
    {
      "cell_type": "markdown",
      "source": [
        "###Barrio 2"
      ],
      "metadata": {
        "id": "tzxjuyzS6k3j"
      },
      "id": "tzxjuyzS6k3j"
    },
    {
      "cell_type": "code",
      "source": [
        "y_precios_entire=np.zeros(1)\n",
        "filas = len(df.axes[0])\n",
        "for i in range(filas): \n",
        "  if x_barrios[1]==df['neighbourhood'][i] and df['room_type'][i]=='Entire home/apt':\n",
        "    y_precios_entire=np.append(y_precios_entire, df['price'][i])"
      ],
      "metadata": {
        "id": "Mhjg0-ejqh7Z"
      },
      "id": "Mhjg0-ejqh7Z",
      "execution_count": null,
      "outputs": []
    },
    {
      "cell_type": "code",
      "source": [
        "y_precios_private=np.zeros(1)\n",
        "filas = len(df.axes[0])\n",
        "for i in range(filas): \n",
        "  if x_barrios[1]==df['neighbourhood'][i] and df['room_type'][i]=='Private room':\n",
        "    y_precios_private=np.append(y_precios_private, df['price'][i])\n"
      ],
      "metadata": {
        "id": "9ftvZLMDqjE2"
      },
      "id": "9ftvZLMDqjE2",
      "execution_count": null,
      "outputs": []
    },
    {
      "cell_type": "code",
      "source": [
        "data=[y_precios_entire,y_precios_private]\n",
        "plt.boxplot(data)\n",
        "plt.show()"
      ],
      "metadata": {
        "id": "rNTGqDKYqnG8"
      },
      "id": "rNTGqDKYqnG8",
      "execution_count": null,
      "outputs": []
    },
    {
      "cell_type": "markdown",
      "source": [
        "###Barrio 3"
      ],
      "metadata": {
        "id": "UJWetQwM6nhT"
      },
      "id": "UJWetQwM6nhT"
    },
    {
      "cell_type": "markdown",
      "source": [
        "###Barrio 4"
      ],
      "metadata": {
        "id": "Hixu1h2q6oiZ"
      },
      "id": "Hixu1h2q6oiZ"
    },
    {
      "cell_type": "markdown",
      "source": [
        "###Barrio 5"
      ],
      "metadata": {
        "id": "jX5WmKy16pjS"
      },
      "id": "jX5WmKy16pjS"
    },
    {
      "cell_type": "markdown",
      "source": [
        "#EJERCICIO 4"
      ],
      "metadata": {
        "id": "rbNsTsHDmDiH"
      },
      "id": "rbNsTsHDmDiH"
    },
    {
      "cell_type": "markdown",
      "source": [
        "Por último, se intuye que la tendencia a dejar reseñas en las apps que prestan servicios, ha aumentado en los últimos años. Decide que diagrama es más útil para este caso. Dibújalo y realiza una interpretación del mismo. Tomaremos la fecha de la última reseña como el dato útil para realizar dicho caso."
      ],
      "metadata": {
        "id": "9BsU2eb2txZt"
      },
      "id": "9BsU2eb2txZt"
    }
  ],
  "metadata": {
    "kernelspec": {
      "display_name": "Python 3 (ipykernel)",
      "language": "python",
      "name": "python3"
    },
    "language_info": {
      "codemirror_mode": {
        "name": "ipython",
        "version": 3
      },
      "file_extension": ".py",
      "mimetype": "text/x-python",
      "name": "python",
      "nbconvert_exporter": "python",
      "pygments_lexer": "ipython3",
      "version": "3.9.13"
    },
    "colab": {
      "provenance": []
    },
    "accelerator": "GPU",
    "gpuClass": "standard"
  },
  "nbformat": 4,
  "nbformat_minor": 5
}